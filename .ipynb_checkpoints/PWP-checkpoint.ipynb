{
 "cells": [
  {
   "cell_type": "code",
   "execution_count": 2,
   "metadata": {},
   "outputs": [
    {
     "data": {
      "application/javascript": [
       "\"use strict\";\n",
       "\n",
       "CodeMirror.defineMode(\"text/minizinc\", function(config) {\n",
       "\n",
       "  var isOperatorChar = /[+\\-*=<>\\/]/;\n",
       "\n",
       "  var keywords = {\"array\":true,\n",
       "  \"bool\":true,\n",
       "  \"case\":true,\n",
       "  \"constraint\":true,\n",
       "  \"diff\":true,\n",
       "  \"div\":true,\n",
       "  \"else\":true,\n",
       "  \"elseif\":true,\n",
       "  \"endif\":true,\n",
       "  \"enum\":true,\n",
       "  \"false\":true,\n",
       "  \"float\":true,\n",
       "  \"function\":true,\n",
       "  \"if\":true,\n",
       "  \"in\":true,\n",
       "  \"include\":true,\n",
       "  \"int\":true,\n",
       "  \"intersect\":true,\n",
       "  \"let\":true,\n",
       "  \"list\":true,\n",
       "  \"maximize\":true,\n",
       "  \"minimize\":true,\n",
       "  \"mod\":true,\n",
       "  \"not\":true,\n",
       "  \"of\":true,\n",
       "  \"op\":true,\n",
       "  \"output\":true,\n",
       "  \"par\":true,\n",
       "  \"predicate\":true,\n",
       "  \"record\":true,\n",
       "  \"satisfy\":true,\n",
       "  \"set\":true,\n",
       "  \"solve\":true,\n",
       "  \"string\":true,\n",
       "  \"subset\":true,\n",
       "  \"superset\":true,\n",
       "  \"symdiff\":true,\n",
       "  \"test\":true,\n",
       "  \"then\":true,\n",
       "  \"true\":true,\n",
       "  \"tuple\":true,\n",
       "  \"type\":true,\n",
       "  \"union\":true,\n",
       "  \"var\":true,\n",
       "  \"where\":true,\n",
       "  \"xor\":true};\n",
       "\n",
       "  var punc = \":;,.(){}[]\";\n",
       "\n",
       "  function tokenBase(stream, state) {\n",
       "    var ch = stream.next();\n",
       "    if (ch == '\"') {\n",
       "      state.tokenize.push(tokenString);\n",
       "      return tokenString(stream, state);\n",
       "    }\n",
       "    if (/[\\d\\.]/.test(ch)) {\n",
       "      if (ch == \".\") {\n",
       "        stream.match(/^[0-9]+([eE][\\-+]?[0-9]+)?/);\n",
       "      } else if (ch == \"0\") {\n",
       "        stream.match(/^[xX][0-9a-fA-F]+/) || stream.match(/^0[0-7]+/);\n",
       "      } else {\n",
       "        stream.match(/^[0-9]*\\.?[0-9]*([eE][\\-+]?[0-9]+)?/);\n",
       "      }\n",
       "      return \"number\";\n",
       "    }\n",
       "    if (ch == \"/\") {\n",
       "      if (stream.eat(\"*\")) {\n",
       "        state.tokenize.push(tokenComment);\n",
       "        return tokenComment(stream, state);\n",
       "      }\n",
       "    }\n",
       "    if (ch == \"%\") {\n",
       "      stream.skipToEnd();\n",
       "      return \"comment\";\n",
       "    }\n",
       "    if (isOperatorChar.test(ch)) {\n",
       "      stream.eatWhile(isOperatorChar);\n",
       "      return \"operator\";\n",
       "    }\n",
       "    if (punc.indexOf(ch) > -1) {\n",
       "      return \"punctuation\";\n",
       "    }\n",
       "    stream.eatWhile(/[\\w\\$_\\xa1-\\uffff]/);\n",
       "    var cur = stream.current();\n",
       "    if (keywords.propertyIsEnumerable(cur)) {\n",
       "      return \"keyword\";\n",
       "    }\n",
       "    return \"variable\";\n",
       "  }\n",
       "\n",
       "  function tokenComment(stream, state) {\n",
       "    var maybeEnd = false, ch;\n",
       "    while (ch = stream.next()) {\n",
       "      if (ch == \"/\" && maybeEnd) {\n",
       "        state.tokenize.pop();\n",
       "        break;\n",
       "      }\n",
       "      maybeEnd = (ch == \"*\");\n",
       "    }\n",
       "    return \"comment\";\n",
       "  }\n",
       "\n",
       "  function tokenUntilClosingParen() {\n",
       "    var depth = 0;\n",
       "    return function(stream, state, prev) {\n",
       "      var inner = tokenBase(stream, state, prev);\n",
       "      console.log(\"untilClosing\",inner,stream.current());\n",
       "      if (inner == \"punctuation\") {\n",
       "        if (stream.current() == \"(\") {\n",
       "          ++depth;\n",
       "        } else if (stream.current() == \")\") {\n",
       "          if (depth == 0) {\n",
       "            stream.backUp(1)\n",
       "            state.tokenize.pop()\n",
       "            return state.tokenize[state.tokenize.length - 1](stream, state)\n",
       "          } else {\n",
       "            --depth;\n",
       "          }\n",
       "        }\n",
       "      }\n",
       "      return inner;\n",
       "    }\n",
       "  }\n",
       "\n",
       "  function tokenString(stream, state) {\n",
       "    var escaped = false, next, end = false;\n",
       "    while ((next = stream.next()) != null) {\n",
       "      if (next=='(' && escaped) {\n",
       "        state.tokenize.push(tokenUntilClosingParen());\n",
       "        return \"string\";\n",
       "      }\n",
       "      if (next == '\"' && !escaped) {end = true; break;}\n",
       "      escaped = !escaped && next == \"\\\\\";\n",
       "    }\n",
       "    if (end || !escaped)\n",
       "      state.tokenize.pop();\n",
       "    return \"string\";\n",
       "  }\n",
       "\n",
       "  return {\n",
       "    startState: function(basecolumn) {\n",
       "      return {\n",
       "        tokenize: []\n",
       "      };\n",
       "    },\n",
       "\n",
       "    token: function(stream, state) {\n",
       "      if (stream.eatSpace()) return null;\n",
       "      var style = (state.tokenize[state.tokenize.length - 1] || tokenBase)(stream, state);\n",
       "      console.log(\"token\",style);\n",
       "      return style;\n",
       "    },\n",
       "\n",
       "    blockCommentStart: \"/*\",\n",
       "    blockCommentEnd: \"*/\",\n",
       "    lineComment: \"%\"\n",
       "  };\n",
       "});\n",
       "\n",
       "CodeMirror.defineMIME(\"text/minizinc\", \"text/minizinc\");\n",
       "\n",
       "Jupyter.CodeCell.options_default.highlight_modes['magic_text/minizinc'] = {'reg':[/^%%minizinc/]} ;\n",
       "\n",
       "Jupyter.notebook.get_cells().map(function(cell){\n",
       "  if (cell.cell_type == 'code'){ cell.auto_highlight(); }\n",
       "}) ;\n"
      ],
      "text/plain": [
       "<IPython.core.display.Javascript object>"
      ]
     },
     "metadata": {},
     "output_type": "display_data"
    },
    {
     "name": "stdout",
     "output_type": "stream",
     "text": [
      "MiniZinc to FlatZinc converter, version 2.4.3, build 122680178\r\n",
      "Copyright (C) 2014-2020 Monash University, NICTA, Data61\n"
     ]
    }
   ],
   "source": [
    "%load_ext iminizinc\n",
    "%matplotlib inline\n",
    "\n",
    "import matplotlib.pyplot as plt\n",
    "import matplotlib.patches as patches\n",
    "import numpy as np\n",
    "import datetime"
   ]
  },
  {
   "cell_type": "markdown",
   "metadata": {},
   "source": [
    "<b> <h2> ACCESSORY FUNCTIONS </h2> </b>"
   ]
  },
  {
   "cell_type": "code",
   "execution_count": 3,
   "metadata": {},
   "outputs": [],
   "source": [
    "def read_instance(path):\n",
    "    file = open(path,\"r\").readlines()\n",
    "    pr_w , pr_h = tuple(map(int, file[0].rstrip(\"\\n\").split(\" \")))\n",
    "    n_pieces = int(file[1].rstrip(\"\\n\"))\n",
    "    L = []\n",
    "    for i in range(2, n_pieces + 2):\n",
    "        L.append(list(map(int, file[i].rstrip(\"\\n\").split(\" \"))))\n",
    "    return pr_w, pr_h, n_pieces, L"
   ]
  },
  {
   "cell_type": "code",
   "execution_count": 4,
   "metadata": {},
   "outputs": [],
   "source": [
    "def order_pieces(pieces, reverse=False):\n",
    "    areas = [p[0] * p[1] for p in pieces]\n",
    "    sorted_indices = sorted(range(len(areas)), key=lambda k: areas[k], reverse=reverse)\n",
    "    ordered_pieces = [pieces[i] for i in sorted_indices]\n",
    "    return ordered_pieces"
   ]
  },
  {
   "cell_type": "code",
   "execution_count": 5,
   "metadata": {},
   "outputs": [],
   "source": [
    "PRINT_FIRST_N_SOL = 100\n",
    "PRINT_LAST_N_SOL = 100\n",
    "PRINT_EVERY_N_SOL = 10000\n",
    "\n",
    "def graph_solution(pr_w, pr_h, n_pieces, pieces, q, colours=None):\n",
    "    if colours is None:\n",
    "        colours = np.random.rand(n_pieces, 3)\n",
    "    fig, ax = plt.subplots()\n",
    "    for i in range(n_pieces):\n",
    "        ax.add_patch(patches.Rectangle(\n",
    "            q[i],\n",
    "            pieces[i][0],\n",
    "            pieces[i][1],\n",
    "            facecolor=colours[i]\n",
    "        ))\n",
    "    ax.axis(\"equal\")\n",
    "    ax.xaxis.set_ticks(np.arange(0, pr_w+2, 2))\n",
    "    ax.set_xlim(0, pr_w)\n",
    "    ax.yaxis.set_ticks(np.arange(0, pr_h+2, 2))\n",
    "    ax.set_ylim(0, pr_h)\n",
    "    plt.show()\n",
    "    print(f\"Solution: {q}\")\n",
    "    print(f\"[w, h]:   {pieces}\\n\")\n",
    "\n",
    "    \n",
    "def update_dim_based_on_rot(l, rot):\n",
    "    c = []\n",
    "    for i, r in enumerate(rot):\n",
    "        if r == 1: #I have to invert the i-th value of l\n",
    "            c.append([l[i][1], l[i][0]])\n",
    "        else:\n",
    "            c.append([l[i][0], l[i][1]])\n",
    "\n",
    "    return c\n",
    "    \n",
    "\"\"\"\n",
    "Print the first PRINT_FIRST_N_SOL, the last PRINT_LAST_N_SOL solutions and in between every PRINT_EVERY_N_SOL solutions.\n",
    "\"\"\"\n",
    "def print_solutions(res, instance_info):\n",
    "    n_sol = len(res)\n",
    "    colours = np.random.rand(instance_info['n'], 3)\n",
    "    if not isinstance(res, list):\n",
    "        n_sol = 1\n",
    "        print(\"coords:   {}\".format(res[\"q\"]))\n",
    "        dim = instance_info['p']\n",
    "        if 'rot' in res: #I manage the printing with rotation   0:no rotation, 1:yes rotation\n",
    "            print(\"rotation: {}\".format(res[\"rot\"]))\n",
    "            dim = update_dim_based_on_rot(dim, res[\"rot\"])\n",
    "            \n",
    "        graph_solution(instance_info['w'], instance_info['h'], instance_info['n'], dim, res[\"q\"], colours)\n",
    "    else:\n",
    "        last_i = 0\n",
    "        for i, x in enumerate(res):\n",
    "            dim = []\n",
    "            if i < PRINT_FIRST_N_SOL or i >= (n_sol-PRINT_LAST_N_SOL) or ((i+1)%PRINT_EVERY_N_SOL == 0):\n",
    "                if i > last_i+1:\n",
    "                    print(\" ... \")\n",
    "                print(\"{} : {} \".format(i, x['q']))\n",
    "                \n",
    "                dim = instance_info['p']\n",
    "                if 'rot' in x: #I manage the printing with rotation   0:no rotation, 1:yes rotation\n",
    "                    print(\"rotation: {}\".format(x[\"rot\"]))\n",
    "                    dim = update_dim_based_on_rot(dim, x[\"rot\"])\n",
    "                \n",
    "                graph_solution(instance_info['w'], instance_info['h'], instance_info['n'], dim, x[\"q\"], colours)\n",
    "                last_i = i\n",
    "                \n",
    "                \n",
    "\n",
    "    print(\"Tot: {}\\n\".format(n_sol))"
   ]
  },
  {
   "cell_type": "markdown",
   "metadata": {},
   "source": [
    "<b> <h2> INPUT </h2> </b>"
   ]
  },
  {
   "cell_type": "code",
   "execution_count": 7,
   "metadata": {},
   "outputs": [],
   "source": [
    "model_name = \"pwp_v7\"\n",
    "instance_name = \"18x18\" #change here the instance"
   ]
  },
  {
   "cell_type": "markdown",
   "metadata": {},
   "source": [
    "<b> TEST 1 </b> (see report) <br>\n",
    "change instance_name manually <br>\n",
    "no-ord $\\;\\;$  => comment line \"L = order_pieces...\" <br>\n",
    "ord $\\;\\;\\;\\;\\;\\;$     => decr_order = <u>False</u> and apply ordering <br>\n",
    "decr-ord => decr_order = <u>True</u> and apply ordering"
   ]
  },
  {
   "cell_type": "markdown",
   "metadata": {},
   "source": [
    "<b> TEST 2 </b> (see report) <br>\n",
    "change instance_name manually <br>\n",
    "ord $\\;\\;\\;\\;\\;\\;$     => decr_order = <u>False</u> and apply ordering <br>\n",
    "decr-ord => decr_order = <u>True</u> and apply ordering <br>\n",
    "comment/uncomment the relative search_ann row inside the model(pwp_v7.mzn)"
   ]
  },
  {
   "cell_type": "code",
   "execution_count": null,
   "metadata": {},
   "outputs": [],
   "source": [
    "path = f\"CP/src/{instance_name}.txt\"\n",
    "pr_w, pr_h, n_pieces, L = read_instance(path)\n",
    "unordered_pieces = list(L)\n",
    "decr_order = True\n",
    "\n",
    "L = order_pieces(unordered_pieces, reverse=decr_order)\n",
    "\n",
    "solutions = %minizinc -a -s CP/pwp_v7.mzn -t 300000\n",
    "\n",
    "print_solutions(solutions, {'w': pr_w, 'h': pr_h, 'n': n_pieces, 'p': L})\n"
   ]
  },
  {
   "cell_type": "markdown",
   "metadata": {},
   "source": [
    "<b> TEST 3 </b> (see report) <br>\n",
    "comment/uncomment the relative search_ann row inside the model(pwp_v7.mzn)"
   ]
  },
  {
   "cell_type": "code",
   "execution_count": 6,
   "metadata": {},
   "outputs": [
    {
     "name": "stdout",
     "output_type": "stream",
     "text": [
      "|| === Instance 8x8 === ||\n",
      "%%%mzn-stat: nSolutions=1\n",
      "Solver output:\n",
      "Generated FlatZinc statistics:\n",
      "mzn-stat: paths=0\n",
      "mzn-stat: flatBoolVars=4\n",
      "mzn-stat: flatIntVars=13\n",
      "mzn-stat: flatBoolConstraints=2\n",
      "mzn-stat: flatIntConstraints=14\n",
      "mzn-stat: evaluatedHalfReifiedConstraints=4\n",
      "mzn-stat: method=\"satisfy\"\n",
      "mzn-stat: flatTime=0.161362\n",
      "mzn-stat-end\n",
      "mzn-stat: initTime=0.008\n",
      "mzn-stat: solveTime=0\n",
      "mzn-stat: solutions=1\n",
      "mzn-stat: variables=38\n",
      "mzn-stat: propagators=7\n",
      "mzn-stat: propagations=30\n",
      "mzn-stat: nodes=2\n",
      "mzn-stat: failures=0\n",
      "mzn-stat: restarts=0\n",
      "mzn-stat: peakDepth=1\n",
      "mzn-stat-end\n"
     ]
    },
    {
     "data": {
      "image/png": "[encoded data removed]",
      "text/plain": [
       "<Figure size 432x288 with 1 Axes>"
      ]
     },
     "metadata": {
      "needs_background": "light"
     },
     "output_type": "display_data"
    },
    {
     "name": "stdout",
     "output_type": "stream",
     "text": [
      "Solution: [[5, 0], [5, 3], [0, 5], [0, 0]]\n",
      "[w, h]:   [[3, 3], [3, 5], [5, 3], [5, 5]]\n",
      "\n",
      "Pieces: [[3, 3], [3, 5], [5, 3], [5, 5]]\n",
      "\n",
      "\n",
      "\n",
      "|| === Instance 9x9 === ||\n",
      "%%%mzn-stat: nSolutions=1\n",
      "Solver output:\n",
      "Generated FlatZinc statistics:\n",
      "mzn-stat: paths=0\n",
      "mzn-stat: flatBoolVars=40\n",
      "mzn-stat: flatIntVars=20\n",
      "mzn-stat: flatBoolConstraints=10\n",
      "mzn-stat: flatIntConstraints=53\n",
      "mzn-stat: evaluatedHalfReifiedConstraints=40\n",
      "mzn-stat: method=\"satisfy\"\n",
      "mzn-stat: flatTime=0.164215\n",
      "mzn-stat-end\n",
      "mzn-stat: initTime=0.01\n",
      "mzn-stat: solveTime=0\n",
      "mzn-stat: solutions=1\n",
      "mzn-stat: variables=64\n",
      "mzn-stat: propagators=51\n",
      "mzn-stat: propagations=154\n",
      "mzn-stat: nodes=6\n",
      "mzn-stat: failures=0\n",
      "mzn-stat: restarts=0\n",
      "mzn-stat: peakDepth=5\n",
      "mzn-stat-end\n"
     ]
    },
    {
     "data": {
      "image/png": "[encoded data removed]",
      "text/plain": [
       "<Figure size 432x288 with 1 Axes>"
      ]
     },
     "metadata": {
      "needs_background": "light"
     },
     "output_type": "display_data"
    },
    {
     "name": "stdout",
     "output_type": "stream",
     "text": [
      "Solution: [[3, 0], [6, 5], [6, 0], [3, 3], [0, 0]]\n",
      "[w, h]:   [[3, 3], [3, 4], [3, 5], [3, 6], [3, 9]]\n",
      "\n",
      "Pieces: [[3, 3], [3, 4], [3, 5], [3, 6], [3, 9]]\n",
      "\n",
      "\n",
      "\n",
      "|| === Instance 10x10 === ||\n",
      "%%%mzn-stat: nSolutions=1\n",
      "Solver output:\n",
      "Generated FlatZinc statistics:\n",
      "mzn-stat: paths=0\n",
      "mzn-stat: flatBoolVars=58\n",
      "mzn-stat: flatIntVars=23\n",
      "mzn-stat: flatBoolConstraints=15\n",
      "mzn-stat: flatIntConstraints=74\n",
      "mzn-stat: evaluatedHalfReifiedConstraints=58\n",
      "mzn-stat: method=\"satisfy\"\n",
      "mzn-stat: flatTime=0.162981\n",
      "mzn-stat-end\n",
      "mzn-stat: initTime=0.011\n",
      "mzn-stat: solveTime=0\n",
      "mzn-stat: solutions=1\n",
      "mzn-stat: variables=92\n",
      "mzn-stat: propagators=49\n",
      "mzn-stat: propagations=165\n",
      "mzn-stat: nodes=5\n",
      "mzn-stat: failures=0\n",
      "mzn-stat: restarts=0\n",
      "mzn-stat: peakDepth=4\n",
      "mzn-stat-end\n"
     ]
    },
    {
     "data": {
      "image/png": "[encoded data removed]",
      "text/plain": [
       "<Figure size 432x288 with 1 Axes>"
      ]
     },
     "metadata": {
      "needs_background": "light"
     },
     "output_type": "display_data"
    },
    {
     "name": "stdout",
     "output_type": "stream",
     "text": [
      "Solution: [[4, 0], [7, 0], [7, 4], [4, 3], [0, 6], [0, 0]]\n",
      "[w, h]:   [[3, 3], [3, 4], [3, 6], [3, 7], [4, 4], [4, 6]]\n",
      "\n",
      "Pieces: [[3, 3], [3, 4], [3, 6], [3, 7], [4, 4], [4, 6]]\n",
      "\n",
      "\n",
      "\n",
      "|| === Instance 11x11 === ||\n",
      "%%%mzn-stat: nSolutions=1\n",
      "Solver output:\n",
      "Generated FlatZinc statistics:\n",
      "mzn-stat: paths=0\n",
      "mzn-stat: flatBoolVars=84\n",
      "mzn-stat: flatIntVars=30\n",
      "mzn-stat: flatBoolConstraints=21\n",
      "mzn-stat: flatIntConstraints=102\n",
      "mzn-stat: evaluatedHalfReifiedConstraints=84\n",
      "mzn-stat: method=\"satisfy\"\n",
      "mzn-stat: flatTime=0.161882\n",
      "mzn-stat-end\n",
      "mzn-stat: initTime=0.011\n",
      "mzn-stat: solveTime=0.001\n",
      "mzn-stat: solutions=1\n",
      "mzn-stat: variables=114\n",
      "mzn-stat: propagators=107\n",
      "mzn-stat: propagations=1072\n",
      "mzn-stat: nodes=20\n",
      "mzn-stat: failures=5\n",
      "mzn-stat: restarts=0\n",
      "mzn-stat: peakDepth=14\n",
      "mzn-stat-end\n"
     ]
    },
    {
     "data": {
      "image/png": "[encoded data removed]",
      "text/plain": [
       "<Figure size 432x288 with 1 Axes>"
      ]
     },
     "metadata": {
      "needs_background": "light"
     },
     "output_type": "display_data"
    },
    {
     "name": "stdout",
     "output_type": "stream",
     "text": [
      "Solution: [[5, 8], [5, 4], [8, 6], [8, 0], [0, 8], [0, 4], [0, 0]]\n",
      "[w, h]:   [[3, 3], [3, 4], [3, 5], [3, 6], [5, 3], [5, 4], [8, 4]]\n",
      "\n",
      "Pieces: [[3, 3], [3, 4], [3, 5], [3, 6], [5, 3], [5, 4], [8, 4]]\n",
      "\n",
      "\n",
      "\n",
      "|| === Instance 12x12 === ||\n",
      "%%%mzn-stat: nSolutions=1\n",
      "Solver output:\n",
      "Generated FlatZinc statistics:\n",
      "mzn-stat: paths=0\n",
      "mzn-stat: flatBoolVars=112\n",
      "mzn-stat: flatIntVars=34\n",
      "mzn-stat: flatBoolConstraints=28\n",
      "mzn-stat: flatIntConstraints=132\n",
      "mzn-stat: evaluatedHalfReifiedConstraints=112\n",
      "mzn-stat: method=\"satisfy\"\n",
      "mzn-stat: flatTime=0.197047\n",
      "mzn-stat-end\n",
      "mzn-stat: initTime=0.012\n",
      "mzn-stat: solveTime=0.001\n",
      "mzn-stat: solutions=1\n",
      "mzn-stat: variables=146\n",
      "mzn-stat: propagators=139\n",
      "mzn-stat: propagations=1131\n",
      "mzn-stat: nodes=17\n",
      "mzn-stat: failures=4\n",
      "mzn-stat: restarts=0\n",
      "mzn-stat: peakDepth=12\n",
      "mzn-stat-end\n"
     ]
    },
    {
     "data": {
      "image/png": "[encoded data removed]",
      "text/plain": [
       "<Figure size 432x288 with 1 Axes>"
      ]
     },
     "metadata": {
      "needs_background": "light"
     },
     "output_type": "display_data"
    },
    {
     "name": "stdout",
     "output_type": "stream",
     "text": [
      "Solution: [[3, 6], [6, 0], [9, 7], [3, 0], [9, 0], [6, 4], [0, 0], [0, 9]]\n",
      "[w, h]:   [[3, 3], [3, 4], [3, 5], [3, 6], [3, 7], [3, 8], [3, 9], [6, 3]]\n",
      "\n",
      "Pieces: [[3, 3], [3, 4], [3, 5], [3, 6], [3, 7], [3, 8], [3, 9], [6, 3]]\n",
      "\n",
      "\n",
      "\n",
      "|| === Instance 13x13 === ||\n",
      "%%%mzn-stat: nSolutions=1\n",
      "Solver output:\n",
      "Generated FlatZinc statistics:\n",
      "mzn-stat: paths=0\n",
      "mzn-stat: flatBoolVars=144\n",
      "mzn-stat: flatIntVars=38\n",
      "mzn-stat: flatBoolConstraints=36\n",
      "mzn-stat: flatIntConstraints=166\n",
      "mzn-stat: evaluatedHalfReifiedConstraints=144\n",
      "mzn-stat: method=\"satisfy\"\n",
      "mzn-stat: flatTime=0.171704\n",
      "mzn-stat-end\n",
      "mzn-stat: initTime=0.013\n",
      "mzn-stat: solveTime=0.001\n",
      "mzn-stat: solutions=1\n",
      "mzn-stat: variables=182\n",
      "mzn-stat: propagators=189\n",
      "mzn-stat: propagations=1089\n",
      "mzn-stat: nodes=15\n",
      "mzn-stat: failures=2\n",
      "mzn-stat: restarts=0\n",
      "mzn-stat: peakDepth=12\n",
      "mzn-stat-end\n"
     ]
    },
    {
     "data": {
      "image/png": "[encoded data removed]",
      "text/plain": [
       "<Figure size 432x288 with 1 Axes>"
      ]
     },
     "metadata": {
      "needs_background": "light"
     },
     "output_type": "display_data"
    },
    {
     "name": "stdout",
     "output_type": "stream",
     "text": [
      "Solution: [[10, 10], [10, 6], [7, 8], [10, 0], [0, 6], [7, 0], [3, 10], [3, 6], [0, 0]]\n",
      "[w, h]:   [[3, 3], [3, 4], [3, 5], [3, 6], [3, 7], [3, 8], [4, 3], [4, 4], [7, 6]]\n",
      "\n",
      "Pieces: [[3, 3], [3, 4], [3, 5], [3, 6], [3, 7], [3, 8], [4, 3], [4, 4], [7, 6]]\n",
      "\n",
      "\n",
      "\n",
      "|| === Instance 14x14 === ||\n",
      "%%%mzn-stat: nSolutions=1\n",
      "Solver output:\n",
      "Generated FlatZinc statistics:\n",
      "mzn-stat: paths=0\n",
      "mzn-stat: flatBoolVars=142\n",
      "mzn-stat: flatIntVars=35\n",
      "mzn-stat: flatBoolConstraints=36\n",
      "mzn-stat: flatIntConstraints=164\n",
      "mzn-stat: evaluatedHalfReifiedConstraints=142\n",
      "mzn-stat: method=\"satisfy\"\n",
      "mzn-stat: flatTime=0.186842\n",
      "mzn-stat-end\n",
      "mzn-stat: initTime=0.015\n",
      "mzn-stat: solveTime=0\n",
      "mzn-stat: solutions=1\n",
      "mzn-stat: variables=188\n",
      "mzn-stat: propagators=134\n",
      "mzn-stat: propagations=448\n",
      "mzn-stat: nodes=9\n",
      "mzn-stat: failures=0\n",
      "mzn-stat: restarts=0\n",
      "mzn-stat: peakDepth=8\n",
      "mzn-stat-end\n"
     ]
    },
    {
     "data": {
      "image/png": "[encoded data removed]",
      "text/plain": [
       "<Figure size 432x288 with 1 Axes>"
      ]
     },
     "metadata": {
      "needs_background": "light"
     },
     "output_type": "display_data"
    },
    {
     "name": "stdout",
     "output_type": "stream",
     "text": [
      "Solution: [[11, 7], [11, 10], [5, 9], [8, 8], [11, 0], [8, 0], [5, 0], [0, 10], [0, 0]]\n",
      "[w, h]:   [[3, 3], [3, 4], [3, 5], [3, 6], [3, 7], [3, 8], [3, 9], [5, 4], [5, 10]]\n",
      "\n",
      "Pieces: [[3, 3], [3, 4], [3, 5], [3, 6], [3, 7], [3, 8], [3, 9], [5, 4], [5, 10]]\n",
      "\n",
      "\n",
      "\n",
      "|| === Instance 15x15 === ||\n",
      "%%%mzn-stat: nSolutions=1\n",
      "Solver output:\n",
      "Generated FlatZinc statistics:\n",
      "mzn-stat: paths=0\n",
      "mzn-stat: flatBoolVars=180\n",
      "mzn-stat: flatIntVars=40\n",
      "mzn-stat: flatBoolConstraints=45\n",
      "mzn-stat: flatIntConstraints=203\n",
      "mzn-stat: evaluatedHalfReifiedConstraints=180\n",
      "mzn-stat: method=\"satisfy\"\n",
      "mzn-stat: flatTime=0.186207\n",
      "mzn-stat-end\n",
      "mzn-stat: initTime=0.016\n",
      "mzn-stat: solveTime=0\n",
      "mzn-stat: solutions=1\n",
      "mzn-stat: variables=224\n",
      "mzn-stat: propagators=214\n",
      "mzn-stat: propagations=784\n",
      "mzn-stat: nodes=12\n",
      "mzn-stat: failures=0\n",
      "mzn-stat: restarts=0\n",
      "mzn-stat: peakDepth=11\n",
      "mzn-stat-end\n"
     ]
    },
    {
     "data": {
      "image/png": "[encoded data removed]",
      "text/plain": [
       "<Figure size 432x288 with 1 Axes>"
      ]
     },
     "metadata": {
      "needs_background": "light"
     },
     "output_type": "display_data"
    },
    {
     "name": "stdout",
     "output_type": "stream",
     "text": [
      "Solution: [[6, 9], [12, 11], [12, 6], [12, 0], [9, 8], [9, 0], [6, 0], [3, 0], [0, 0], [3, 12]]\n",
      "[w, h]:   [[3, 3], [3, 4], [3, 5], [3, 6], [3, 7], [3, 8], [3, 9], [3, 12], [3, 15], [6, 3]]\n",
      "\n",
      "Pieces: [[3, 3], [3, 4], [3, 5], [3, 6], [3, 7], [3, 8], [3, 9], [3, 12], [3, 15], [6, 3]]\n",
      "\n",
      "\n",
      "\n",
      "|| === Instance 16x16 === ||\n",
      "%%%mzn-stat: nSolutions=1\n",
      "Solver output:\n",
      "Generated FlatZinc statistics:\n",
      "mzn-stat: paths=0\n",
      "mzn-stat: flatBoolVars=180\n",
      "mzn-stat: flatIntVars=42\n",
      "mzn-stat: flatBoolConstraints=45\n",
      "mzn-stat: flatIntConstraints=204\n",
      "mzn-stat: evaluatedHalfReifiedConstraints=180\n",
      "mzn-stat: method=\"satisfy\"\n",
      "mzn-stat: flatTime=0.177853\n",
      "mzn-stat-end\n",
      "mzn-stat: initTime=0.015\n",
      "mzn-stat: solveTime=0\n",
      "mzn-stat: solutions=1\n",
      "mzn-stat: variables=222\n",
      "mzn-stat: propagators=220\n",
      "mzn-stat: propagations=811\n",
      "mzn-stat: nodes=12\n",
      "mzn-stat: failures=0\n",
      "mzn-stat: restarts=0\n",
      "mzn-stat: peakDepth=11\n",
      "mzn-stat-end\n"
     ]
    },
    {
     "data": {
      "image/png": "[encoded data removed]",
      "text/plain": [
       "<Figure size 432x288 with 1 Axes>"
      ]
     },
     "metadata": {
      "needs_background": "light"
     },
     "output_type": "display_data"
    },
    {
     "name": "stdout",
     "output_type": "stream",
     "text": [
      "Solution: [[13, 13], [7, 12], [13, 8], [10, 10], [4, 9], [13, 0], [10, 0], [7, 0], [0, 9], [0, 0]]\n",
      "[w, h]:   [[3, 3], [3, 4], [3, 5], [3, 6], [3, 7], [3, 8], [3, 10], [3, 12], [4, 7], [7, 9]]\n",
      "\n",
      "Pieces: [[3, 3], [3, 4], [3, 5], [3, 6], [3, 7], [3, 8], [3, 10], [3, 12], [4, 7], [7, 9]]\n",
      "\n",
      "\n",
      "\n",
      "|| === Instance 17x17 === ||\n",
      "%%%mzn-stat: nSolutions=1\n",
      "Solver output:\n",
      "Generated FlatZinc statistics:\n",
      "mzn-stat: paths=0\n",
      "mzn-stat: flatBoolVars=264\n",
      "mzn-stat: flatIntVars=50\n",
      "mzn-stat: flatBoolConstraints=66\n",
      "mzn-stat: flatIntConstraints=292\n",
      "mzn-stat: evaluatedHalfReifiedConstraints=264\n",
      "mzn-stat: method=\"satisfy\"\n",
      "mzn-stat: flatTime=0.174593\n",
      "mzn-stat-end\n",
      "mzn-stat: initTime=0.018\n",
      "mzn-stat: solveTime=0.002\n",
      "mzn-stat: solutions=1\n",
      "mzn-stat: variables=314\n",
      "mzn-stat: propagators=335\n",
      "mzn-stat: propagations=6982\n",
      "mzn-stat: nodes=149\n",
      "mzn-stat: failures=67\n",
      "mzn-stat: restarts=0\n",
      "mzn-stat: peakDepth=17\n",
      "mzn-stat-end\n"
     ]
    },
    {
     "data": {
      "image/png": "[encoded data removed]",
      "text/plain": [
       "<Figure size 432x288 with 1 Axes>"
      ]
     },
     "metadata": {
      "needs_background": "light"
     },
     "output_type": "display_data"
    },
    {
     "name": "stdout",
     "output_type": "stream",
     "text": [
      "Solution: [[11, 9], [14, 13], [11, 12], [14, 7], [14, 0], [8, 0], [11, 0], [7, 14], [4, 0], [0, 0], [0, 14], [4, 8]]\n",
      "[w, h]:   [[3, 3], [3, 4], [3, 5], [3, 6], [3, 7], [3, 8], [3, 9], [4, 3], [4, 8], [4, 14], [7, 3], [7, 6]]\n",
      "\n",
      "Pieces: [[3, 3], [3, 4], [3, 5], [3, 6], [3, 7], [3, 8], [3, 9], [4, 3], [4, 8], [4, 14], [7, 3], [7, 6]]\n",
      "\n",
      "\n",
      "\n",
      "|| === Instance 18x18 === ||\n",
      "\n",
      "  WARNING: model inconsistency detected\n",
      "  C:\\Users\\Filippo\\Documents\\MiniZinc\\Present-Wrapping-Problem-Project/CP/pwp_v9.mzn:83:\n",
      "  in binary '->' operator expression\n",
      "  in call 'forall'\n",
      "  in array comprehension expression\n",
      "    with i = 3\n",
      "  in call 'com_prec'\n",
      "  C:\\Users\\Filippo\\Documents\\MiniZinc\\Present-Wrapping-Problem-Project/CP/pwp_v9.mzn:74:\n",
      "  in let expression\n",
      "  C:\\Users\\Filippo\\Documents\\MiniZinc\\Present-Wrapping-Problem-Project/CP/pwp_v9.mzn:79:\n",
      "  in binary '/\\' operator expression\n",
      "  in call 'forall'\n",
      "  in array comprehension expression\n",
      "    with h = 8\n",
      "  in binary '/\\' operator expression\n",
      "  in binary '>=' operator expression\n",
      "Solver output:\n",
      "Generated FlatZinc statistics:\n",
      "mzn-stat: paths=0\n",
      "mzn-stat: method=\"satisfy\"\n",
      "mzn-stat: flatTime=0.182444\n",
      "mzn-stat-end\n",
      "The problem is infeasible\n",
      "No solution found in 5min\n",
      "Pieces: [[3, 3], [3, 4], [3, 5], [3, 6], [3, 7], [3, 8], [3, 10], [3, 11], [4, 3], [4, 4], [4, 5], [4, 6], [5, 3], [5, 4], [5, 5], [5, 6]]\n",
      "\n",
      "\n",
      "\n",
      "|| === Instance 19x19 === ||\n",
      "%%%mzn-stat: nSolutions=1\n",
      "Solver output:\n",
      "Generated FlatZinc statistics:\n",
      "mzn-stat: paths=0\n",
      "mzn-stat: flatBoolVars=358\n",
      "mzn-stat: flatIntVars=52\n",
      "mzn-stat: flatBoolConstraints=91\n",
      "mzn-stat: flatIntConstraints=388\n",
      "mzn-stat: evaluatedHalfReifiedConstraints=358\n",
      "mzn-stat: method=\"satisfy\"\n",
      "mzn-stat: flatTime=0.1812\n",
      "mzn-stat-end\n",
      "mzn-stat: initTime=0.02\n",
      "mzn-stat: solveTime=0.001\n",
      "mzn-stat: solutions=1\n",
      "mzn-stat: variables=430\n",
      "mzn-stat: propagators=366\n",
      "mzn-stat: propagations=1239\n",
      "mzn-stat: nodes=16\n",
      "mzn-stat: failures=0\n",
      "mzn-stat: restarts=0\n",
      "mzn-stat: peakDepth=15\n",
      "mzn-stat-end\n"
     ]
    },
    {
     "data": {
      "image/png": "[encoded data removed]",
      "text/plain": [
       "<Figure size 432x288 with 1 Axes>"
      ]
     },
     "metadata": {
      "needs_background": "light"
     },
     "output_type": "display_data"
    },
    {
     "name": "stdout",
     "output_type": "stream",
     "text": [
      "Solution: [[16, 16], [16, 12], [16, 7], [7, 13], [16, 0], [10, 11], [13, 10], [13, 0], [10, 0], [7, 0], [4, 0], [0, 14], [0, 8], [0, 0]]\n",
      "[w, h]:   [[3, 3], [3, 4], [3, 5], [3, 6], [3, 7], [3, 8], [3, 9], [3, 10], [3, 11], [3, 13], [3, 19], [4, 5], [4, 6], [4, 8]]\n",
      "\n",
      "Pieces: [[3, 3], [3, 4], [3, 5], [3, 6], [3, 7], [3, 8], [3, 9], [3, 10], [3, 11], [3, 13], [3, 19], [4, 5], [4, 6], [4, 8]]\n",
      "\n",
      "\n",
      "\n",
      "|| === Instance 20x20 === ||\n",
      "%%%mzn-stat: nSolutions=1\n",
      "Solver output:\n",
      "Generated FlatZinc statistics:\n",
      "mzn-stat: paths=0\n",
      "mzn-stat: flatBoolVars=364\n",
      "mzn-stat: flatIntVars=58\n",
      "mzn-stat: flatBoolConstraints=91\n",
      "mzn-stat: flatIntConstraints=398\n",
      "mzn-stat: evaluatedHalfReifiedConstraints=364\n",
      "mzn-stat: method=\"satisfy\"\n",
      "mzn-stat: flatTime=0.179003\n",
      "mzn-stat-end\n",
      "mzn-stat: initTime=0.021\n",
      "mzn-stat: solveTime=0.001\n",
      "mzn-stat: solutions=1\n",
      "mzn-stat: variables=422\n",
      "mzn-stat: propagators=346\n",
      "mzn-stat: propagations=1710\n",
      "mzn-stat: nodes=21\n",
      "mzn-stat: failures=2\n",
      "mzn-stat: restarts=0\n",
      "mzn-stat: peakDepth=18\n",
      "mzn-stat-end\n"
     ]
    },
    {
     "data": {
      "image/png": "[encoded data removed]",
      "text/plain": [
       "<Figure size 432x288 with 1 Axes>"
      ]
     },
     "metadata": {
      "needs_background": "light"
     },
     "output_type": "display_data"
    },
    {
     "name": "stdout",
     "output_type": "stream",
     "text": [
      "Solution: [[8, 17], [14, 16], [17, 8], [14, 10], [17, 13], [17, 0], [11, 11], [14, 0], [11, 0], [8, 0], [0, 17], [4, 11], [4, 0], [0, 0]]\n",
      "[w, h]:   [[3, 3], [3, 4], [3, 5], [3, 6], [3, 7], [3, 8], [3, 9], [3, 10], [3, 11], [3, 17], [4, 3], [4, 9], [4, 11], [4, 17]]\n",
      "\n",
      "Pieces: [[3, 3], [3, 4], [3, 5], [3, 6], [3, 7], [3, 8], [3, 9], [3, 10], [3, 11], [3, 17], [4, 3], [4, 9], [4, 11], [4, 17]]\n",
      "\n",
      "\n",
      "\n",
      "|| === Instance 21x21 === ||\n",
      "%%%mzn-stat: nSolutions=1\n",
      "Solver output:\n",
      "Generated FlatZinc statistics:\n",
      "mzn-stat: paths=0\n",
      "mzn-stat: flatBoolVars=388\n",
      "mzn-stat: flatIntVars=56\n",
      "mzn-stat: flatBoolConstraints=99\n",
      "mzn-stat: flatIntConstraints=420\n",
      "mzn-stat: evaluatedHalfReifiedConstraints=388\n",
      "mzn-stat: method=\"satisfy\"\n",
      "mzn-stat: flatTime=0.1771\n",
      "mzn-stat-end\n",
      "mzn-stat: initTime=0.025\n",
      "mzn-stat: solveTime=0.002\n",
      "mzn-stat: solutions=1\n",
      "mzn-stat: variables=470\n",
      "mzn-stat: propagators=344\n",
      "mzn-stat: propagations=3946\n",
      "mzn-stat: nodes=70\n",
      "mzn-stat: failures=27\n",
      "mzn-stat: restarts=0\n",
      "mzn-stat: peakDepth=16\n",
      "mzn-stat-end\n"
     ]
    },
    {
     "data": {
      "image/png": "[encoded data removed]",
      "text/plain": [
       "<Figure size 432x288 with 1 Axes>"
      ]
     },
     "metadata": {
      "needs_background": "light"
     },
     "output_type": "display_data"
    },
    {
     "name": "stdout",
     "output_type": "stream",
     "text": [
      "Solution: [[9, 0], [18, 17], [15, 16], [15, 10], [12, 14], [18, 9], [18, 0], [15, 0], [12, 0], [9, 3], [5, 17], [5, 11], [5, 0], [0, 15], [0, 0]]\n",
      "[w, h]:   [[3, 3], [3, 4], [3, 5], [3, 6], [3, 7], [3, 8], [3, 9], [3, 10], [3, 14], [3, 18], [4, 4], [4, 6], [4, 11], [5, 6], [5, 15]]\n",
      "\n",
      "Pieces: [[3, 3], [3, 4], [3, 5], [3, 6], [3, 7], [3, 8], [3, 9], [3, 10], [3, 14], [3, 18], [4, 4], [4, 6], [4, 11], [5, 6], [5, 15]]\n",
      "\n",
      "\n",
      "\n",
      "|| === Instance 22x22 === ||\n",
      "%%%mzn-stat: nSolutions=1\n",
      "Solver output:\n",
      "Generated FlatZinc statistics:\n",
      "mzn-stat: paths=0\n",
      "mzn-stat: flatBoolVars=480\n",
      "mzn-stat: flatIntVars=64\n",
      "mzn-stat: flatBoolConstraints=120\n",
      "mzn-stat: flatIntConstraints=515\n",
      "mzn-stat: evaluatedHalfReifiedConstraints=480\n",
      "mzn-stat: method=\"satisfy\"\n",
      "mzn-stat: flatTime=0.187806\n",
      "mzn-stat-end\n",
      "mzn-stat: initTime=0.025\n",
      "mzn-stat: solveTime=0.001\n",
      "mzn-stat: solutions=1\n",
      "mzn-stat: variables=548\n",
      "mzn-stat: propagators=561\n",
      "mzn-stat: propagations=3115\n",
      "mzn-stat: nodes=33\n",
      "mzn-stat: failures=6\n",
      "mzn-stat: restarts=0\n",
      "mzn-stat: peakDepth=23\n",
      "mzn-stat-end\n"
     ]
    },
    {
     "data": {
      "image/png": "[encoded data removed]",
      "text/plain": [
       "<Figure size 432x288 with 1 Axes>"
      ]
     },
     "metadata": {
      "needs_background": "light"
     },
     "output_type": "display_data"
    },
    {
     "name": "stdout",
     "output_type": "stream",
     "text": [
      "Solution: [[16, 19], [4, 14], [7, 13], [19, 16], [19, 9], [16, 11], [19, 0], [13, 12], [16, 0], [13, 0], [7, 0], [4, 0], [10, 0], [0, 19], [0, 0], [4, 18]]\n",
      "[w, h]:   [[3, 3], [3, 4], [3, 5], [3, 6], [3, 7], [3, 8], [3, 9], [3, 10], [3, 11], [3, 12], [3, 13], [3, 14], [3, 22], [4, 3], [4, 19], [6, 4]]\n",
      "\n",
      "Pieces: [[3, 3], [3, 4], [3, 5], [3, 6], [3, 7], [3, 8], [3, 9], [3, 10], [3, 11], [3, 12], [3, 13], [3, 14], [3, 22], [4, 3], [4, 19], [6, 4]]\n",
      "\n",
      "\n",
      "\n",
      "|| === Instance 23x23 === ||\n",
      "%%%mzn-stat: nSolutions=1\n",
      "Solver output:\n",
      "Generated FlatZinc statistics:\n",
      "mzn-stat: paths=0\n",
      "mzn-stat: flatBoolVars=684\n",
      "mzn-stat: flatIntVars=78\n",
      "mzn-stat: flatBoolConstraints=171\n",
      "mzn-stat: flatIntConstraints=726\n",
      "mzn-stat: evaluatedHalfReifiedConstraints=684\n",
      "mzn-stat: method=\"satisfy\"\n",
      "mzn-stat: flatTime=0.182843\n",
      "mzn-stat-end\n",
      "mzn-stat: initTime=0.032\n",
      "mzn-stat: solveTime=1.647\n",
      "mzn-stat: solutions=1\n",
      "mzn-stat: variables=762\n",
      "mzn-stat: propagators=850\n",
      "mzn-stat: propagations=4309071\n",
      "mzn-stat: nodes=73659\n",
      "mzn-stat: failures=36817\n",
      "mzn-stat: restarts=0\n",
      "mzn-stat: peakDepth=37\n",
      "mzn-stat-end\n"
     ]
    },
    {
     "data": {
      "image/png": "[encoded data removed]",
      "text/plain": [
       "<Figure size 432x288 with 1 Axes>"
      ]
     },
     "metadata": {
      "needs_background": "light"
     },
     "output_type": "display_data"
    },
    {
     "name": "stdout",
     "output_type": "stream",
     "text": [
      "Solution: [[0, 20], [20, 9], [17, 18], [11, 14], [17, 11], [14, 12], [20, 0], [20, 13], [17, 0], [14, 0], [7, 0], [0, 0], [13, 20], [10, 10], [7, 14], [10, 0], [3, 12], [3, 0], [7, 20]]\n",
      "[w, h]:   [[3, 3], [3, 4], [3, 5], [3, 6], [3, 7], [3, 8], [3, 9], [3, 10], [3, 11], [3, 12], [3, 14], [3, 20], [4, 3], [4, 4], [4, 6], [4, 10], [4, 11], [4, 12], [6, 3]]\n",
      "\n",
      "Pieces: [[3, 3], [3, 4], [3, 5], [3, 6], [3, 7], [3, 8], [3, 9], [3, 10], [3, 11], [3, 12], [3, 14], [3, 20], [4, 3], [4, 4], [4, 6], [4, 10], [4, 11], [4, 12], [6, 3]]\n",
      "\n",
      "\n",
      "\n",
      "|| === Instance 24x24 === ||\n",
      "%%%mzn-stat: nSolutions=1\n",
      "Solver output:\n",
      "Generated FlatZinc statistics:\n",
      "mzn-stat: paths=0\n",
      "mzn-stat: flatBoolVars=566\n",
      "mzn-stat: flatIntVars=66\n",
      "mzn-stat: flatBoolConstraints=145\n",
      "mzn-stat: flatIntConstraints=602\n",
      "mzn-stat: evaluatedHalfReifiedConstraints=566\n",
      "mzn-stat: method=\"satisfy\"\n",
      "mzn-stat: flatTime=0.241803\n",
      "mzn-stat-end\n",
      "mzn-stat: initTime=0.037\n",
      "mzn-stat: solveTime=0.001\n",
      "mzn-stat: solutions=1\n",
      "mzn-stat: variables=666\n",
      "mzn-stat: propagators=502\n",
      "mzn-stat: propagations=1811\n",
      "mzn-stat: nodes=19\n",
      "mzn-stat: failures=0\n",
      "mzn-stat: restarts=0\n",
      "mzn-stat: peakDepth=18\n",
      "mzn-stat-end\n"
     ]
    },
    {
     "data": {
      "image/png": "[encoded data removed]",
      "text/plain": [
       "<Figure size 432x288 with 1 Axes>"
      ]
     },
     "metadata": {
      "needs_background": "light"
     },
     "output_type": "display_data"
    },
    {
     "name": "stdout",
     "output_type": "stream",
     "text": [
      "Solution: [[18, 21], [21, 20], [21, 15], [12, 18], [21, 8], [21, 0], [18, 12], [15, 14], [18, 0], [15, 0], [12, 0], [9, 0], [5, 21], [5, 17], [5, 12], [5, 0], [0, 16], [0, 0]]\n",
      "[w, h]:   [[3, 3], [3, 4], [3, 5], [3, 6], [3, 7], [3, 8], [3, 9], [3, 10], [3, 12], [3, 14], [3, 18], [3, 24], [4, 3], [4, 4], [4, 5], [4, 12], [5, 8], [5, 16]]\n",
      "\n",
      "Pieces: [[3, 3], [3, 4], [3, 5], [3, 6], [3, 7], [3, 8], [3, 9], [3, 10], [3, 12], [3, 14], [3, 18], [3, 24], [4, 3], [4, 4], [4, 5], [4, 12], [5, 8], [5, 16]]\n",
      "\n",
      "\n",
      "\n",
      "|| === Instance 25x25 === ||\n",
      "%%%mzn-stat: nSolutions=1\n",
      "Solver output:\n",
      "Generated FlatZinc statistics:\n",
      "mzn-stat: paths=0\n",
      "mzn-stat: flatBoolVars=684\n",
      "mzn-stat: flatIntVars=76\n",
      "mzn-stat: flatBoolConstraints=171\n",
      "mzn-stat: flatIntConstraints=725\n",
      "mzn-stat: evaluatedHalfReifiedConstraints=684\n",
      "mzn-stat: method=\"satisfy\"\n",
      "mzn-stat: flatTime=0.252218\n",
      "mzn-stat-end\n",
      "mzn-stat: initTime=0.044\n",
      "mzn-stat: solveTime=33.791\n",
      "mzn-stat: solutions=1\n",
      "mzn-stat: variables=764\n",
      "mzn-stat: propagators=804\n",
      "mzn-stat: propagations=120100531\n",
      "mzn-stat: nodes=1258005\n",
      "mzn-stat: failures=628991\n",
      "mzn-stat: restarts=0\n",
      "mzn-stat: peakDepth=35\n",
      "mzn-stat-end\n"
     ]
    },
    {
     "data": {
      "image/png": "[encoded data removed]",
      "text/plain": [
       "<Figure size 432x288 with 1 Axes>"
      ]
     },
     "metadata": {
      "needs_background": "light"
     },
     "output_type": "display_data"
    },
    {
     "name": "stdout",
     "output_type": "stream",
     "text": [
      "Solution: [[22, 22], [6, 3], [22, 17], [13, 19], [22, 10], [16, 17], [3, 3], [22, 0], [19, 14], [7, 12], [19, 0], [16, 0], [10, 7], [13, 0], [0, 0], [6, 7], [9, 0], [3, 12], [3, 0]]\n",
      "[w, h]:   [[3, 3], [3, 4], [3, 5], [3, 6], [3, 7], [3, 8], [3, 9], [3, 10], [3, 11], [3, 13], [3, 14], [3, 17], [3, 18], [3, 19], [3, 25], [4, 5], [4, 7], [4, 13], [6, 3]]\n",
      "\n",
      "Pieces: [[3, 3], [3, 4], [3, 5], [3, 6], [3, 7], [3, 8], [3, 9], [3, 10], [3, 11], [3, 13], [3, 14], [3, 17], [3, 18], [3, 19], [3, 25], [4, 5], [4, 7], [4, 13], [6, 3]]\n",
      "\n",
      "\n",
      "\n",
      "|| === Instance 26x26 === ||\n",
      "%%%mzn-stat: nSolutions=1\n",
      "Solver output:\n",
      "Generated FlatZinc statistics:\n",
      "mzn-stat: paths=0\n",
      "mzn-stat: flatBoolVars=924\n",
      "mzn-stat: flatIntVars=90\n",
      "mzn-stat: flatBoolConstraints=231\n",
      "mzn-stat: flatIntConstraints=974\n",
      "mzn-stat: evaluatedHalfReifiedConstraints=924\n",
      "mzn-stat: method=\"satisfy\"\n",
      "mzn-stat: flatTime=0.264484\n",
      "mzn-stat-end\n",
      "mzn-stat: initTime=0.053\n",
      "mzn-stat: solveTime=0.002\n",
      "mzn-stat: solutions=1\n",
      "mzn-stat: variables=1014\n",
      "mzn-stat: propagators=919\n",
      "mzn-stat: propagations=3703\n",
      "mzn-stat: nodes=29\n",
      "mzn-stat: failures=1\n",
      "mzn-stat: restarts=0\n",
      "mzn-stat: peakDepth=27\n",
      "mzn-stat-end\n"
     ]
    },
    {
     "data": {
      "image/png": "[encoded data removed]",
      "text/plain": [
       "<Figure size 432x288 with 1 Axes>"
      ]
     },
     "metadata": {
      "needs_background": "light"
     },
     "output_type": "display_data"
    },
    {
     "name": "stdout",
     "output_type": "stream",
     "text": [
      "Solution: [[23, 14], [23, 22], [23, 17], [23, 8], [8, 19], [23, 0], [11, 17], [14, 16], [17, 15], [20, 14], [20, 0], [17, 0], [14, 0], [11, 0], [8, 0], [4, 23], [0, 22], [4, 18], [4, 11], [0, 14], [4, 0], [0, 0]]\n",
      "[w, h]:   [[3, 3], [3, 4], [3, 5], [3, 6], [3, 7], [3, 8], [3, 9], [3, 10], [3, 11], [3, 12], [3, 14], [3, 15], [3, 16], [3, 17], [3, 19], [4, 3], [4, 4], [4, 5], [4, 7], [4, 8], [4, 11], [4, 14]]\n",
      "\n",
      "Pieces: [[3, 3], [3, 4], [3, 5], [3, 6], [3, 7], [3, 8], [3, 9], [3, 10], [3, 11], [3, 12], [3, 14], [3, 15], [3, 16], [3, 17], [3, 19], [4, 3], [4, 4], [4, 5], [4, 7], [4, 8], [4, 11], [4, 14]]\n",
      "\n",
      "\n",
      "\n",
      "|| === Instance 27x27 === ||\n",
      "%%%mzn-stat: nSolutions=1\n",
      "Solver output:\n",
      "Generated FlatZinc statistics:\n",
      "mzn-stat: paths=0\n",
      "mzn-stat: flatBoolVars=840\n",
      "mzn-stat: flatIntVars=86\n",
      "mzn-stat: flatBoolConstraints=210\n",
      "mzn-stat: flatIntConstraints=888\n",
      "mzn-stat: evaluatedHalfReifiedConstraints=840\n",
      "mzn-stat: method=\"satisfy\"\n",
      "mzn-stat: flatTime=0.25445\n",
      "mzn-stat-end\n",
      "mzn-stat: initTime=0.053\n",
      "mzn-stat: solveTime=0.001\n",
      "mzn-stat: solutions=1\n",
      "mzn-stat: variables=926\n",
      "mzn-stat: propagators=776\n",
      "mzn-stat: propagations=2853\n",
      "mzn-stat: nodes=26\n",
      "mzn-stat: failures=0\n",
      "mzn-stat: restarts=0\n",
      "mzn-stat: peakDepth=25\n",
      "mzn-stat-end\n"
     ]
    },
    {
     "data": {
      "image/png": "[encoded data removed]",
      "text/plain": [
       "<Figure size 432x288 with 1 Axes>"
      ]
     },
     "metadata": {
      "needs_background": "light"
     },
     "output_type": "display_data"
    },
    {
     "name": "stdout",
     "output_type": "stream",
     "text": [
      "Solution: [[24, 5], [21, 23], [24, 0], [12, 21], [15, 20], [18, 19], [24, 18], [24, 8], [21, 12], [21, 0], [18, 0], [15, 0], [12, 0], [8, 24], [8, 20], [8, 14], [0, 20], [4, 19], [8, 0], [4, 0], [0, 0]]\n",
      "[w, h]:   [[3, 3], [3, 4], [3, 5], [3, 6], [3, 7], [3, 8], [3, 9], [3, 10], [3, 11], [3, 12], [3, 19], [3, 20], [3, 21], [4, 3], [4, 4], [4, 6], [4, 7], [4, 8], [4, 14], [4, 19], [4, 20]]\n",
      "\n",
      "Pieces: [[3, 3], [3, 4], [3, 5], [3, 6], [3, 7], [3, 8], [3, 9], [3, 10], [3, 11], [3, 12], [3, 19], [3, 20], [3, 21], [4, 3], [4, 4], [4, 6], [4, 7], [4, 8], [4, 14], [4, 19], [4, 20]]\n",
      "\n",
      "\n",
      "\n",
      "|| === Instance 28x28 === ||\n",
      "%%%mzn-stat: nSolutions=1\n",
      "Solver output:\n",
      "Generated FlatZinc statistics:\n",
      "mzn-stat: paths=0\n",
      "mzn-stat: flatBoolVars=918\n",
      "mzn-stat: flatIntVars=86\n",
      "mzn-stat: flatBoolConstraints=231\n",
      "mzn-stat: flatIntConstraints=966\n",
      "mzn-stat: evaluatedHalfReifiedConstraints=918\n",
      "mzn-stat: method=\"satisfy\"\n",
      "mzn-stat: flatTime=0.261898\n",
      "mzn-stat-end\n",
      "mzn-stat: initTime=0.053\n",
      "mzn-stat: solveTime=0.003\n",
      "mzn-stat: solutions=1\n",
      "mzn-stat: variables=1020\n",
      "mzn-stat: propagators=806\n",
      "mzn-stat: propagations=5458\n",
      "mzn-stat: nodes=61\n",
      "mzn-stat: failures=18\n",
      "mzn-stat: restarts=0\n",
      "mzn-stat: peakDepth=25\n",
      "mzn-stat-end\n"
     ]
    },
    {
     "data": {
      "image/png": "[encoded data removed]",
      "text/plain": [
       "<Figure size 432x288 with 1 Axes>"
      ]
     },
     "metadata": {
      "needs_background": "light"
     },
     "output_type": "display_data"
    },
    {
     "name": "stdout",
     "output_type": "stream",
     "text": [
      "Solution: [[22, 25], [25, 16], [13, 23], [25, 10], [16, 21], [25, 20], [22, 16], [25, 0], [19, 17], [22, 0], [19, 0], [16, 0], [13, 0], [9, 25], [9, 21], [5, 23], [9, 13], [9, 0], [5, 0], [0, 22], [0, 13], [0, 0]]\n",
      "[w, h]:   [[3, 3], [3, 4], [3, 5], [3, 6], [3, 7], [3, 8], [3, 9], [3, 10], [3, 11], [3, 16], [3, 17], [3, 21], [3, 23], [4, 3], [4, 4], [4, 5], [4, 8], [4, 13], [4, 23], [5, 6], [5, 9], [5, 13]]\n",
      "\n",
      "Pieces: [[3, 3], [3, 4], [3, 5], [3, 6], [3, 7], [3, 8], [3, 9], [3, 10], [3, 11], [3, 16], [3, 17], [3, 21], [3, 23], [4, 3], [4, 4], [4, 5], [4, 8], [4, 13], [4, 23], [5, 6], [5, 9], [5, 13]]\n",
      "\n",
      "\n",
      "\n",
      "|| === Instance 29x29 === ||\n",
      "%%%mzn-stat: nSolutions=1\n",
      "Solver output:\n",
      "Generated FlatZinc statistics:\n",
      "mzn-stat: paths=0\n",
      "mzn-stat: flatBoolVars=1098\n",
      "mzn-stat: flatIntVars=94\n",
      "mzn-stat: flatBoolConstraints=276\n",
      "mzn-stat: flatIntConstraints=1150\n",
      "mzn-stat: evaluatedHalfReifiedConstraints=1098\n",
      "mzn-stat: method=\"satisfy\"\n",
      "mzn-stat: flatTime=0.263929\n",
      "mzn-stat-end\n",
      "mzn-stat: initTime=0.06\n",
      "mzn-stat: solveTime=0.002\n",
      "mzn-stat: solutions=1\n",
      "mzn-stat: variables=1208\n",
      "mzn-stat: propagators=986\n",
      "mzn-stat: propagations=3476\n",
      "mzn-stat: nodes=28\n",
      "mzn-stat: failures=0\n",
      "mzn-stat: restarts=0\n",
      "mzn-stat: peakDepth=27\n",
      "mzn-stat-end\n"
     ]
    },
    {
     "data": {
      "image/png": "[encoded data removed]",
      "text/plain": [
       "<Figure size 432x288 with 1 Axes>"
      ]
     },
     "metadata": {
      "needs_background": "light"
     },
     "output_type": "display_data"
    },
    {
     "name": "stdout",
     "output_type": "stream",
     "text": [
      "Solution: [[26, 15], [23, 25], [26, 24], [26, 18], [26, 8], [26, 0], [17, 20], [23, 15], [20, 18], [23, 0], [20, 0], [17, 0], [13, 26], [9, 25], [13, 21], [13, 15], [9, 18], [5, 20], [13, 0], [9, 0], [5, 0], [0, 25], [0, 17], [0, 0]]\n",
      "[w, h]:   [[3, 3], [3, 4], [3, 5], [3, 6], [3, 7], [3, 8], [3, 9], [3, 10], [3, 11], [3, 15], [3, 18], [3, 20], [4, 3], [4, 4], [4, 5], [4, 6], [4, 7], [4, 9], [4, 15], [4, 18], [4, 20], [5, 4], [5, 8], [5, 17]]\n",
      "\n",
      "Pieces: [[3, 3], [3, 4], [3, 5], [3, 6], [3, 7], [3, 8], [3, 9], [3, 10], [3, 11], [3, 15], [3, 18], [3, 20], [4, 3], [4, 4], [4, 5], [4, 6], [4, 7], [4, 9], [4, 15], [4, 18], [4, 20], [5, 4], [5, 8], [5, 17]]\n",
      "\n",
      "\n",
      "\n",
      "|| === Instance 30x30 === ||\n",
      "%%%mzn-stat: nSolutions=1\n",
      "Solver output:\n",
      "Generated FlatZinc statistics:\n",
      "mzn-stat: paths=0\n",
      "mzn-stat: flatBoolVars=720\n",
      "mzn-stat: flatIntVars=73\n",
      "mzn-stat: flatBoolConstraints=185\n",
      "mzn-stat: flatIntConstraints=760\n",
      "mzn-stat: evaluatedHalfReifiedConstraints=720\n",
      "mzn-stat: method=\"satisfy\"\n",
      "mzn-stat: flatTime=0.258737\n",
      "mzn-stat-end\n",
      "mzn-stat: initTime=0.045\n",
      "mzn-stat: solveTime=0.001\n",
      "mzn-stat: solutions=1\n",
      "mzn-stat: variables=828\n",
      "mzn-stat: propagators=698\n",
      "mzn-stat: propagations=2501\n",
      "mzn-stat: nodes=23\n",
      "mzn-stat: failures=0\n",
      "mzn-stat: restarts=0\n",
      "mzn-stat: peakDepth=22\n",
      "mzn-stat-end\n"
     ]
    },
    {
     "data": {
      "image/png": "[encoded data removed]",
      "text/plain": [
       "<Figure size 432x288 with 1 Axes>"
      ]
     },
     "metadata": {
      "needs_background": "light"
     },
     "output_type": "display_data"
    },
    {
     "name": "stdout",
     "output_type": "stream",
     "text": [
      "Solution: [[27, 27], [27, 23], [15, 25], [27, 9], [24, 23], [27, 15], [27, 0], [24, 13], [18, 19], [24, 0], [21, 16], [21, 0], [18, 0], [15, 0], [11, 27], [11, 23], [11, 17], [11, 9], [11, 0], [0, 0]]\n",
      "[w, h]:   [[3, 3], [3, 4], [3, 5], [3, 6], [3, 7], [3, 8], [3, 9], [3, 10], [3, 11], [3, 13], [3, 14], [3, 16], [3, 19], [3, 25], [4, 3], [4, 4], [4, 6], [4, 8], [4, 9], [11, 30]]\n",
      "\n",
      "Pieces: [[3, 3], [3, 4], [3, 5], [3, 6], [3, 7], [3, 8], [3, 9], [3, 10], [3, 11], [3, 13], [3, 14], [3, 16], [3, 19], [3, 25], [4, 3], [4, 4], [4, 6], [4, 8], [4, 9], [11, 30]]\n",
      "\n",
      "\n",
      "\n",
      "|| === Instance 31x31 === ||\n",
      "%%%mzn-stat: nSolutions=1\n",
      "Solver output:\n",
      "Generated FlatZinc statistics:\n",
      "mzn-stat: paths=0\n",
      "mzn-stat: flatBoolVars=654\n",
      "mzn-stat: flatIntVars=69\n",
      "mzn-stat: flatBoolConstraints=167\n",
      "mzn-stat: flatIntConstraints=692\n",
      "mzn-stat: evaluatedHalfReifiedConstraints=654\n",
      "mzn-stat: method=\"satisfy\"\n",
      "mzn-stat: flatTime=0.263255\n",
      "mzn-stat-end\n",
      "mzn-stat: initTime=0.042\n",
      "mzn-stat: solveTime=0.002\n",
      "mzn-stat: solutions=1\n",
      "mzn-stat: variables=756\n",
      "mzn-stat: propagators=626\n",
      "mzn-stat: propagations=2323\n",
      "mzn-stat: nodes=22\n",
      "mzn-stat: failures=0\n",
      "mzn-stat: restarts=0\n",
      "mzn-stat: peakDepth=21\n",
      "mzn-stat-end\n"
     ]
    },
    {
     "data": {
      "image/png": "[encoded data removed]",
      "text/plain": [
       "<Figure size 432x288 with 1 Axes>"
      ]
     },
     "metadata": {
      "needs_background": "light"
     },
     "output_type": "display_data"
    },
    {
     "name": "stdout",
     "output_type": "stream",
     "text": [
      "Solution: [[28, 28], [22, 27], [28, 23], [28, 17], [28, 10], [25, 23], [19, 22], [28, 0], [25, 12], [25, 0], [22, 14], [22, 0], [19, 0], [16, 0], [12, 28], [12, 21], [12, 13], [12, 0], [0, 0]]\n",
      "[w, h]:   [[3, 3], [3, 4], [3, 5], [3, 6], [3, 7], [3, 8], [3, 9], [3, 10], [3, 11], [3, 12], [3, 13], [3, 14], [3, 22], [3, 31], [4, 3], [4, 7], [4, 8], [4, 13], [12, 31]]\n",
      "\n",
      "Pieces: [[3, 3], [3, 4], [3, 5], [3, 6], [3, 7], [3, 8], [3, 9], [3, 10], [3, 11], [3, 12], [3, 13], [3, 14], [3, 22], [3, 31], [4, 3], [4, 7], [4, 8], [4, 13], [12, 31]]\n",
      "\n",
      "\n",
      "\n",
      "|| === Instance 32x32 === ||\n",
      "%%%mzn-stat: nSolutions=1\n",
      "Solver output:\n",
      "Generated FlatZinc statistics:\n",
      "mzn-stat: paths=0\n",
      "mzn-stat: flatBoolVars=1404\n",
      "mzn-stat: flatIntVars=110\n",
      "mzn-stat: flatBoolConstraints=351\n",
      "mzn-stat: flatIntConstraints=1464\n",
      "mzn-stat: evaluatedHalfReifiedConstraints=1404\n",
      "mzn-stat: method=\"satisfy\"\n",
      "mzn-stat: flatTime=0.290712\n",
      "mzn-stat-end\n",
      "mzn-stat: initTime=0.077\n",
      "mzn-stat: solveTime=0.003\n",
      "mzn-stat: solutions=1\n",
      "mzn-stat: variables=1514\n",
      "mzn-stat: propagators=1347\n",
      "mzn-stat: propagations=5603\n",
      "mzn-stat: nodes=35\n",
      "mzn-stat: failures=0\n",
      "mzn-stat: restarts=0\n",
      "mzn-stat: peakDepth=34\n",
      "mzn-stat-end\n"
     ]
    },
    {
     "data": {
      "image/png": "[encoded data removed]",
      "text/plain": [
       "<Figure size 432x288 with 1 Axes>"
      ]
     },
     "metadata": {
      "needs_background": "light"
     },
     "output_type": "display_data"
    },
    {
     "name": "stdout",
     "output_type": "stream",
     "text": [
      "Solution: [[29, 29], [26, 28], [8, 27], [29, 23], [11, 25], [14, 24], [17, 23], [20, 22], [29, 12], [29, 0], [26, 15], [23, 18], [26, 0], [23, 0], [20, 0], [17, 0], [14, 0], [11, 0], [8, 0], [0, 29], [4, 28], [4, 23], [4, 17], [4, 0], [4, 7], [0, 18], [0, 0]]\n",
      "[w, h]:   [[3, 3], [3, 4], [3, 5], [3, 6], [3, 7], [3, 8], [3, 9], [3, 10], [3, 11], [3, 12], [3, 13], [3, 14], [3, 15], [3, 18], [3, 22], [3, 23], [3, 24], [3, 25], [3, 27], [4, 3], [4, 4], [4, 5], [4, 6], [4, 7], [4, 10], [4, 11], [4, 18]]\n",
      "\n",
      "Pieces: [[3, 3], [3, 4], [3, 5], [3, 6], [3, 7], [3, 8], [3, 9], [3, 10], [3, 11], [3, 12], [3, 13], [3, 14], [3, 15], [3, 18], [3, 22], [3, 23], [3, 24], [3, 25], [3, 27], [4, 3], [4, 4], [4, 5], [4, 6], [4, 7], [4, 10], [4, 11], [4, 18]]\n",
      "\n",
      "\n",
      "\n",
      "|| === Instance 33x33 === ||\n",
      "%%%mzn-stat: nSolutions=1\n",
      "Solver output:\n",
      "Generated FlatZinc statistics:\n",
      "mzn-stat: paths=0\n",
      "mzn-stat: flatBoolVars=1010\n",
      "mzn-stat: flatIntVars=89\n",
      "mzn-stat: flatBoolConstraints=253\n",
      "mzn-stat: flatIntConstraints=1060\n",
      "mzn-stat: evaluatedHalfReifiedConstraints=1010\n",
      "mzn-stat: method=\"satisfy\"\n",
      "mzn-stat: flatTime=0.267048\n",
      "mzn-stat-end\n",
      "mzn-stat: initTime=0.059\n",
      "mzn-stat: solveTime=0.056\n",
      "mzn-stat: solutions=1\n",
      "mzn-stat: variables=1112\n",
      "mzn-stat: propagators=878\n",
      "mzn-stat: propagations=114945\n",
      "mzn-stat: nodes=2061\n",
      "mzn-stat: failures=1016\n",
      "mzn-stat: restarts=0\n",
      "mzn-stat: peakDepth=30\n",
      "mzn-stat-end\n"
     ]
    },
    {
     "data": {
      "image/png": "[encoded data removed]",
      "text/plain": [
       "<Figure size 432x288 with 1 Axes>"
      ]
     },
     "metadata": {
      "needs_background": "light"
     },
     "output_type": "display_data"
    },
    {
     "name": "stdout",
     "output_type": "stream",
     "text": [
      "Solution: [[18, 30], [27, 29], [30, 21], [24, 27], [30, 26], [30, 13], [21, 24], [24, 17], [30, 0], [27, 15], [27, 0], [24, 0], [21, 0], [18, 0], [15, 0], [11, 24], [7, 29], [11, 27], [11, 14], [7, 17], [11, 0], [7, 0], [0, 0]]\n",
      "[w, h]:   [[3, 3], [3, 4], [3, 5], [3, 6], [3, 7], [3, 8], [3, 9], [3, 10], [3, 13], [3, 14], [3, 15], [3, 17], [3, 24], [3, 30], [3, 33], [4, 3], [4, 4], [4, 6], [4, 10], [4, 12], [4, 14], [4, 17], [7, 33]]\n",
      "\n",
      "Pieces: [[3, 3], [3, 4], [3, 5], [3, 6], [3, 7], [3, 8], [3, 9], [3, 10], [3, 13], [3, 14], [3, 15], [3, 17], [3, 24], [3, 30], [3, 33], [4, 3], [4, 4], [4, 6], [4, 10], [4, 12], [4, 14], [4, 17], [7, 33]]\n",
      "\n",
      "\n",
      "\n",
      "|| === Instance 34x34 === ||\n",
      "%%%mzn-stat: nSolutions=1\n",
      "Solver output:\n",
      "Generated FlatZinc statistics:\n",
      "mzn-stat: paths=0\n",
      "mzn-stat: flatBoolVars=810\n",
      "mzn-stat: flatIntVars=78\n",
      "mzn-stat: flatBoolConstraints=206\n",
      "mzn-stat: flatIntConstraints=852\n",
      "mzn-stat: evaluatedHalfReifiedConstraints=810\n",
      "mzn-stat: method=\"satisfy\"\n",
      "mzn-stat: flatTime=0.254391\n",
      "mzn-stat-end\n",
      "mzn-stat: initTime=0.047\n",
      "mzn-stat: solveTime=0.001\n",
      "mzn-stat: solutions=1\n",
      "mzn-stat: variables=920\n",
      "mzn-stat: propagators=774\n",
      "mzn-stat: propagations=3508\n",
      "mzn-stat: nodes=29\n",
      "mzn-stat: failures=2\n",
      "mzn-stat: restarts=0\n",
      "mzn-stat: peakDepth=26\n",
      "mzn-stat-end\n"
     ]
    },
    {
     "data": {
      "image/png": "[encoded data removed]",
      "text/plain": [
       "<Figure size 432x288 with 1 Axes>"
      ]
     },
     "metadata": {
      "needs_background": "light"
     },
     "output_type": "display_data"
    },
    {
     "name": "stdout",
     "output_type": "stream",
     "text": [
      "Solution: [[28, 31], [31, 30], [31, 25], [28, 25], [31, 18], [31, 0], [19, 25], [31, 8], [28, 14], [22, 22], [25, 21], [28, 0], [25, 0], [22, 0], [19, 0], [16, 0], [12, 30], [12, 25], [12, 14], [12, 0], [0, 0]]\n",
      "[w, h]:   [[3, 3], [3, 4], [3, 5], [3, 6], [3, 7], [3, 8], [3, 9], [3, 10], [3, 11], [3, 12], [3, 13], [3, 14], [3, 21], [3, 22], [3, 25], [3, 34], [4, 4], [4, 5], [4, 11], [4, 14], [12, 34]]\n",
      "\n",
      "Pieces: [[3, 3], [3, 4], [3, 5], [3, 6], [3, 7], [3, 8], [3, 9], [3, 10], [3, 11], [3, 12], [3, 13], [3, 14], [3, 21], [3, 22], [3, 25], [3, 34], [4, 4], [4, 5], [4, 11], [4, 14], [12, 34]]\n",
      "\n",
      "\n",
      "\n",
      "|| === Instance 35x35 === ||\n",
      "%%%mzn-stat: nSolutions=1\n",
      "Solver output:\n",
      "Generated FlatZinc statistics:\n",
      "mzn-stat: paths=0\n",
      "mzn-stat: flatBoolVars=924\n",
      "mzn-stat: flatIntVars=86\n",
      "mzn-stat: flatBoolConstraints=231\n",
      "mzn-stat: flatIntConstraints=973\n",
      "mzn-stat: evaluatedHalfReifiedConstraints=924\n",
      "mzn-stat: method=\"satisfy\"\n",
      "mzn-stat: flatTime=0.265724\n",
      "mzn-stat-end\n",
      "mzn-stat: initTime=0.057\n",
      "mzn-stat: solveTime=0.003\n",
      "mzn-stat: solutions=1\n",
      "mzn-stat: variables=1020\n",
      "mzn-stat: propagators=852\n",
      "mzn-stat: propagations=5449\n",
      "mzn-stat: nodes=85\n",
      "mzn-stat: failures=29\n",
      "mzn-stat: restarts=0\n",
      "mzn-stat: peakDepth=28\n",
      "mzn-stat-end\n"
     ]
    },
    {
     "data": {
      "image/png": "[encoded data removed]",
      "text/plain": [
       "<Figure size 432x288 with 1 Axes>"
      ]
     },
     "metadata": {
      "needs_background": "light"
     },
     "output_type": "display_data"
    },
    {
     "name": "stdout",
     "output_type": "stream",
     "text": [
      "Solution: [[26, 32], [29, 31], [32, 22], [32, 16], [32, 9], [32, 27], [32, 0], [26, 22], [29, 19], [29, 0], [26, 0], [22, 32], [22, 28], [22, 23], [22, 17], [18, 28], [18, 20], [14, 23], [22, 0], [18, 0], [14, 0], [0, 0]]\n",
      "[w, h]:   [[3, 3], [3, 4], [3, 5], [3, 6], [3, 7], [3, 8], [3, 9], [3, 10], [3, 12], [3, 19], [3, 22], [4, 3], [4, 4], [4, 5], [4, 6], [4, 7], [4, 8], [4, 12], [4, 17], [4, 20], [4, 23], [14, 35]]\n",
      "\n",
      "Pieces: [[3, 3], [3, 4], [3, 5], [3, 6], [3, 7], [3, 8], [3, 9], [3, 10], [3, 12], [3, 19], [3, 22], [4, 3], [4, 4], [4, 5], [4, 6], [4, 7], [4, 8], [4, 12], [4, 17], [4, 20], [4, 23], [14, 35]]\n",
      "\n",
      "\n",
      "\n",
      "|| === Instance 36x36 === ||\n",
      "%%%mzn-stat: nSolutions=1\n",
      "Solver output:\n",
      "Generated FlatZinc statistics:\n",
      "mzn-stat: paths=0\n",
      "mzn-stat: flatBoolVars=916\n",
      "mzn-stat: flatIntVars=82\n",
      "mzn-stat: flatBoolConstraints=234\n",
      "mzn-stat: flatIntConstraints=960\n",
      "mzn-stat: evaluatedHalfReifiedConstraints=916\n",
      "mzn-stat: method=\"satisfy\"\n",
      "mzn-stat: flatTime=0.272395\n",
      "mzn-stat-end\n",
      "mzn-stat: initTime=0.054\n",
      "mzn-stat: solveTime=0.003\n",
      "mzn-stat: solutions=1\n",
      "mzn-stat: variables=1046\n",
      "mzn-stat: propagators=838\n",
      "mzn-stat: propagations=5778\n",
      "mzn-stat: nodes=70\n",
      "mzn-stat: failures=22\n",
      "mzn-stat: restarts=0\n",
      "mzn-stat: peakDepth=26\n",
      "mzn-stat-end\n"
     ]
    },
    {
     "data": {
      "image/png": "[encoded data removed]",
      "text/plain": [
       "<Figure size 432x288 with 1 Axes>"
      ]
     },
     "metadata": {
      "needs_background": "light"
     },
     "output_type": "display_data"
    },
    {
     "name": "stdout",
     "output_type": "stream",
     "text": [
      "Solution: [[30, 33], [33, 32], [27, 31], [33, 26], [33, 19], [30, 25], [33, 10], [33, 0], [30, 14], [24, 24], [30, 0], [27, 16], [27, 0], [24, 0], [21, 0], [17, 33], [17, 22], [17, 0], [12, 18], [12, 14], [12, 0], [12, 21], [0, 0]]\n",
      "[w, h]:   [[3, 3], [3, 4], [3, 5], [3, 6], [3, 7], [3, 8], [3, 9], [3, 10], [3, 11], [3, 12], [3, 14], [3, 15], [3, 16], [3, 24], [3, 36], [4, 3], [4, 11], [4, 22], [5, 3], [5, 4], [5, 14], [5, 15], [12, 36]]\n",
      "\n",
      "Pieces: [[3, 3], [3, 4], [3, 5], [3, 6], [3, 7], [3, 8], [3, 9], [3, 10], [3, 11], [3, 12], [3, 14], [3, 15], [3, 16], [3, 24], [3, 36], [4, 3], [4, 11], [4, 22], [5, 3], [5, 4], [5, 14], [5, 15], [12, 36]]\n",
      "\n",
      "\n",
      "\n",
      "|| === Instance 37x37 === ||\n",
      "%%%mzn-stat: nSolutions=1\n",
      "Solver output:\n",
      "Generated FlatZinc statistics:\n",
      "mzn-stat: paths=0\n",
      "mzn-stat: flatBoolVars=1364\n",
      "mzn-stat: flatIntVars=102\n",
      "mzn-stat: flatBoolConstraints=346\n",
      "mzn-stat: flatIntConstraints=1419\n",
      "mzn-stat: evaluatedHalfReifiedConstraints=1364\n",
      "mzn-stat: method=\"satisfy\"\n",
      "mzn-stat: flatTime=0.298069\n",
      "mzn-stat-end\n",
      "mzn-stat: initTime=0.079\n",
      "mzn-stat: solveTime=0.412\n",
      "mzn-stat: solutions=1\n",
      "mzn-stat: variables=1500\n",
      "mzn-stat: propagators=1222\n",
      "mzn-stat: propagations=532406\n",
      "mzn-stat: nodes=10830\n",
      "mzn-stat: failures=5399\n",
      "mzn-stat: restarts=0\n",
      "mzn-stat: peakDepth=34\n",
      "mzn-stat-end\n"
     ]
    },
    {
     "data": {
      "image/png": "[encoded data removed]",
      "text/plain": [
       "<Figure size 432x288 with 1 Axes>"
      ]
     },
     "metadata": {
      "needs_background": "light"
     },
     "output_type": "display_data"
    },
    {
     "name": "stdout",
     "output_type": "stream",
     "text": [
      "Solution: [[25, 34], [34, 33], [28, 32], [34, 27], [34, 20], [31, 29], [34, 11], [34, 0], [31, 17], [25, 21], [28, 18], [31, 0], [28, 0], [25, 0], [17, 34], [21, 33], [21, 28], [21, 22], [17, 24], [21, 0], [17, 0], [12, 30], [12, 33], [12, 24], [12, 14], [12, 0], [0, 0]]\n",
      "[w, h]:   [[3, 3], [3, 4], [3, 5], [3, 6], [3, 7], [3, 8], [3, 9], [3, 11], [3, 12], [3, 13], [3, 14], [3, 17], [3, 18], [3, 21], [4, 3], [4, 4], [4, 5], [4, 6], [4, 10], [4, 22], [4, 24], [5, 3], [5, 4], [5, 6], [5, 10], [5, 14], [12, 37]]\n",
      "\n",
      "Pieces: [[3, 3], [3, 4], [3, 5], [3, 6], [3, 7], [3, 8], [3, 9], [3, 11], [3, 12], [3, 13], [3, 14], [3, 17], [3, 18], [3, 21], [4, 3], [4, 4], [4, 5], [4, 6], [4, 10], [4, 22], [4, 24], [5, 3], [5, 4], [5, 6], [5, 10], [5, 14], [12, 37]]\n",
      "\n",
      "\n",
      "\n",
      "|| === Instance 38x38 === ||\n",
      "%%%mzn-stat: nSolutions=1\n",
      "Solver output:\n",
      "Generated FlatZinc statistics:\n",
      "mzn-stat: paths=0\n",
      "mzn-stat: flatBoolVars=684\n",
      "mzn-stat: flatIntVars=74\n",
      "mzn-stat: flatBoolConstraints=171\n",
      "mzn-stat: flatIntConstraints=727\n",
      "mzn-stat: evaluatedHalfReifiedConstraints=684\n",
      "mzn-stat: method=\"satisfy\"\n",
      "mzn-stat: flatTime=0.253349\n",
      "mzn-stat-end\n",
      "mzn-stat: initTime=0.044\n",
      "mzn-stat: solveTime=0.001\n",
      "mzn-stat: solutions=1\n",
      "mzn-stat: variables=768\n",
      "mzn-stat: propagators=647\n",
      "mzn-stat: propagations=3247\n",
      "mzn-stat: nodes=35\n",
      "mzn-stat: failures=6\n",
      "mzn-stat: restarts=0\n",
      "mzn-stat: peakDepth=22\n",
      "mzn-stat-end\n"
     ]
    },
    {
     "data": {
      "image/png": "[encoded data removed]",
      "text/plain": [
       "<Figure size 432x288 with 1 Axes>"
      ]
     },
     "metadata": {
      "needs_background": "light"
     },
     "output_type": "display_data"
    },
    {
     "name": "stdout",
     "output_type": "stream",
     "text": [
      "Solution: [[35, 9], [32, 34], [35, 33], [35, 27], [35, 20], [35, 12], [35, 0], [32, 24], [32, 13], [32, 0], [24, 35], [28, 33], [28, 27], [24, 27], [24, 16], [28, 15], [28, 0], [24, 0], [0, 0]]\n",
      "[w, h]:   [[3, 3], [3, 4], [3, 5], [3, 6], [3, 7], [3, 8], [3, 9], [3, 10], [3, 11], [3, 13], [4, 3], [4, 5], [4, 6], [4, 8], [4, 11], [4, 12], [4, 15], [4, 16], [24, 38]]\n",
      "\n",
      "Pieces: [[3, 3], [3, 4], [3, 5], [3, 6], [3, 7], [3, 8], [3, 9], [3, 10], [3, 11], [3, 13], [4, 3], [4, 5], [4, 6], [4, 8], [4, 11], [4, 12], [4, 15], [4, 16], [24, 38]]\n",
      "\n",
      "\n",
      "\n",
      "|| === Instance 39x39 === ||\n",
      "%%%mzn-stat: nSolutions=1\n",
      "Solver output:\n",
      "Generated FlatZinc statistics:\n",
      "mzn-stat: paths=0\n",
      "mzn-stat: flatBoolVars=1624\n",
      "mzn-stat: flatIntVars=114\n",
      "mzn-stat: flatBoolConstraints=406\n",
      "mzn-stat: flatIntConstraints=1688\n",
      "mzn-stat: evaluatedHalfReifiedConstraints=1624\n",
      "mzn-stat: method=\"satisfy\"\n",
      "mzn-stat: flatTime=0.31573\n",
      "mzn-stat-end\n",
      "mzn-stat: initTime=0.088\n",
      "mzn-stat: solveTime=0.003\n",
      "mzn-stat: solutions=1\n",
      "mzn-stat: variables=1748\n",
      "mzn-stat: propagators=1431\n",
      "mzn-stat: propagations=5702\n",
      "mzn-stat: nodes=33\n",
      "mzn-stat: failures=0\n",
      "mzn-stat: restarts=0\n",
      "mzn-stat: peakDepth=32\n",
      "mzn-stat-end\n"
     ]
    },
    {
     "data": {
      "image/png": "[encoded data removed]",
      "text/plain": [
       "<Figure size 432x288 with 1 Axes>"
      ]
     },
     "metadata": {
      "needs_background": "light"
     },
     "output_type": "display_data"
    },
    {
     "name": "stdout",
     "output_type": "stream",
     "text": [
      "Solution: [[33, 36], [36, 35], [36, 30], [36, 24], [36, 8], [36, 0], [36, 15], [33, 26], [33, 15], [33, 0], [29, 36], [29, 32], [29, 27], [29, 21], [25, 31], [29, 12], [29, 0], [25, 16], [25, 0], [20, 27], [20, 35], [20, 30], [20, 21], [15, 31], [20, 11], [20, 0], [15, 18], [15, 0], [0, 0]]\n",
      "[w, h]:   [[3, 3], [3, 4], [3, 5], [3, 6], [3, 7], [3, 8], [3, 9], [3, 10], [3, 11], [3, 15], [4, 3], [4, 4], [4, 5], [4, 6], [4, 8], [4, 9], [4, 12], [4, 15], [4, 16], [5, 3], [5, 4], [5, 5], [5, 6], [5, 8], [5, 10], [5, 11], [5, 13], [5, 18], [15, 39]]\n",
      "\n",
      "Pieces: [[3, 3], [3, 4], [3, 5], [3, 6], [3, 7], [3, 8], [3, 9], [3, 10], [3, 11], [3, 15], [4, 3], [4, 4], [4, 5], [4, 6], [4, 8], [4, 9], [4, 12], [4, 15], [4, 16], [5, 3], [5, 4], [5, 5], [5, 6], [5, 8], [5, 10], [5, 11], [5, 13], [5, 18], [15, 39]]\n",
      "\n",
      "\n",
      "\n",
      "|| === Instance 40x40 === ||\n",
      "%%%mzn-stat: nSolutions=1\n",
      "Solver output:\n",
      "Generated FlatZinc statistics:\n",
      "mzn-stat: paths=0\n",
      "mzn-stat: flatBoolVars=640\n",
      "mzn-stat: flatIntVars=69\n",
      "mzn-stat: flatBoolConstraints=167\n",
      "mzn-stat: flatIntConstraints=677\n",
      "mzn-stat: evaluatedHalfReifiedConstraints=640\n",
      "mzn-stat: method=\"satisfy\"\n",
      "mzn-stat: flatTime=0.252383\n",
      "mzn-stat-end\n",
      "mzn-stat: initTime=0.041\n",
      "mzn-stat: solveTime=0.001\n",
      "mzn-stat: solutions=1\n",
      "mzn-stat: variables=762\n",
      "mzn-stat: propagators=568\n",
      "mzn-stat: propagations=2397\n",
      "mzn-stat: nodes=22\n",
      "mzn-stat: failures=1\n",
      "mzn-stat: restarts=0\n",
      "mzn-stat: peakDepth=20\n",
      "mzn-stat-end\n"
     ]
    },
    {
     "data": {
      "image/png": "[encoded data removed]",
      "text/plain": [
       "<Figure size 432x288 with 1 Axes>"
      ]
     },
     "metadata": {
      "needs_background": "light"
     },
     "output_type": "display_data"
    },
    {
     "name": "stdout",
     "output_type": "stream",
     "text": [
      "Solution: [[34, 37], [37, 36], [37, 31], [37, 25], [37, 18], [37, 10], [34, 28], [37, 0], [34, 16], [34, 0], [31, 0], [27, 36], [27, 22], [27, 0], [22, 33], [22, 36], [22, 25], [22, 0], [22, 12], [0, 0]]\n",
      "[w, h]:   [[3, 3], [3, 4], [3, 5], [3, 6], [3, 7], [3, 8], [3, 9], [3, 10], [3, 12], [3, 16], [3, 40], [4, 4], [4, 14], [4, 22], [5, 3], [5, 4], [5, 8], [5, 12], [5, 13], [22, 40]]\n",
      "\n",
      "Pieces: [[3, 3], [3, 4], [3, 5], [3, 6], [3, 7], [3, 8], [3, 9], [3, 10], [3, 12], [3, 16], [3, 40], [4, 4], [4, 14], [4, 22], [5, 3], [5, 4], [5, 8], [5, 12], [5, 13], [22, 40]]\n",
      "\n",
      "\n",
      "\n"
     ]
    }
   ],
   "source": [
    "starting_instance = 8\n",
    "ending_instance = 40\n",
    "\n",
    "for i in range(starting_instance, ending_instance+1):\n",
    "    path = f\"CP/src/{i}x{i}.txt\"\n",
    "    pr_w, pr_h, n_pieces, L = read_instance(path)\n",
    "    \n",
    "    print(f\"|| === Instance {i}x{i} === ||\")\n",
    "    # execute the model to get the first solution in 5 min max\n",
    "    sol = %minizinc -s CP/pwp_v9.mzn -t 300000\n",
    "    \n",
    "    if sol is not None:\n",
    "        graph_solution(pr_w, pr_h, n_pieces, L, sol['q'])\n",
    "    else:\n",
    "        print(\"No solution found in 5min\")\n",
    "        \n",
    "    print(f\"Pieces: {L}\")\n",
    "    print(\"\\n\\n\")"
   ]
  },
  {
   "cell_type": "markdown",
   "metadata": {},
   "source": [
    "ROTATION"
   ]
  },
  {
   "cell_type": "code",
   "execution_count": 12,
   "metadata": {},
   "outputs": [
    {
     "name": "stdout",
     "output_type": "stream",
     "text": [
      "%%%mzn-stat: nSolutions=62\n",
      "Solver output:\n",
      "Generated FlatZinc statistics:\n",
      "mzn-stat: paths=0\n",
      "mzn-stat: flatBoolVars=60\n",
      "mzn-stat: flatIntVars=38\n",
      "mzn-stat: flatBoolConstraints=15\n",
      "mzn-stat: flatIntConstraints=94\n",
      "mzn-stat: evaluatedHalfReifiedConstraints=60\n",
      "mzn-stat: method=\"satisfy\"\n",
      "mzn-stat: flatTime=0.156551\n",
      "mzn-stat-end\n",
      "mzn-stat: initTime=0.011\n",
      "mzn-stat: solveTime=0.01\n",
      "mzn-stat: solutions=62\n",
      "mzn-stat: variables=104\n",
      "mzn-stat: propagators=119\n",
      "mzn-stat: propagations=38210\n",
      "mzn-stat: nodes=651\n",
      "mzn-stat: failures=264\n",
      "mzn-stat: restarts=0\n",
      "mzn-stat: peakDepth=11\n",
      "mzn-stat-end\n",
      "0 : [[0, 0], [7, 3], [4, 0], [0, 6], [4, 6], [4, 3]] \n",
      "rotation: [0, 0, 1, 0, 0, 0]\n"
     ]
    },
    {
     "data": {
      "image/png": "[encoded data removed]",
      "text/plain": [
       "<Figure size 432x288 with 1 Axes>"
      ]
     },
     "metadata": {
      "needs_background": "light"
     },
     "output_type": "display_data"
    },
    {
     "name": "stdout",
     "output_type": "stream",
     "text": [
      "Solution: [[0, 0], [7, 3], [4, 0], [0, 6], [4, 6], [4, 3]]\n",
      "[w, h]:   [[4, 6], [3, 7], [6, 3], [4, 4], [3, 4], [3, 3]]\n",
      "\n",
      "1 : [[0, 0], [7, 3], [4, 0], [0, 6], [4, 3], [4, 7]] \n",
      "rotation: [0, 0, 1, 0, 0, 0]\n"
     ]
    },
    {
     "data": {
      "image/png": "[encoded data removed]",
      "text/plain": [
       "<Figure size 432x288 with 1 Axes>"
      ]
     },
     "metadata": {
      "needs_background": "light"
     },
     "output_type": "display_data"
    },
    {
     "name": "stdout",
     "output_type": "stream",
     "text": [
      "Solution: [[0, 0], [7, 3], [4, 0], [0, 6], [4, 3], [4, 7]]\n",
      "[w, h]:   [[4, 6], [3, 7], [6, 3], [4, 4], [3, 4], [3, 3]]\n",
      "\n",
      "2 : [[0, 0], [7, 0], [4, 7], [0, 6], [4, 3], [4, 0]] \n",
      "rotation: [0, 0, 1, 0, 0, 0]\n"
     ]
    },
    {
     "data": {
      "image/png": "[encoded data removed]",
      "text/plain": [
       "<Figure size 432x288 with 1 Axes>"
      ]
     },
     "metadata": {
      "needs_background": "light"
     },
     "output_type": "display_data"
    },
    {
     "name": "stdout",
     "output_type": "stream",
     "text": [
      "Solution: [[0, 0], [7, 0], [4, 7], [0, 6], [4, 3], [4, 0]]\n",
      "[w, h]:   [[4, 6], [3, 7], [6, 3], [4, 4], [3, 4], [3, 3]]\n",
      "\n",
      "3 : [[0, 0], [7, 0], [4, 7], [0, 6], [4, 0], [4, 4]] \n",
      "rotation: [0, 0, 1, 0, 0, 0]\n"
     ]
    },
    {
     "data": {
      "image/png": "[encoded data removed]",
      "text/plain": [
       "<Figure size 432x288 with 1 Axes>"
      ]
     },
     "metadata": {
      "needs_background": "light"
     },
     "output_type": "display_data"
    },
    {
     "name": "stdout",
     "output_type": "stream",
     "text": [
      "Solution: [[0, 0], [7, 0], [4, 7], [0, 6], [4, 0], [4, 4]]\n",
      "[w, h]:   [[4, 6], [3, 7], [6, 3], [4, 4], [3, 4], [3, 3]]\n",
      "\n",
      "4 : [[0, 0], [7, 3], [4, 4], [0, 6], [4, 0], [7, 0]] \n",
      "rotation: [0, 0, 0, 0, 0, 0]\n"
     ]
    },
    {
     "data": {
      "image/png": "[encoded data removed]",
      "text/plain": [
       "<Figure size 432x288 with 1 Axes>"
      ]
     },
     "metadata": {
      "needs_background": "light"
     },
     "output_type": "display_data"
    },
    {
     "name": "stdout",
     "output_type": "stream",
     "text": [
      "Solution: [[0, 0], [7, 3], [4, 4], [0, 6], [4, 0], [7, 0]]\n",
      "[w, h]:   [[4, 6], [3, 7], [3, 6], [4, 4], [3, 4], [3, 3]]\n",
      "\n",
      " ... \n",
      "57 : [[3, 0], [7, 0], [0, 4], [3, 6], [0, 0], [7, 7]] \n",
      "rotation: [0, 0, 0, 0, 0, 0]\n"
     ]
    },
    {
     "data": {
      "image/png": "[encoded data removed]",
      "text/plain": [
       "<Figure size 432x288 with 1 Axes>"
      ]
     },
     "metadata": {
      "needs_background": "light"
     },
     "output_type": "display_data"
    },
    {
     "name": "stdout",
     "output_type": "stream",
     "text": [
      "Solution: [[3, 0], [7, 0], [0, 4], [3, 6], [0, 0], [7, 7]]\n",
      "[w, h]:   [[4, 6], [3, 7], [3, 6], [4, 4], [3, 4], [3, 3]]\n",
      "\n",
      "58 : [[3, 0], [7, 3], [0, 0], [3, 6], [0, 6], [7, 0]] \n",
      "rotation: [0, 0, 0, 0, 0, 0]\n"
     ]
    },
    {
     "data": {
      "image/png": "[encoded data removed]",
      "text/plain": [
       "<Figure size 432x288 with 1 Axes>"
      ]
     },
     "metadata": {
      "needs_background": "light"
     },
     "output_type": "display_data"
    },
    {
     "name": "stdout",
     "output_type": "stream",
     "text": [
      "Solution: [[3, 0], [7, 3], [0, 0], [3, 6], [0, 6], [7, 0]]\n",
      "[w, h]:   [[4, 6], [3, 7], [3, 6], [4, 4], [3, 4], [3, 3]]\n",
      "\n",
      "59 : [[3, 0], [7, 0], [0, 0], [3, 6], [0, 6], [7, 7]] \n",
      "rotation: [0, 0, 0, 0, 0, 0]\n"
     ]
    },
    {
     "data": {
      "image/png": "[encoded data removed]",
      "text/plain": [
       "<Figure size 432x288 with 1 Axes>"
      ]
     },
     "metadata": {
      "needs_background": "light"
     },
     "output_type": "display_data"
    },
    {
     "name": "stdout",
     "output_type": "stream",
     "text": [
      "Solution: [[3, 0], [7, 0], [0, 0], [3, 6], [0, 6], [7, 7]]\n",
      "[w, h]:   [[4, 6], [3, 7], [3, 6], [4, 4], [3, 4], [3, 3]]\n",
      "\n",
      "60 : [[3, 0], [0, 3], [7, 0], [6, 6], [3, 6], [0, 0]] \n",
      "rotation: [0, 0, 0, 0, 0, 0]\n"
     ]
    },
    {
     "data": {
      "image/png": "[encoded data removed]",
      "text/plain": [
       "<Figure size 432x288 with 1 Axes>"
      ]
     },
     "metadata": {
      "needs_background": "light"
     },
     "output_type": "display_data"
    },
    {
     "name": "stdout",
     "output_type": "stream",
     "text": [
      "Solution: [[3, 0], [0, 3], [7, 0], [6, 6], [3, 6], [0, 0]]\n",
      "[w, h]:   [[4, 6], [3, 7], [3, 6], [4, 4], [3, 4], [3, 3]]\n",
      "\n",
      "61 : [[3, 0], [0, 0], [7, 0], [6, 6], [3, 6], [0, 7]] \n",
      "rotation: [0, 0, 0, 0, 0, 0]\n"
     ]
    },
    {
     "data": {
      "image/png": "[encoded data removed]",
      "text/plain": [
       "<Figure size 432x288 with 1 Axes>"
      ]
     },
     "metadata": {
      "needs_background": "light"
     },
     "output_type": "display_data"
    },
    {
     "name": "stdout",
     "output_type": "stream",
     "text": [
      "Solution: [[3, 0], [0, 0], [7, 0], [6, 6], [3, 6], [0, 7]]\n",
      "[w, h]:   [[4, 6], [3, 7], [3, 6], [4, 4], [3, 4], [3, 3]]\n",
      "\n",
      "Tot: 62\n",
      "\n"
     ]
    }
   ],
   "source": [
    "model_name = \"pwp_v7-rot\"\n",
    "instance_name = \"10x10\"\n",
    "\n",
    "path = f\"CP/src/{instance_name}.txt\"\n",
    "pr_w, pr_h, n_pieces, L = read_instance(path)\n",
    "unordered_pieces = list(L)\n",
    "decr_order = True\n",
    "\n",
    "L = order_pieces(unordered_pieces, reverse=decr_order)\n",
    "\n",
    "solutions = %minizinc -a -s CP/pwp_v7-rot.mzn -t 300000\n",
    "\n",
    "# Update L for each piece rotated\n",
    "\n",
    "print_solutions(solutions, {'w': pr_w, 'h': pr_h, 'n': n_pieces, 'p': L})"
   ]
  },
  {
   "cell_type": "code",
   "execution_count": 16,
   "metadata": {},
   "outputs": [
    {
     "name": "stdout",
     "output_type": "stream",
     "text": [
      "Warning, ignored search annotation: search_ann\r\n",
      "%%%mzn-stat: nSolutions=3\n",
      "Solver output:\n",
      "Generated FlatZinc statistics:\n",
      "mzn-stat: paths=0\n",
      "mzn-stat: flatBoolVars=24\n",
      "mzn-stat: flatIntVars=18\n",
      "mzn-stat: flatBoolConstraints=6\n",
      "mzn-stat: flatIntConstraints=36\n",
      "mzn-stat: evaluatedHalfReifiedConstraints=24\n",
      "mzn-stat: method=\"satisfy\"\n",
      "mzn-stat: flatTime=0.160903\n",
      "mzn-stat-end\n",
      "mzn-stat: initTime=0.01\n",
      "mzn-stat: solveTime=0\n",
      "mzn-stat: solutions=3\n",
      "mzn-stat: variables=42\n",
      "mzn-stat: propagators=22\n",
      "mzn-stat: propagations=162\n",
      "mzn-stat: nodes=7\n",
      "mzn-stat: failures=1\n",
      "mzn-stat: restarts=0\n",
      "mzn-stat: peakDepth=1\n",
      "mzn-stat-end\n",
      "0 : [[0, 0], [5, 3], [0, 5], [5, 0]] \n"
     ]
    },
    {
     "data": {
      "image/png": "[encoded data removed]",
      "text/plain": [
       "<Figure size 432x288 with 1 Axes>"
      ]
     },
     "metadata": {
      "needs_background": "light"
     },
     "output_type": "display_data"
    },
    {
     "name": "stdout",
     "output_type": "stream",
     "text": [
      "Solution: [[0, 0], [5, 3], [0, 5], [5, 0]]\n",
      "[w, h]:   [[5, 5], [3, 5], [5, 3], [3, 3]]\n",
      "\n",
      "1 : [[0, 0], [5, 0], [3, 5], [0, 5]] \n"
     ]
    },
    {
     "data": {
      "image/png": "[encoded data removed]",
      "text/plain": [
       "<Figure size 432x288 with 1 Axes>"
      ]
     },
     "metadata": {
      "needs_background": "light"
     },
     "output_type": "display_data"
    },
    {
     "name": "stdout",
     "output_type": "stream",
     "text": [
      "Solution: [[0, 0], [5, 0], [3, 5], [0, 5]]\n",
      "[w, h]:   [[5, 5], [3, 5], [5, 3], [3, 3]]\n",
      "\n",
      "2 : [[0, 0], [5, 0], [0, 5], [5, 5]] \n"
     ]
    },
    {
     "data": {
      "image/png": "[encoded data removed]",
      "text/plain": [
       "<Figure size 432x288 with 1 Axes>"
      ]
     },
     "metadata": {
      "needs_background": "light"
     },
     "output_type": "display_data"
    },
    {
     "name": "stdout",
     "output_type": "stream",
     "text": [
      "Solution: [[0, 0], [5, 0], [0, 5], [5, 5]]\n",
      "[w, h]:   [[5, 5], [3, 5], [5, 3], [3, 3]]\n",
      "\n",
      "Tot: 3\n",
      "\n"
     ]
    }
   ],
   "source": [
    "model_name = \"pwp_v7-same-dim\"\n",
    "instance_name = \"8x8\"\n",
    "\n",
    "path = f\"CP/src/{instance_name}.txt\"\n",
    "pr_w, pr_h, n_pieces, L = read_instance(path)\n",
    "unordered_pieces = list(L)\n",
    "decr_order = True\n",
    "\n",
    "L = order_pieces(unordered_pieces, reverse=decr_order)\n",
    "\n",
    "solutions = %minizinc -a -s CP/pwp_v7-same-dim.mzn -t 300000\n",
    "\n",
    "# Update L for each piece rotated\n",
    "\n",
    "print_solutions(solutions, {'w': pr_w, 'h': pr_h, 'n': n_pieces, 'p': L})\n"
   ]
  },
  {
   "cell_type": "code",
   "execution_count": 6,
   "metadata": {},
   "outputs": [
    {
     "name": "stdout",
     "output_type": "stream",
     "text": [
      "\r\n",
      "Column stacking: false\r\n",
      "%%%mzn-stat: nSolutions=1\n",
      "Solver output:\n",
      "Generated FlatZinc statistics:\n",
      "mzn-stat: paths=0\n",
      "mzn-stat: flatBoolVars=180\n",
      "mzn-stat: flatIntVars=41\n",
      "mzn-stat: flatBoolConstraints=45\n",
      "mzn-stat: flatIntConstraints=203\n",
      "mzn-stat: evaluatedHalfReifiedConstraints=180\n",
      "mzn-stat: method=\"satisfy\"\n",
      "mzn-stat: flatTime=0.169925\n",
      "mzn-stat-end\n",
      "mzn-stat: initTime=0.017\n",
      "mzn-stat: solveTime=0.001\n",
      "mzn-stat: solutions=1\n",
      "mzn-stat: variables=225\n",
      "mzn-stat: propagators=214\n",
      "mzn-stat: propagations=779\n",
      "mzn-stat: nodes=12\n",
      "mzn-stat: failures=0\n",
      "mzn-stat: restarts=0\n",
      "mzn-stat: peakDepth=11\n",
      "mzn-stat-end\n",
      "coords:   [[0, 0], [3, 0], [6, 0], [9, 0], [9, 8], [12, 0], [3, 12], [12, 6], [12, 11], [6, 9]]\n"
     ]
    },
    {
     "data": {
      "image/png": "[encoded data removed]",
      "text/plain": [
       "<Figure size 432x288 with 1 Axes>"
      ]
     },
     "metadata": {
      "needs_background": "light"
     },
     "output_type": "display_data"
    },
    {
     "name": "stdout",
     "output_type": "stream",
     "text": [
      "Solution: [[0, 0], [3, 0], [6, 0], [9, 0], [9, 8], [12, 0], [3, 12], [12, 6], [12, 11], [6, 9]]\n",
      "[w, h]:   [[3, 15], [3, 12], [3, 9], [3, 8], [3, 7], [3, 6], [6, 3], [3, 5], [3, 4], [3, 3]]\n",
      "\n",
      "Tot: 1\n",
      "\n"
     ]
    }
   ],
   "source": [
    "model_name = \"pwp_v8\"\n",
    "instance_name = \"15x15\"\n",
    "\n",
    "path = f\"CP/src/{instance_name}.txt\"\n",
    "pr_w, pr_h, n_pieces, L = read_instance(path)\n",
    "unordered_pieces = list(L)\n",
    "decr_order = True\n",
    "\n",
    "L = order_pieces(unordered_pieces, reverse=decr_order)\n",
    "\n",
    "solutions = %minizinc -s CP/pwp_v8.mzn -t 300000\n",
    "\n",
    "# Update L for each piece rotated\n",
    "\n",
    "print_solutions(solutions, {'w': pr_w, 'h': pr_h, 'n': n_pieces, 'p': L})"
   ]
  },
  {
   "cell_type": "code",
   "execution_count": 13,
   "metadata": {},
   "outputs": [
    {
     "name": "stdout",
     "output_type": "stream",
     "text": [
      "|| === Instance 8x8 === ||\n",
      "%%%mzn-stat: nSolutions=1\n",
      "Solver output:\n",
      "Generated FlatZinc statistics:\n",
      "mzn-stat: paths=0\n",
      "mzn-stat: flatBoolVars=4\n",
      "mzn-stat: flatIntVars=16\n",
      "mzn-stat: flatBoolConstraints=2\n",
      "mzn-stat: flatIntConstraints=14\n",
      "mzn-stat: evaluatedHalfReifiedConstraints=4\n",
      "mzn-stat: method=\"satisfy\"\n",
      "mzn-stat: flatTime=0.186045\n",
      "mzn-stat-end\n",
      "mzn-stat: initTime=0.009\n",
      "mzn-stat: solveTime=0\n",
      "mzn-stat: solutions=1\n",
      "mzn-stat: variables=40\n",
      "mzn-stat: propagators=7\n",
      "mzn-stat: propagations=30\n",
      "mzn-stat: nodes=2\n",
      "mzn-stat: failures=0\n",
      "mzn-stat: restarts=0\n",
      "mzn-stat: peakDepth=1\n",
      "mzn-stat-end\n"
     ]
    },
    {
     "data": {
      "image/png": "[encoded data removed]",
      "text/plain": [
       "<Figure size 432x288 with 1 Axes>"
      ]
     },
     "metadata": {
      "needs_background": "light"
     },
     "output_type": "display_data"
    },
    {
     "name": "stdout",
     "output_type": "stream",
     "text": [
      "Solution: [[5, 0], [5, 3], [0, 5], [0, 0]]\n",
      "[w, h]:   [[3, 3], [3, 5], [5, 3], [5, 5]]\n",
      "\n",
      "Pieces: [[3, 3], [3, 5], [5, 3], [5, 5]]\n",
      "\n",
      "\n",
      "\n",
      "|| === Instance 9x9 === ||\n",
      "%%%mzn-stat: nSolutions=1\n",
      "Solver output:\n",
      "Generated FlatZinc statistics:\n",
      "mzn-stat: paths=0\n",
      "mzn-stat: flatBoolVars=68\n",
      "mzn-stat: flatIntVars=28\n",
      "mzn-stat: flatBoolConstraints=24\n",
      "mzn-stat: flatIntConstraints=83\n",
      "mzn-stat: evaluatedHalfReifiedConstraints=68\n",
      "mzn-stat: method=\"satisfy\"\n",
      "mzn-stat: flatTime=0.169001\n",
      "mzn-stat-end\n",
      "mzn-stat: initTime=0.012\n",
      "mzn-stat: solveTime=0\n",
      "mzn-stat: solutions=1\n",
      "mzn-stat: variables=100\n",
      "mzn-stat: propagators=94\n",
      "mzn-stat: propagations=241\n",
      "mzn-stat: nodes=5\n",
      "mzn-stat: failures=0\n",
      "mzn-stat: restarts=0\n",
      "mzn-stat: peakDepth=4\n",
      "mzn-stat-end\n"
     ]
    },
    {
     "data": {
      "image/png": "[encoded data removed]",
      "text/plain": [
       "<Figure size 432x288 with 1 Axes>"
      ]
     },
     "metadata": {
      "needs_background": "light"
     },
     "output_type": "display_data"
    },
    {
     "name": "stdout",
     "output_type": "stream",
     "text": [
      "Solution: [[3, 0], [6, 5], [6, 0], [3, 3], [0, 0]]\n",
      "[w, h]:   [[3, 3], [3, 4], [3, 5], [3, 6], [3, 9]]\n",
      "\n",
      "Pieces: [[3, 3], [3, 4], [3, 5], [3, 6], [3, 9]]\n",
      "\n",
      "\n",
      "\n",
      "|| === Instance 10x10 === ||\n",
      "%%%mzn-stat: nSolutions=1\n",
      "Solver output:\n",
      "Generated FlatZinc statistics:\n",
      "mzn-stat: paths=0\n",
      "mzn-stat: flatBoolVars=74\n",
      "mzn-stat: flatIntVars=30\n",
      "mzn-stat: flatBoolConstraints=23\n",
      "mzn-stat: flatIntConstraints=90\n",
      "mzn-stat: evaluatedHalfReifiedConstraints=74\n",
      "mzn-stat: method=\"satisfy\"\n",
      "mzn-stat: flatTime=0.191319\n",
      "mzn-stat-end\n",
      "mzn-stat: initTime=0.012\n",
      "mzn-stat: solveTime=0.001\n",
      "mzn-stat: solutions=1\n",
      "mzn-stat: variables=115\n",
      "mzn-stat: propagators=73\n",
      "mzn-stat: propagations=251\n",
      "mzn-stat: nodes=4\n",
      "mzn-stat: failures=0\n",
      "mzn-stat: restarts=0\n",
      "mzn-stat: peakDepth=3\n",
      "mzn-stat-end\n"
     ]
    },
    {
     "data": {
      "image/png": "[encoded data removed]",
      "text/plain": [
       "<Figure size 432x288 with 1 Axes>"
      ]
     },
     "metadata": {
      "needs_background": "light"
     },
     "output_type": "display_data"
    },
    {
     "name": "stdout",
     "output_type": "stream",
     "text": [
      "Solution: [[4, 0], [7, 0], [7, 4], [4, 3], [0, 6], [0, 0]]\n",
      "[w, h]:   [[3, 3], [3, 4], [3, 6], [3, 7], [4, 4], [4, 6]]\n",
      "\n",
      "Pieces: [[3, 3], [3, 4], [3, 6], [3, 7], [4, 4], [4, 6]]\n",
      "\n",
      "\n",
      "\n",
      "|| === Instance 11x11 === ||\n",
      "%%%mzn-stat: nSolutions=1\n",
      "Solver output:\n",
      "Generated FlatZinc statistics:\n",
      "mzn-stat: paths=0\n",
      "mzn-stat: flatBoolVars=84\n",
      "mzn-stat: flatIntVars=30\n",
      "mzn-stat: flatBoolConstraints=21\n",
      "mzn-stat: flatIntConstraints=102\n",
      "mzn-stat: evaluatedHalfReifiedConstraints=84\n",
      "mzn-stat: method=\"satisfy\"\n",
      "mzn-stat: flatTime=0.169051\n",
      "mzn-stat-end\n",
      "mzn-stat: initTime=0.012\n",
      "mzn-stat: solveTime=0.001\n",
      "mzn-stat: solutions=1\n",
      "mzn-stat: variables=114\n",
      "mzn-stat: propagators=107\n",
      "mzn-stat: propagations=1070\n",
      "mzn-stat: nodes=20\n",
      "mzn-stat: failures=5\n",
      "mzn-stat: restarts=0\n",
      "mzn-stat: peakDepth=14\n",
      "mzn-stat-end\n"
     ]
    },
    {
     "data": {
      "image/png": "[encoded data removed]",
      "text/plain": [
       "<Figure size 432x288 with 1 Axes>"
      ]
     },
     "metadata": {
      "needs_background": "light"
     },
     "output_type": "display_data"
    },
    {
     "name": "stdout",
     "output_type": "stream",
     "text": [
      "Solution: [[5, 8], [5, 4], [8, 6], [8, 0], [0, 8], [0, 4], [0, 0]]\n",
      "[w, h]:   [[3, 3], [3, 4], [3, 5], [3, 6], [5, 3], [5, 4], [8, 4]]\n",
      "\n",
      "Pieces: [[3, 3], [3, 4], [3, 5], [3, 6], [5, 3], [5, 4], [8, 4]]\n",
      "\n",
      "\n",
      "\n",
      "|| === Instance 12x12 === ||\n",
      "%%%mzn-stat: nSolutions=1\n",
      "Solver output:\n",
      "Generated FlatZinc statistics:\n",
      "mzn-stat: paths=0\n",
      "mzn-stat: flatBoolVars=112\n",
      "mzn-stat: flatIntVars=34\n",
      "mzn-stat: flatBoolConstraints=28\n",
      "mzn-stat: flatIntConstraints=132\n",
      "mzn-stat: evaluatedHalfReifiedConstraints=112\n",
      "mzn-stat: method=\"satisfy\"\n",
      "mzn-stat: flatTime=0.172387\n",
      "mzn-stat-end\n",
      "mzn-stat: initTime=0.013\n",
      "mzn-stat: solveTime=0\n",
      "mzn-stat: solutions=1\n",
      "mzn-stat: variables=146\n",
      "mzn-stat: propagators=139\n",
      "mzn-stat: propagations=2397\n",
      "mzn-stat: nodes=37\n",
      "mzn-stat: failures=14\n",
      "mzn-stat: restarts=0\n",
      "mzn-stat: peakDepth=12\n",
      "mzn-stat-end\n"
     ]
    },
    {
     "data": {
      "image/png": "[encoded data removed]",
      "text/plain": [
       "<Figure size 432x288 with 1 Axes>"
      ]
     },
     "metadata": {
      "needs_background": "light"
     },
     "output_type": "display_data"
    },
    {
     "name": "stdout",
     "output_type": "stream",
     "text": [
      "Solution: [[3, 6], [6, 0], [9, 7], [3, 0], [9, 0], [6, 4], [0, 0], [0, 9]]\n",
      "[w, h]:   [[3, 3], [3, 4], [3, 5], [3, 6], [3, 7], [3, 8], [3, 9], [6, 3]]\n",
      "\n",
      "Pieces: [[3, 3], [3, 4], [3, 5], [3, 6], [3, 7], [3, 8], [3, 9], [6, 3]]\n",
      "\n",
      "\n",
      "\n",
      "|| === Instance 13x13 === ||\n",
      "%%%mzn-stat: nSolutions=1\n",
      "Solver output:\n",
      "Generated FlatZinc statistics:\n",
      "mzn-stat: paths=0\n",
      "mzn-stat: flatBoolVars=144\n",
      "mzn-stat: flatIntVars=38\n",
      "mzn-stat: flatBoolConstraints=36\n",
      "mzn-stat: flatIntConstraints=166\n",
      "mzn-stat: evaluatedHalfReifiedConstraints=144\n",
      "mzn-stat: method=\"satisfy\"\n",
      "mzn-stat: flatTime=0.178396\n",
      "mzn-stat-end\n",
      "mzn-stat: initTime=0.016\n",
      "mzn-stat: solveTime=0\n",
      "mzn-stat: solutions=1\n",
      "mzn-stat: variables=182\n",
      "mzn-stat: propagators=189\n",
      "mzn-stat: propagations=1089\n",
      "mzn-stat: nodes=15\n",
      "mzn-stat: failures=2\n",
      "mzn-stat: restarts=0\n",
      "mzn-stat: peakDepth=12\n",
      "mzn-stat-end\n"
     ]
    },
    {
     "data": {
      "image/png": "[encoded data removed]",
      "text/plain": [
       "<Figure size 432x288 with 1 Axes>"
      ]
     },
     "metadata": {
      "needs_background": "light"
     },
     "output_type": "display_data"
    },
    {
     "name": "stdout",
     "output_type": "stream",
     "text": [
      "Solution: [[10, 10], [10, 6], [7, 8], [10, 0], [0, 6], [7, 0], [3, 10], [3, 6], [0, 0]]\n",
      "[w, h]:   [[3, 3], [3, 4], [3, 5], [3, 6], [3, 7], [3, 8], [4, 3], [4, 4], [7, 6]]\n",
      "\n",
      "Pieces: [[3, 3], [3, 4], [3, 5], [3, 6], [3, 7], [3, 8], [4, 3], [4, 4], [7, 6]]\n",
      "\n",
      "\n",
      "\n",
      "|| === Instance 14x14 === ||\n",
      "%%%mzn-stat: nSolutions=1\n",
      "Solver output:\n",
      "Generated FlatZinc statistics:\n",
      "mzn-stat: paths=0\n",
      "mzn-stat: flatBoolVars=184\n",
      "mzn-stat: flatIntVars=46\n",
      "mzn-stat: flatBoolConstraints=57\n",
      "mzn-stat: flatIntConstraints=206\n",
      "mzn-stat: evaluatedHalfReifiedConstraints=184\n",
      "mzn-stat: method=\"satisfy\"\n",
      "mzn-stat: flatTime=0.180429\n",
      "mzn-stat-end\n",
      "mzn-stat: initTime=0.016\n",
      "mzn-stat: solveTime=0\n",
      "mzn-stat: solutions=1\n",
      "mzn-stat: variables=241\n",
      "mzn-stat: propagators=197\n",
      "mzn-stat: propagations=691\n",
      "mzn-stat: nodes=7\n",
      "mzn-stat: failures=0\n",
      "mzn-stat: restarts=0\n",
      "mzn-stat: peakDepth=6\n",
      "mzn-stat-end\n"
     ]
    },
    {
     "data": {
      "image/png": "[encoded data removed]",
      "text/plain": [
       "<Figure size 432x288 with 1 Axes>"
      ]
     },
     "metadata": {
      "needs_background": "light"
     },
     "output_type": "display_data"
    },
    {
     "name": "stdout",
     "output_type": "stream",
     "text": [
      "Solution: [[11, 7], [11, 10], [5, 9], [8, 8], [11, 0], [8, 0], [5, 0], [0, 10], [0, 0]]\n",
      "[w, h]:   [[3, 3], [3, 4], [3, 5], [3, 6], [3, 7], [3, 8], [3, 9], [5, 4], [5, 10]]\n",
      "\n",
      "Pieces: [[3, 3], [3, 4], [3, 5], [3, 6], [3, 7], [3, 8], [3, 9], [5, 4], [5, 10]]\n",
      "\n",
      "\n",
      "\n",
      "|| === Instance 15x15 === ||\n",
      "%%%mzn-stat: nSolutions=1\n",
      "Solver output:\n",
      "Generated FlatZinc statistics:\n",
      "mzn-stat: paths=0\n",
      "mzn-stat: flatBoolVars=180\n",
      "mzn-stat: flatIntVars=41\n",
      "mzn-stat: flatBoolConstraints=45\n",
      "mzn-stat: flatIntConstraints=203\n",
      "mzn-stat: evaluatedHalfReifiedConstraints=180\n",
      "mzn-stat: method=\"satisfy\"\n",
      "mzn-stat: flatTime=0.178279\n",
      "mzn-stat-end\n",
      "mzn-stat: initTime=0.016\n",
      "mzn-stat: solveTime=0\n",
      "mzn-stat: solutions=1\n",
      "mzn-stat: variables=224\n",
      "mzn-stat: propagators=214\n",
      "mzn-stat: propagations=772\n",
      "mzn-stat: nodes=12\n",
      "mzn-stat: failures=0\n",
      "mzn-stat: restarts=0\n",
      "mzn-stat: peakDepth=11\n",
      "mzn-stat-end\n"
     ]
    },
    {
     "data": {
      "image/png": "[encoded data removed]",
      "text/plain": [
       "<Figure size 432x288 with 1 Axes>"
      ]
     },
     "metadata": {
      "needs_background": "light"
     },
     "output_type": "display_data"
    },
    {
     "name": "stdout",
     "output_type": "stream",
     "text": [
      "Solution: [[6, 9], [12, 11], [12, 6], [12, 0], [9, 8], [9, 0], [6, 0], [3, 0], [0, 0], [3, 12]]\n",
      "[w, h]:   [[3, 3], [3, 4], [3, 5], [3, 6], [3, 7], [3, 8], [3, 9], [3, 12], [3, 15], [6, 3]]\n",
      "\n",
      "Pieces: [[3, 3], [3, 4], [3, 5], [3, 6], [3, 7], [3, 8], [3, 9], [3, 12], [3, 15], [6, 3]]\n",
      "\n",
      "\n",
      "\n",
      "|| === Instance 16x16 === ||\n",
      "%%%mzn-stat: nSolutions=1\n",
      "Solver output:\n",
      "Generated FlatZinc statistics:\n",
      "mzn-stat: paths=0\n",
      "mzn-stat: flatBoolVars=180\n",
      "mzn-stat: flatIntVars=42\n",
      "mzn-stat: flatBoolConstraints=45\n",
      "mzn-stat: flatIntConstraints=204\n",
      "mzn-stat: evaluatedHalfReifiedConstraints=180\n",
      "mzn-stat: method=\"satisfy\"\n",
      "mzn-stat: flatTime=0.176968\n",
      "mzn-stat-end\n",
      "mzn-stat: initTime=0.015\n",
      "mzn-stat: solveTime=0.001\n",
      "mzn-stat: solutions=1\n",
      "mzn-stat: variables=222\n",
      "mzn-stat: propagators=220\n",
      "mzn-stat: propagations=811\n",
      "mzn-stat: nodes=12\n",
      "mzn-stat: failures=0\n",
      "mzn-stat: restarts=0\n",
      "mzn-stat: peakDepth=11\n",
      "mzn-stat-end\n"
     ]
    },
    {
     "data": {
      "image/png": "[encoded data removed]",
      "text/plain": [
       "<Figure size 432x288 with 1 Axes>"
      ]
     },
     "metadata": {
      "needs_background": "light"
     },
     "output_type": "display_data"
    },
    {
     "name": "stdout",
     "output_type": "stream",
     "text": [
      "Solution: [[13, 13], [7, 12], [13, 8], [10, 10], [4, 9], [13, 0], [10, 0], [7, 0], [0, 9], [0, 0]]\n",
      "[w, h]:   [[3, 3], [3, 4], [3, 5], [3, 6], [3, 7], [3, 8], [3, 10], [3, 12], [4, 7], [7, 9]]\n",
      "\n",
      "Pieces: [[3, 3], [3, 4], [3, 5], [3, 6], [3, 7], [3, 8], [3, 10], [3, 12], [4, 7], [7, 9]]\n",
      "\n",
      "\n",
      "\n",
      "|| === Instance 17x17 === ||\n",
      "%%%mzn-stat: nSolutions=1\n",
      "Solver output:\n",
      "Generated FlatZinc statistics:\n",
      "mzn-stat: paths=0\n",
      "mzn-stat: flatBoolVars=264\n",
      "mzn-stat: flatIntVars=50\n",
      "mzn-stat: flatBoolConstraints=66\n",
      "mzn-stat: flatIntConstraints=292\n",
      "mzn-stat: evaluatedHalfReifiedConstraints=264\n",
      "mzn-stat: method=\"satisfy\"\n",
      "mzn-stat: flatTime=0.183017\n",
      "mzn-stat-end\n",
      "mzn-stat: initTime=0.019\n",
      "mzn-stat: solveTime=0.004\n",
      "mzn-stat: solutions=1\n",
      "mzn-stat: variables=314\n",
      "mzn-stat: propagators=335\n",
      "mzn-stat: propagations=26843\n",
      "mzn-stat: nodes=273\n",
      "mzn-stat: failures=129\n",
      "mzn-stat: restarts=0\n",
      "mzn-stat: peakDepth=20\n",
      "mzn-stat-end\n"
     ]
    },
    {
     "data": {
      "image/png": "[encoded data removed]",
      "text/plain": [
       "<Figure size 432x288 with 1 Axes>"
      ]
     },
     "metadata": {
      "needs_background": "light"
     },
     "output_type": "display_data"
    },
    {
     "name": "stdout",
     "output_type": "stream",
     "text": [
      "Solution: [[11, 9], [14, 6], [11, 12], [14, 0], [14, 10], [8, 6], [11, 0], [7, 14], [4, 6], [0, 0], [0, 14], [4, 0]]\n",
      "[w, h]:   [[3, 3], [3, 4], [3, 5], [3, 6], [3, 7], [3, 8], [3, 9], [4, 3], [4, 8], [4, 14], [7, 3], [7, 6]]\n",
      "\n",
      "Pieces: [[3, 3], [3, 4], [3, 5], [3, 6], [3, 7], [3, 8], [3, 9], [4, 3], [4, 8], [4, 14], [7, 3], [7, 6]]\n",
      "\n",
      "\n",
      "\n",
      "|| === Instance 18x18 === ||\n",
      "%%%mzn-stat: nSolutions=0\n",
      "Solver output:\n",
      "Generated FlatZinc statistics:\n",
      "mzn-stat: paths=0\n",
      "mzn-stat: flatBoolVars=434\n",
      "mzn-stat: flatIntVars=70\n",
      "mzn-stat: flatBoolConstraints=125\n",
      "mzn-stat: flatIntConstraints=468\n",
      "mzn-stat: evaluatedHalfReifiedConstraints=434\n",
      "mzn-stat: method=\"satisfy\"\n",
      "mzn-stat: flatTime=0.19563\n",
      "mzn-stat-end\n",
      "The problem is infeasible\n",
      "mzn-stat: initTime=0.025\n",
      "mzn-stat: solveTime=0\n",
      "mzn-stat: solutions=0\n",
      "mzn-stat: variables=545\n",
      "mzn-stat: propagators=0\n",
      "mzn-stat: propagations=0\n",
      "mzn-stat: nodes=0\n",
      "mzn-stat: failures=1\n",
      "mzn-stat: restarts=0\n",
      "mzn-stat: peakDepth=0\n",
      "mzn-stat-end\n",
      "No solution found in 5min\n",
      "Pieces: [[3, 3], [3, 4], [3, 5], [3, 6], [3, 7], [3, 8], [3, 10], [3, 11], [4, 3], [4, 4], [4, 5], [4, 6], [5, 3], [5, 4], [5, 5], [5, 6]]\n",
      "\n",
      "\n",
      "\n",
      "|| === Instance 19x19 === ||\n",
      "%%%mzn-stat: nSolutions=1\n",
      "Solver output:\n",
      "Generated FlatZinc statistics:\n",
      "mzn-stat: paths=0\n",
      "mzn-stat: flatBoolVars=462\n",
      "mzn-stat: flatIntVars=69\n",
      "mzn-stat: flatBoolConstraints=143\n",
      "mzn-stat: flatIntConstraints=495\n",
      "mzn-stat: evaluatedHalfReifiedConstraints=462\n",
      "mzn-stat: method=\"satisfy\"\n",
      "mzn-stat: flatTime=0.190136\n",
      "mzn-stat-end\n",
      "mzn-stat: initTime=0.027\n",
      "mzn-stat: solveTime=0\n",
      "mzn-stat: solutions=1\n",
      "mzn-stat: variables=551\n",
      "mzn-stat: propagators=522\n",
      "mzn-stat: propagations=1949\n",
      "mzn-stat: nodes=15\n",
      "mzn-stat: failures=0\n",
      "mzn-stat: restarts=0\n",
      "mzn-stat: peakDepth=14\n",
      "mzn-stat-end\n"
     ]
    },
    {
     "data": {
      "image/png": "[encoded data removed]",
      "text/plain": [
       "<Figure size 432x288 with 1 Axes>"
      ]
     },
     "metadata": {
      "needs_background": "light"
     },
     "output_type": "display_data"
    },
    {
     "name": "stdout",
     "output_type": "stream",
     "text": [
      "Solution: [[16, 16], [16, 12], [16, 7], [7, 13], [16, 0], [10, 11], [13, 10], [13, 0], [10, 0], [7, 0], [4, 0], [0, 14], [0, 8], [0, 0]]\n",
      "[w, h]:   [[3, 3], [3, 4], [3, 5], [3, 6], [3, 7], [3, 8], [3, 9], [3, 10], [3, 11], [3, 13], [3, 19], [4, 5], [4, 6], [4, 8]]\n",
      "\n",
      "Pieces: [[3, 3], [3, 4], [3, 5], [3, 6], [3, 7], [3, 8], [3, 9], [3, 10], [3, 11], [3, 13], [3, 19], [4, 5], [4, 6], [4, 8]]\n",
      "\n",
      "\n",
      "\n",
      "|| === Instance 20x20 === ||\n",
      "%%%mzn-stat: nSolutions=1\n",
      "Solver output:\n",
      "Generated FlatZinc statistics:\n",
      "mzn-stat: paths=0\n",
      "mzn-stat: flatBoolVars=460\n",
      "mzn-stat: flatIntVars=78\n",
      "mzn-stat: flatBoolConstraints=139\n",
      "mzn-stat: flatIntConstraints=494\n",
      "mzn-stat: evaluatedHalfReifiedConstraints=460\n",
      "mzn-stat: method=\"satisfy\"\n",
      "mzn-stat: flatTime=0.191665\n",
      "mzn-stat-end\n",
      "mzn-stat: initTime=0.025\n",
      "mzn-stat: solveTime=0.001\n",
      "mzn-stat: solutions=1\n",
      "mzn-stat: variables=538\n",
      "mzn-stat: propagators=583\n",
      "mzn-stat: propagations=1995\n",
      "mzn-stat: nodes=12\n",
      "mzn-stat: failures=0\n",
      "mzn-stat: restarts=0\n",
      "mzn-stat: peakDepth=11\n",
      "mzn-stat-end\n"
     ]
    },
    {
     "data": {
      "image/png": "[encoded data removed]",
      "text/plain": [
       "<Figure size 432x288 with 1 Axes>"
      ]
     },
     "metadata": {
      "needs_background": "light"
     },
     "output_type": "display_data"
    },
    {
     "name": "stdout",
     "output_type": "stream",
     "text": [
      "Solution: [[8, 17], [14, 16], [17, 8], [14, 10], [17, 13], [17, 0], [11, 11], [14, 0], [11, 0], [8, 0], [0, 17], [4, 11], [4, 0], [0, 0]]\n",
      "[w, h]:   [[3, 3], [3, 4], [3, 5], [3, 6], [3, 7], [3, 8], [3, 9], [3, 10], [3, 11], [3, 17], [4, 3], [4, 9], [4, 11], [4, 17]]\n",
      "\n",
      "Pieces: [[3, 3], [3, 4], [3, 5], [3, 6], [3, 7], [3, 8], [3, 9], [3, 10], [3, 11], [3, 17], [4, 3], [4, 9], [4, 11], [4, 17]]\n",
      "\n",
      "\n",
      "\n",
      "|| === Instance 21x21 === ||\n",
      "%%%mzn-stat: nSolutions=1\n",
      "Solver output:\n",
      "Generated FlatZinc statistics:\n",
      "mzn-stat: paths=0\n",
      "mzn-stat: flatBoolVars=468\n",
      "mzn-stat: flatIntVars=72\n",
      "mzn-stat: flatBoolConstraints=139\n",
      "mzn-stat: flatIntConstraints=500\n",
      "mzn-stat: evaluatedHalfReifiedConstraints=468\n",
      "mzn-stat: method=\"satisfy\"\n",
      "mzn-stat: flatTime=0.193204\n",
      "mzn-stat-end\n",
      "mzn-stat: initTime=0.026\n",
      "mzn-stat: solveTime=0.001\n",
      "mzn-stat: solutions=1\n",
      "mzn-stat: variables=566\n",
      "mzn-stat: propagators=464\n",
      "mzn-stat: propagations=1905\n",
      "mzn-stat: nodes=12\n",
      "mzn-stat: failures=0\n",
      "mzn-stat: restarts=0\n",
      "mzn-stat: peakDepth=11\n",
      "mzn-stat-end\n"
     ]
    },
    {
     "data": {
      "image/png": "[encoded data removed]",
      "text/plain": [
       "<Figure size 432x288 with 1 Axes>"
      ]
     },
     "metadata": {
      "needs_background": "light"
     },
     "output_type": "display_data"
    },
    {
     "name": "stdout",
     "output_type": "stream",
     "text": [
      "Solution: [[9, 0], [18, 17], [15, 16], [15, 10], [12, 14], [18, 9], [18, 0], [15, 0], [12, 0], [9, 3], [5, 17], [5, 11], [5, 0], [0, 15], [0, 0]]\n",
      "[w, h]:   [[3, 3], [3, 4], [3, 5], [3, 6], [3, 7], [3, 8], [3, 9], [3, 10], [3, 14], [3, 18], [4, 4], [4, 6], [4, 11], [5, 6], [5, 15]]\n",
      "\n",
      "Pieces: [[3, 3], [3, 4], [3, 5], [3, 6], [3, 7], [3, 8], [3, 9], [3, 10], [3, 14], [3, 18], [4, 4], [4, 6], [4, 11], [5, 6], [5, 15]]\n",
      "\n",
      "\n",
      "\n",
      "|| === Instance 22x22 === ||\n",
      "%%%mzn-stat: nSolutions=1\n",
      "Solver output:\n",
      "Generated FlatZinc statistics:\n",
      "mzn-stat: paths=0\n",
      "mzn-stat: flatBoolVars=480\n",
      "mzn-stat: flatIntVars=64\n",
      "mzn-stat: flatBoolConstraints=120\n",
      "mzn-stat: flatIntConstraints=515\n",
      "mzn-stat: evaluatedHalfReifiedConstraints=480\n",
      "mzn-stat: method=\"satisfy\"\n",
      "mzn-stat: flatTime=0.192802\n",
      "mzn-stat-end\n",
      "mzn-stat: initTime=0.027\n",
      "mzn-stat: solveTime=0.001\n",
      "mzn-stat: solutions=1\n",
      "mzn-stat: variables=548\n",
      "mzn-stat: propagators=561\n",
      "mzn-stat: propagations=2244\n",
      "mzn-stat: nodes=19\n",
      "mzn-stat: failures=0\n",
      "mzn-stat: restarts=0\n",
      "mzn-stat: peakDepth=18\n",
      "mzn-stat-end\n"
     ]
    },
    {
     "data": {
      "image/png": "[encoded data removed]",
      "text/plain": [
       "<Figure size 432x288 with 1 Axes>"
      ]
     },
     "metadata": {
      "needs_background": "light"
     },
     "output_type": "display_data"
    },
    {
     "name": "stdout",
     "output_type": "stream",
     "text": [
      "Solution: [[19, 19], [19, 15], [19, 6], [19, 0], [16, 15], [7, 14], [10, 13], [13, 12], [16, 0], [13, 0], [10, 0], [7, 0], [4, 0], [0, 19], [0, 0], [16, 11]]\n",
      "[w, h]:   [[3, 3], [3, 4], [3, 5], [3, 6], [3, 7], [3, 8], [3, 9], [3, 10], [3, 11], [3, 12], [3, 13], [3, 14], [3, 22], [4, 3], [4, 19], [6, 4]]\n",
      "\n",
      "Pieces: [[3, 3], [3, 4], [3, 5], [3, 6], [3, 7], [3, 8], [3, 9], [3, 10], [3, 11], [3, 12], [3, 13], [3, 14], [3, 22], [4, 3], [4, 19], [6, 4]]\n",
      "\n",
      "\n",
      "\n",
      "|| === Instance 23x23 === ||\n",
      "%%%mzn-stat: nSolutions=1\n",
      "Solver output:\n",
      "Generated FlatZinc statistics:\n",
      "mzn-stat: paths=0\n",
      "mzn-stat: flatBoolVars=684\n",
      "mzn-stat: flatIntVars=78\n",
      "mzn-stat: flatBoolConstraints=171\n",
      "mzn-stat: flatIntConstraints=726\n",
      "mzn-stat: evaluatedHalfReifiedConstraints=684\n",
      "mzn-stat: method=\"satisfy\"\n",
      "mzn-stat: flatTime=0.201472\n",
      "mzn-stat-end\n",
      "mzn-stat: initTime=0.034\n",
      "mzn-stat: solveTime=13.196\n",
      "mzn-stat: solutions=1\n",
      "mzn-stat: variables=762\n",
      "mzn-stat: propagators=850\n",
      "mzn-stat: propagations=29586554\n",
      "mzn-stat: nodes=597585\n",
      "mzn-stat: failures=298779\n",
      "mzn-stat: restarts=0\n",
      "mzn-stat: peakDepth=46\n",
      "mzn-stat-end\n"
     ]
    },
    {
     "data": {
      "image/png": "[encoded data removed]",
      "text/plain": [
       "<Figure size 432x288 with 1 Axes>"
      ]
     },
     "metadata": {
      "needs_background": "light"
     },
     "output_type": "display_data"
    },
    {
     "name": "stdout",
     "output_type": "stream",
     "text": [
      "Solution: [[0, 20], [17, 19], [20, 18], [17, 13], [20, 11], [20, 3], [7, 14], [17, 3], [14, 12], [14, 0], [7, 0], [0, 0], [10, 20], [10, 16], [10, 10], [10, 0], [3, 12], [3, 0], [17, 0]]\n",
      "[w, h]:   [[3, 3], [3, 4], [3, 5], [3, 6], [3, 7], [3, 8], [3, 9], [3, 10], [3, 11], [3, 12], [3, 14], [3, 20], [4, 3], [4, 4], [4, 6], [4, 10], [4, 11], [4, 12], [6, 3]]\n",
      "\n",
      "Pieces: [[3, 3], [3, 4], [3, 5], [3, 6], [3, 7], [3, 8], [3, 9], [3, 10], [3, 11], [3, 12], [3, 14], [3, 20], [4, 3], [4, 4], [4, 6], [4, 10], [4, 11], [4, 12], [6, 3]]\n",
      "\n",
      "\n",
      "\n",
      "|| === Instance 24x24 === ||\n",
      "%%%mzn-stat: nSolutions=1\n",
      "Solver output:\n",
      "Generated FlatZinc statistics:\n",
      "mzn-stat: paths=0\n",
      "mzn-stat: flatBoolVars=686\n",
      "mzn-stat: flatIntVars=84\n",
      "mzn-stat: flatBoolConstraints=205\n",
      "mzn-stat: flatIntConstraints=722\n",
      "mzn-stat: evaluatedHalfReifiedConstraints=686\n",
      "mzn-stat: method=\"satisfy\"\n",
      "mzn-stat: flatTime=0.251066\n",
      "mzn-stat-end\n",
      "mzn-stat: initTime=0.042\n",
      "mzn-stat: solveTime=0.001\n",
      "mzn-stat: solutions=1\n",
      "mzn-stat: variables=805\n",
      "mzn-stat: propagators=682\n",
      "mzn-stat: propagations=2946\n",
      "mzn-stat: nodes=17\n",
      "mzn-stat: failures=0\n",
      "mzn-stat: restarts=0\n",
      "mzn-stat: peakDepth=16\n",
      "mzn-stat-end\n"
     ]
    },
    {
     "data": {
      "image/png": "[encoded data removed]",
      "text/plain": [
       "<Figure size 432x288 with 1 Axes>"
      ]
     },
     "metadata": {
      "needs_background": "light"
     },
     "output_type": "display_data"
    },
    {
     "name": "stdout",
     "output_type": "stream",
     "text": [
      "Solution: [[18, 21], [21, 20], [21, 15], [12, 18], [21, 8], [21, 0], [18, 12], [15, 14], [18, 0], [15, 0], [12, 0], [9, 0], [5, 21], [5, 17], [5, 12], [5, 0], [0, 16], [0, 0]]\n",
      "[w, h]:   [[3, 3], [3, 4], [3, 5], [3, 6], [3, 7], [3, 8], [3, 9], [3, 10], [3, 12], [3, 14], [3, 18], [3, 24], [4, 3], [4, 4], [4, 5], [4, 12], [5, 8], [5, 16]]\n",
      "\n",
      "Pieces: [[3, 3], [3, 4], [3, 5], [3, 6], [3, 7], [3, 8], [3, 9], [3, 10], [3, 12], [3, 14], [3, 18], [3, 24], [4, 3], [4, 4], [4, 5], [4, 12], [5, 8], [5, 16]]\n",
      "\n",
      "\n",
      "\n",
      "|| === Instance 25x25 === ||\n",
      "%%%mzn-stat: nSolutions=1\n",
      "Solver output:\n",
      "Generated FlatZinc statistics:\n",
      "mzn-stat: paths=0\n",
      "mzn-stat: flatBoolVars=684\n",
      "mzn-stat: flatIntVars=76\n",
      "mzn-stat: flatBoolConstraints=171\n",
      "mzn-stat: flatIntConstraints=725\n",
      "mzn-stat: evaluatedHalfReifiedConstraints=684\n",
      "mzn-stat: method=\"satisfy\"\n",
      "mzn-stat: flatTime=0.250828\n",
      "mzn-stat-end\n",
      "mzn-stat: initTime=0.043\n",
      "mzn-stat: solveTime=0.186\n",
      "mzn-stat: solutions=1\n",
      "mzn-stat: variables=764\n",
      "mzn-stat: propagators=804\n",
      "mzn-stat: propagations=500379\n",
      "mzn-stat: nodes=6350\n",
      "mzn-stat: failures=3163\n",
      "mzn-stat: restarts=0\n",
      "mzn-stat: peakDepth=33\n",
      "mzn-stat-end\n"
     ]
    },
    {
     "data": {
      "image/png": "[encoded data removed]",
      "text/plain": [
       "<Figure size 432x288 with 1 Axes>"
      ]
     },
     "metadata": {
      "needs_background": "light"
     },
     "output_type": "display_data"
    },
    {
     "name": "stdout",
     "output_type": "stream",
     "text": [
      "Solution: [[22, 0], [22, 21], [22, 16], [3, 19], [10, 18], [13, 17], [19, 16], [22, 3], [16, 14], [19, 0], [16, 0], [13, 0], [6, 0], [3, 0], [0, 0], [9, 13], [6, 18], [9, 0], [19, 13]]\n",
      "[w, h]:   [[3, 3], [3, 4], [3, 5], [3, 6], [3, 7], [3, 8], [3, 9], [3, 10], [3, 11], [3, 13], [3, 14], [3, 17], [3, 18], [3, 19], [3, 25], [4, 5], [4, 7], [4, 13], [6, 3]]\n",
      "\n",
      "Pieces: [[3, 3], [3, 4], [3, 5], [3, 6], [3, 7], [3, 8], [3, 9], [3, 10], [3, 11], [3, 13], [3, 14], [3, 17], [3, 18], [3, 19], [3, 25], [4, 5], [4, 7], [4, 13], [6, 3]]\n",
      "\n",
      "\n",
      "\n",
      "|| === Instance 26x26 === ||\n",
      "%%%mzn-stat: nSolutions=1\n",
      "Solver output:\n",
      "Generated FlatZinc statistics:\n",
      "mzn-stat: paths=0\n",
      "mzn-stat: flatBoolVars=1124\n",
      "mzn-stat: flatIntVars=120\n",
      "mzn-stat: flatBoolConstraints=331\n",
      "mzn-stat: flatIntConstraints=1178\n",
      "mzn-stat: evaluatedHalfReifiedConstraints=1124\n",
      "mzn-stat: method=\"satisfy\"\n",
      "mzn-stat: flatTime=0.270498\n",
      "mzn-stat-end\n",
      "mzn-stat: initTime=0.082\n",
      "mzn-stat: solveTime=0.007\n",
      "mzn-stat: solutions=1\n",
      "mzn-stat: variables=1244\n",
      "mzn-stat: propagators=1438\n",
      "mzn-stat: propagations=10083\n",
      "mzn-stat: nodes=74\n",
      "mzn-stat: failures=24\n",
      "mzn-stat: restarts=0\n",
      "mzn-stat: peakDepth=35\n",
      "mzn-stat-end\n"
     ]
    },
    {
     "data": {
      "image/png": "[encoded data removed]",
      "text/plain": [
       "<Figure size 432x288 with 1 Axes>"
      ]
     },
     "metadata": {
      "needs_background": "light"
     },
     "output_type": "display_data"
    },
    {
     "name": "stdout",
     "output_type": "stream",
     "text": [
      "Solution: [[23, 14], [23, 22], [23, 17], [23, 8], [8, 19], [23, 0], [11, 17], [14, 16], [17, 15], [20, 14], [20, 0], [17, 0], [14, 0], [11, 0], [8, 0], [4, 23], [0, 22], [4, 18], [4, 11], [0, 14], [4, 0], [0, 0]]\n",
      "[w, h]:   [[3, 3], [3, 4], [3, 5], [3, 6], [3, 7], [3, 8], [3, 9], [3, 10], [3, 11], [3, 12], [3, 14], [3, 15], [3, 16], [3, 17], [3, 19], [4, 3], [4, 4], [4, 5], [4, 7], [4, 8], [4, 11], [4, 14]]\n",
      "\n",
      "Pieces: [[3, 3], [3, 4], [3, 5], [3, 6], [3, 7], [3, 8], [3, 9], [3, 10], [3, 11], [3, 12], [3, 14], [3, 15], [3, 16], [3, 17], [3, 19], [4, 3], [4, 4], [4, 5], [4, 7], [4, 8], [4, 11], [4, 14]]\n",
      "\n",
      "\n",
      "\n",
      "|| === Instance 27x27 === ||\n",
      "%%%mzn-stat: nSolutions=1\n",
      "Solver output:\n",
      "Generated FlatZinc statistics:\n",
      "mzn-stat: paths=0\n",
      "mzn-stat: flatBoolVars=1018\n",
      "mzn-stat: flatIntVars=115\n",
      "mzn-stat: flatBoolConstraints=299\n",
      "mzn-stat: flatIntConstraints=1066\n",
      "mzn-stat: evaluatedHalfReifiedConstraints=1018\n",
      "mzn-stat: method=\"satisfy\"\n",
      "mzn-stat: flatTime=0.263925\n",
      "mzn-stat-end\n",
      "mzn-stat: initTime=0.057\n",
      "mzn-stat: solveTime=0.002\n",
      "mzn-stat: solutions=1\n",
      "mzn-stat: variables=1133\n",
      "mzn-stat: propagators=1272\n",
      "mzn-stat: propagations=4971\n",
      "mzn-stat: nodes=22\n",
      "mzn-stat: failures=0\n",
      "mzn-stat: restarts=0\n",
      "mzn-stat: peakDepth=21\n",
      "mzn-stat-end\n"
     ]
    },
    {
     "data": {
      "image/png": "[encoded data removed]",
      "text/plain": [
       "<Figure size 432x288 with 1 Axes>"
      ]
     },
     "metadata": {
      "needs_background": "light"
     },
     "output_type": "display_data"
    },
    {
     "name": "stdout",
     "output_type": "stream",
     "text": [
      "Solution: [[24, 5], [21, 23], [24, 0], [12, 21], [15, 20], [18, 19], [24, 18], [24, 8], [21, 12], [21, 0], [18, 0], [15, 0], [12, 0], [8, 24], [8, 20], [8, 14], [0, 20], [4, 19], [8, 0], [4, 0], [0, 0]]\n",
      "[w, h]:   [[3, 3], [3, 4], [3, 5], [3, 6], [3, 7], [3, 8], [3, 9], [3, 10], [3, 11], [3, 12], [3, 19], [3, 20], [3, 21], [4, 3], [4, 4], [4, 6], [4, 7], [4, 8], [4, 14], [4, 19], [4, 20]]\n",
      "\n",
      "Pieces: [[3, 3], [3, 4], [3, 5], [3, 6], [3, 7], [3, 8], [3, 9], [3, 10], [3, 11], [3, 12], [3, 19], [3, 20], [3, 21], [4, 3], [4, 4], [4, 6], [4, 7], [4, 8], [4, 14], [4, 19], [4, 20]]\n",
      "\n",
      "\n",
      "\n",
      "|| === Instance 28x28 === ||\n",
      "%%%mzn-stat: nSolutions=1\n",
      "Solver output:\n",
      "Generated FlatZinc statistics:\n",
      "mzn-stat: paths=0\n",
      "mzn-stat: flatBoolVars=1072\n",
      "mzn-stat: flatIntVars=113\n",
      "mzn-stat: flatBoolConstraints=308\n",
      "mzn-stat: flatIntConstraints=1120\n",
      "mzn-stat: evaluatedHalfReifiedConstraints=1072\n",
      "mzn-stat: method=\"satisfy\"\n",
      "mzn-stat: flatTime=0.279577\n",
      "mzn-stat-end\n",
      "mzn-stat: initTime=0.061\n",
      "mzn-stat: solveTime=0.002\n",
      "mzn-stat: solutions=1\n",
      "mzn-stat: variables=1201\n",
      "mzn-stat: propagators=1209\n",
      "mzn-stat: propagations=5107\n",
      "mzn-stat: nodes=21\n",
      "mzn-stat: failures=0\n",
      "mzn-stat: restarts=0\n",
      "mzn-stat: peakDepth=20\n",
      "mzn-stat-end\n"
     ]
    },
    {
     "data": {
      "image/png": "[encoded data removed]",
      "text/plain": [
       "<Figure size 432x288 with 1 Axes>"
      ]
     },
     "metadata": {
      "needs_background": "light"
     },
     "output_type": "display_data"
    },
    {
     "name": "stdout",
     "output_type": "stream",
     "text": [
      "Solution: [[22, 25], [25, 16], [13, 23], [25, 10], [16, 21], [25, 20], [22, 16], [25, 0], [19, 17], [22, 0], [19, 0], [16, 0], [13, 0], [9, 25], [9, 21], [5, 23], [9, 13], [9, 0], [5, 0], [0, 22], [0, 13], [0, 0]]\n",
      "[w, h]:   [[3, 3], [3, 4], [3, 5], [3, 6], [3, 7], [3, 8], [3, 9], [3, 10], [3, 11], [3, 16], [3, 17], [3, 21], [3, 23], [4, 3], [4, 4], [4, 5], [4, 8], [4, 13], [4, 23], [5, 6], [5, 9], [5, 13]]\n",
      "\n",
      "Pieces: [[3, 3], [3, 4], [3, 5], [3, 6], [3, 7], [3, 8], [3, 9], [3, 10], [3, 11], [3, 16], [3, 17], [3, 21], [3, 23], [4, 3], [4, 4], [4, 5], [4, 8], [4, 13], [4, 23], [5, 6], [5, 9], [5, 13]]\n",
      "\n",
      "\n",
      "\n",
      "|| === Instance 29x29 === ||\n",
      "%%%mzn-stat: nSolutions=1\n",
      "Solver output:\n",
      "Generated FlatZinc statistics:\n",
      "mzn-stat: paths=0\n",
      "mzn-stat: flatBoolVars=1248\n",
      "mzn-stat: flatIntVars=123\n",
      "mzn-stat: flatBoolConstraints=351\n",
      "mzn-stat: flatIntConstraints=1300\n",
      "mzn-stat: evaluatedHalfReifiedConstraints=1248\n",
      "mzn-stat: method=\"satisfy\"\n",
      "mzn-stat: flatTime=0.280594\n",
      "mzn-stat-end\n",
      "mzn-stat: initTime=0.068\n",
      "mzn-stat: solveTime=0.004\n",
      "mzn-stat: solutions=1\n",
      "mzn-stat: variables=1387\n",
      "mzn-stat: propagators=1438\n",
      "mzn-stat: propagations=11425\n",
      "mzn-stat: nodes=50\n",
      "mzn-stat: failures=12\n",
      "mzn-stat: restarts=0\n",
      "mzn-stat: peakDepth=31\n",
      "mzn-stat-end\n"
     ]
    },
    {
     "data": {
      "image/png": "[encoded data removed]",
      "text/plain": [
       "<Figure size 432x288 with 1 Axes>"
      ]
     },
     "metadata": {
      "needs_background": "light"
     },
     "output_type": "display_data"
    },
    {
     "name": "stdout",
     "output_type": "stream",
     "text": [
      "Solution: [[26, 15], [23, 25], [26, 24], [26, 18], [26, 8], [26, 0], [17, 20], [23, 15], [20, 18], [23, 0], [20, 0], [17, 0], [13, 26], [9, 25], [13, 21], [13, 15], [9, 18], [5, 20], [13, 0], [9, 0], [5, 0], [0, 25], [0, 17], [0, 0]]\n",
      "[w, h]:   [[3, 3], [3, 4], [3, 5], [3, 6], [3, 7], [3, 8], [3, 9], [3, 10], [3, 11], [3, 15], [3, 18], [3, 20], [4, 3], [4, 4], [4, 5], [4, 6], [4, 7], [4, 9], [4, 15], [4, 18], [4, 20], [5, 4], [5, 8], [5, 17]]\n",
      "\n",
      "Pieces: [[3, 3], [3, 4], [3, 5], [3, 6], [3, 7], [3, 8], [3, 9], [3, 10], [3, 11], [3, 15], [3, 18], [3, 20], [4, 3], [4, 4], [4, 5], [4, 6], [4, 7], [4, 9], [4, 15], [4, 18], [4, 20], [5, 4], [5, 8], [5, 17]]\n",
      "\n",
      "\n",
      "\n",
      "|| === Instance 30x30 === ||\n",
      "%%%mzn-stat: nSolutions=1\n",
      "Solver output:\n",
      "Generated FlatZinc statistics:\n",
      "mzn-stat: paths=0\n",
      "mzn-stat: flatBoolVars=860\n",
      "mzn-stat: flatIntVars=94\n",
      "mzn-stat: flatBoolConstraints=255\n",
      "mzn-stat: flatIntConstraints=900\n",
      "mzn-stat: evaluatedHalfReifiedConstraints=860\n",
      "mzn-stat: method=\"satisfy\"\n",
      "mzn-stat: flatTime=0.257222\n",
      "mzn-stat-end\n",
      "mzn-stat: initTime=0.055\n",
      "mzn-stat: solveTime=0.002\n",
      "mzn-stat: solutions=1\n",
      "mzn-stat: variables=989\n",
      "mzn-stat: propagators=908\n",
      "mzn-stat: propagations=3963\n",
      "mzn-stat: nodes=22\n",
      "mzn-stat: failures=0\n",
      "mzn-stat: restarts=0\n",
      "mzn-stat: peakDepth=21\n",
      "mzn-stat-end\n"
     ]
    },
    {
     "data": {
      "image/png": "[encoded data removed]",
      "text/plain": [
       "<Figure size 432x288 with 1 Axes>"
      ]
     },
     "metadata": {
      "needs_background": "light"
     },
     "output_type": "display_data"
    },
    {
     "name": "stdout",
     "output_type": "stream",
     "text": [
      "Solution: [[27, 27], [27, 23], [15, 25], [27, 9], [24, 23], [27, 15], [27, 0], [24, 13], [18, 19], [24, 0], [21, 16], [21, 0], [18, 0], [15, 0], [11, 27], [11, 23], [11, 17], [11, 9], [11, 0], [0, 0]]\n",
      "[w, h]:   [[3, 3], [3, 4], [3, 5], [3, 6], [3, 7], [3, 8], [3, 9], [3, 10], [3, 11], [3, 13], [3, 14], [3, 16], [3, 19], [3, 25], [4, 3], [4, 4], [4, 6], [4, 8], [4, 9], [11, 30]]\n",
      "\n",
      "Pieces: [[3, 3], [3, 4], [3, 5], [3, 6], [3, 7], [3, 8], [3, 9], [3, 10], [3, 11], [3, 13], [3, 14], [3, 16], [3, 19], [3, 25], [4, 3], [4, 4], [4, 6], [4, 8], [4, 9], [11, 30]]\n",
      "\n",
      "\n",
      "\n",
      "|| === Instance 31x31 === ||\n",
      "%%%mzn-stat: nSolutions=1\n",
      "Solver output:\n",
      "Generated FlatZinc statistics:\n",
      "mzn-stat: paths=0\n",
      "mzn-stat: flatBoolVars=794\n",
      "mzn-stat: flatIntVars=91\n",
      "mzn-stat: flatBoolConstraints=237\n",
      "mzn-stat: flatIntConstraints=832\n",
      "mzn-stat: evaluatedHalfReifiedConstraints=794\n",
      "mzn-stat: method=\"satisfy\"\n",
      "mzn-stat: flatTime=0.264961\n",
      "mzn-stat-end\n",
      "mzn-stat: initTime=0.047\n",
      "mzn-stat: solveTime=0.001\n",
      "mzn-stat: solutions=1\n",
      "mzn-stat: variables=917\n",
      "mzn-stat: propagators=836\n",
      "mzn-stat: propagations=3721\n",
      "mzn-stat: nodes=21\n",
      "mzn-stat: failures=0\n",
      "mzn-stat: restarts=0\n",
      "mzn-stat: peakDepth=20\n",
      "mzn-stat-end\n"
     ]
    },
    {
     "data": {
      "image/png": "[encoded data removed]",
      "text/plain": [
       "<Figure size 432x288 with 1 Axes>"
      ]
     },
     "metadata": {
      "needs_background": "light"
     },
     "output_type": "display_data"
    },
    {
     "name": "stdout",
     "output_type": "stream",
     "text": [
      "Solution: [[28, 28], [22, 27], [28, 23], [28, 17], [28, 10], [25, 23], [19, 22], [28, 0], [25, 12], [25, 0], [22, 14], [22, 0], [19, 0], [16, 0], [12, 28], [12, 21], [12, 13], [12, 0], [0, 0]]\n",
      "[w, h]:   [[3, 3], [3, 4], [3, 5], [3, 6], [3, 7], [3, 8], [3, 9], [3, 10], [3, 11], [3, 12], [3, 13], [3, 14], [3, 22], [3, 31], [4, 3], [4, 7], [4, 8], [4, 13], [12, 31]]\n",
      "\n",
      "Pieces: [[3, 3], [3, 4], [3, 5], [3, 6], [3, 7], [3, 8], [3, 9], [3, 10], [3, 11], [3, 12], [3, 13], [3, 14], [3, 22], [3, 31], [4, 3], [4, 7], [4, 8], [4, 13], [12, 31]]\n",
      "\n",
      "\n",
      "\n",
      "|| === Instance 32x32 === ||\n",
      "%%%mzn-stat: nSolutions=1\n",
      "Solver output:\n",
      "Generated FlatZinc statistics:\n",
      "mzn-stat: paths=0\n",
      "mzn-stat: flatBoolVars=1730\n",
      "mzn-stat: flatIntVars=147\n",
      "mzn-stat: flatBoolConstraints=514\n",
      "mzn-stat: flatIntConstraints=1795\n",
      "mzn-stat: evaluatedHalfReifiedConstraints=1730\n",
      "mzn-stat: method=\"satisfy\"\n",
      "mzn-stat: flatTime=0.3122\n",
      "mzn-stat-end\n",
      "mzn-stat: initTime=0.086\n",
      "mzn-stat: solveTime=0.015\n",
      "mzn-stat: solutions=1\n",
      "mzn-stat: variables=1877\n",
      "mzn-stat: propagators=2158\n",
      "mzn-stat: propagations=20197\n",
      "mzn-stat: nodes=85\n",
      "mzn-stat: failures=28\n",
      "mzn-stat: restarts=0\n",
      "mzn-stat: peakDepth=42\n",
      "mzn-stat-end\n"
     ]
    },
    {
     "data": {
      "image/png": "[encoded data removed]",
      "text/plain": [
       "<Figure size 432x288 with 1 Axes>"
      ]
     },
     "metadata": {
      "needs_background": "light"
     },
     "output_type": "display_data"
    },
    {
     "name": "stdout",
     "output_type": "stream",
     "text": [
      "Solution: [[29, 29], [26, 28], [8, 27], [29, 23], [11, 25], [14, 24], [17, 23], [20, 22], [29, 12], [29, 0], [26, 15], [23, 18], [26, 0], [23, 0], [20, 0], [17, 0], [14, 0], [11, 0], [8, 0], [0, 29], [4, 28], [4, 23], [4, 17], [4, 0], [4, 7], [0, 18], [0, 0]]\n",
      "[w, h]:   [[3, 3], [3, 4], [3, 5], [3, 6], [3, 7], [3, 8], [3, 9], [3, 10], [3, 11], [3, 12], [3, 13], [3, 14], [3, 15], [3, 18], [3, 22], [3, 23], [3, 24], [3, 25], [3, 27], [4, 3], [4, 4], [4, 5], [4, 6], [4, 7], [4, 10], [4, 11], [4, 18]]\n",
      "\n",
      "Pieces: [[3, 3], [3, 4], [3, 5], [3, 6], [3, 7], [3, 8], [3, 9], [3, 10], [3, 11], [3, 12], [3, 13], [3, 14], [3, 15], [3, 18], [3, 22], [3, 23], [3, 24], [3, 25], [3, 27], [4, 3], [4, 4], [4, 5], [4, 6], [4, 7], [4, 10], [4, 11], [4, 18]]\n",
      "\n",
      "\n",
      "\n",
      "|| === Instance 33x33 === ||\n",
      "%%%mzn-stat: nSolutions=1\n",
      "Solver output:\n",
      "Generated FlatZinc statistics:\n",
      "mzn-stat: paths=0\n",
      "mzn-stat: flatBoolVars=1218\n",
      "mzn-stat: flatIntVars=120\n",
      "mzn-stat: flatBoolConstraints=357\n",
      "mzn-stat: flatIntConstraints=1268\n",
      "mzn-stat: evaluatedHalfReifiedConstraints=1218\n",
      "mzn-stat: method=\"satisfy\"\n",
      "mzn-stat: flatTime=0.306936\n",
      "mzn-stat-end\n",
      "mzn-stat: initTime=0.068\n",
      "mzn-stat: solveTime=0.008\n",
      "mzn-stat: solutions=1\n",
      "mzn-stat: variables=1351\n",
      "mzn-stat: propagators=1418\n",
      "mzn-stat: propagations=17687\n",
      "mzn-stat: nodes=79\n",
      "mzn-stat: failures=28\n",
      "mzn-stat: restarts=0\n",
      "mzn-stat: peakDepth=36\n",
      "mzn-stat-end\n"
     ]
    },
    {
     "data": {
      "image/png": "[encoded data removed]",
      "text/plain": [
       "<Figure size 432x288 with 1 Axes>"
      ]
     },
     "metadata": {
      "needs_background": "light"
     },
     "output_type": "display_data"
    },
    {
     "name": "stdout",
     "output_type": "stream",
     "text": [
      "Solution: [[18, 30], [27, 29], [30, 21], [24, 27], [30, 26], [30, 13], [21, 24], [24, 17], [30, 0], [27, 15], [27, 0], [24, 0], [21, 0], [18, 0], [15, 0], [11, 24], [7, 29], [11, 27], [11, 14], [7, 17], [11, 0], [7, 0], [0, 0]]\n",
      "[w, h]:   [[3, 3], [3, 4], [3, 5], [3, 6], [3, 7], [3, 8], [3, 9], [3, 10], [3, 13], [3, 14], [3, 15], [3, 17], [3, 24], [3, 30], [3, 33], [4, 3], [4, 4], [4, 6], [4, 10], [4, 12], [4, 14], [4, 17], [7, 33]]\n",
      "\n",
      "Pieces: [[3, 3], [3, 4], [3, 5], [3, 6], [3, 7], [3, 8], [3, 9], [3, 10], [3, 13], [3, 14], [3, 15], [3, 17], [3, 24], [3, 30], [3, 33], [4, 3], [4, 4], [4, 6], [4, 10], [4, 12], [4, 14], [4, 17], [7, 33]]\n",
      "\n",
      "\n",
      "\n",
      "|| === Instance 34x34 === ||\n",
      "%%%mzn-stat: nSolutions=1\n",
      "Solver output:\n",
      "Generated FlatZinc statistics:\n",
      "mzn-stat: paths=0\n",
      "mzn-stat: flatBoolVars=1002\n",
      "mzn-stat: flatIntVars=101\n",
      "mzn-stat: flatBoolConstraints=302\n",
      "mzn-stat: flatIntConstraints=1044\n",
      "mzn-stat: evaluatedHalfReifiedConstraints=1002\n",
      "mzn-stat: method=\"satisfy\"\n",
      "mzn-stat: flatTime=0.318976\n",
      "mzn-stat-end\n",
      "mzn-stat: initTime=0.061\n",
      "mzn-stat: solveTime=0.001\n",
      "mzn-stat: solutions=1\n",
      "mzn-stat: variables=1136\n",
      "mzn-stat: propagators=1062\n",
      "mzn-stat: propagations=4913\n",
      "mzn-stat: nodes=24\n",
      "mzn-stat: failures=0\n",
      "mzn-stat: restarts=0\n",
      "mzn-stat: peakDepth=23\n",
      "mzn-stat-end\n"
     ]
    },
    {
     "data": {
      "image/png": "[encoded data removed]",
      "text/plain": [
       "<Figure size 432x288 with 1 Axes>"
      ]
     },
     "metadata": {
      "needs_background": "light"
     },
     "output_type": "display_data"
    },
    {
     "name": "stdout",
     "output_type": "stream",
     "text": [
      "Solution: [[28, 31], [31, 30], [31, 25], [28, 25], [31, 18], [31, 0], [19, 25], [31, 8], [28, 14], [22, 22], [25, 21], [28, 0], [25, 0], [22, 0], [19, 0], [16, 0], [12, 30], [12, 25], [12, 14], [12, 0], [0, 0]]\n",
      "[w, h]:   [[3, 3], [3, 4], [3, 5], [3, 6], [3, 7], [3, 8], [3, 9], [3, 10], [3, 11], [3, 12], [3, 13], [3, 14], [3, 21], [3, 22], [3, 25], [3, 34], [4, 4], [4, 5], [4, 11], [4, 14], [12, 34]]\n",
      "\n",
      "Pieces: [[3, 3], [3, 4], [3, 5], [3, 6], [3, 7], [3, 8], [3, 9], [3, 10], [3, 11], [3, 12], [3, 13], [3, 14], [3, 21], [3, 22], [3, 25], [3, 34], [4, 4], [4, 5], [4, 11], [4, 14], [12, 34]]\n",
      "\n",
      "\n",
      "\n",
      "|| === Instance 35x35 === ||\n",
      "%%%mzn-stat: nSolutions=1\n",
      "Solver output:\n",
      "Generated FlatZinc statistics:\n",
      "mzn-stat: paths=0\n",
      "mzn-stat: flatBoolVars=1050\n",
      "mzn-stat: flatIntVars=114\n",
      "mzn-stat: flatBoolConstraints=294\n",
      "mzn-stat: flatIntConstraints=1099\n",
      "mzn-stat: evaluatedHalfReifiedConstraints=1050\n",
      "mzn-stat: method=\"satisfy\"\n",
      "mzn-stat: flatTime=0.352281\n",
      "mzn-stat-end\n",
      "mzn-stat: initTime=0.058\n",
      "mzn-stat: solveTime=0.003\n",
      "mzn-stat: solutions=1\n",
      "mzn-stat: variables=1174\n",
      "mzn-stat: propagators=1267\n",
      "mzn-stat: propagations=9886\n",
      "mzn-stat: nodes=47\n",
      "mzn-stat: failures=11\n",
      "mzn-stat: restarts=0\n",
      "mzn-stat: peakDepth=30\n",
      "mzn-stat-end\n"
     ]
    },
    {
     "data": {
      "image/png": "[encoded data removed]",
      "text/plain": [
       "<Figure size 432x288 with 1 Axes>"
      ]
     },
     "metadata": {
      "needs_background": "light"
     },
     "output_type": "display_data"
    },
    {
     "name": "stdout",
     "output_type": "stream",
     "text": [
      "Solution: [[26, 32], [29, 31], [32, 22], [32, 16], [32, 9], [32, 27], [32, 0], [26, 22], [29, 19], [29, 0], [26, 0], [22, 32], [22, 28], [22, 23], [22, 17], [18, 28], [18, 20], [14, 23], [22, 0], [18, 0], [14, 0], [0, 0]]\n",
      "[w, h]:   [[3, 3], [3, 4], [3, 5], [3, 6], [3, 7], [3, 8], [3, 9], [3, 10], [3, 12], [3, 19], [3, 22], [4, 3], [4, 4], [4, 5], [4, 6], [4, 7], [4, 8], [4, 12], [4, 17], [4, 20], [4, 23], [14, 35]]\n",
      "\n",
      "Pieces: [[3, 3], [3, 4], [3, 5], [3, 6], [3, 7], [3, 8], [3, 9], [3, 10], [3, 12], [3, 19], [3, 22], [4, 3], [4, 4], [4, 5], [4, 6], [4, 7], [4, 8], [4, 12], [4, 17], [4, 20], [4, 23], [14, 35]]\n",
      "\n",
      "\n",
      "\n",
      "|| === Instance 36x36 === ||\n",
      "%%%mzn-stat: nSolutions=1\n",
      "Solver output:\n",
      "Generated FlatZinc statistics:\n",
      "mzn-stat: paths=0\n",
      "mzn-stat: flatBoolVars=1066\n",
      "mzn-stat: flatIntVars=105\n",
      "mzn-stat: flatBoolConstraints=309\n",
      "mzn-stat: flatIntConstraints=1110\n",
      "mzn-stat: evaluatedHalfReifiedConstraints=1066\n",
      "mzn-stat: method=\"satisfy\"\n",
      "mzn-stat: flatTime=0.324203\n",
      "mzn-stat-end\n",
      "mzn-stat: initTime=0.061\n",
      "mzn-stat: solveTime=0.002\n",
      "mzn-stat: solutions=1\n",
      "mzn-stat: variables=1219\n",
      "mzn-stat: propagators=1063\n",
      "mzn-stat: propagations=4908\n",
      "mzn-stat: nodes=24\n",
      "mzn-stat: failures=0\n",
      "mzn-stat: restarts=0\n",
      "mzn-stat: peakDepth=23\n",
      "mzn-stat-end\n"
     ]
    },
    {
     "data": {
      "image/png": "[encoded data removed]",
      "text/plain": [
       "<Figure size 432x288 with 1 Axes>"
      ]
     },
     "metadata": {
      "needs_background": "light"
     },
     "output_type": "display_data"
    },
    {
     "name": "stdout",
     "output_type": "stream",
     "text": [
      "Solution: [[30, 33], [33, 32], [27, 31], [33, 26], [33, 19], [30, 25], [33, 10], [33, 0], [30, 14], [24, 24], [30, 0], [27, 16], [27, 0], [24, 0], [21, 0], [17, 33], [17, 22], [17, 0], [12, 18], [12, 14], [12, 0], [12, 21], [0, 0]]\n",
      "[w, h]:   [[3, 3], [3, 4], [3, 5], [3, 6], [3, 7], [3, 8], [3, 9], [3, 10], [3, 11], [3, 12], [3, 14], [3, 15], [3, 16], [3, 24], [3, 36], [4, 3], [4, 11], [4, 22], [5, 3], [5, 4], [5, 14], [5, 15], [12, 36]]\n",
      "\n",
      "Pieces: [[3, 3], [3, 4], [3, 5], [3, 6], [3, 7], [3, 8], [3, 9], [3, 10], [3, 11], [3, 12], [3, 14], [3, 15], [3, 16], [3, 24], [3, 36], [4, 3], [4, 11], [4, 22], [5, 3], [5, 4], [5, 14], [5, 15], [12, 36]]\n",
      "\n",
      "\n",
      "\n",
      "|| === Instance 37x37 === ||\n",
      "%%%mzn-stat: nSolutions=1\n",
      "Solver output:\n",
      "Generated FlatZinc statistics:\n",
      "mzn-stat: paths=0\n",
      "mzn-stat: flatBoolVars=1504\n",
      "mzn-stat: flatIntVars=131\n",
      "mzn-stat: flatBoolConstraints=416\n",
      "mzn-stat: flatIntConstraints=1559\n",
      "mzn-stat: evaluatedHalfReifiedConstraints=1504\n",
      "mzn-stat: method=\"satisfy\"\n",
      "mzn-stat: flatTime=0.310855\n",
      "mzn-stat-end\n",
      "mzn-stat: initTime=0.081\n",
      "mzn-stat: solveTime=0.004\n",
      "mzn-stat: solutions=1\n",
      "mzn-stat: variables=1669\n",
      "mzn-stat: propagators=1635\n",
      "mzn-stat: propagations=9430\n",
      "mzn-stat: nodes=48\n",
      "mzn-stat: failures=10\n",
      "mzn-stat: restarts=0\n",
      "mzn-stat: peakDepth=37\n",
      "mzn-stat-end\n"
     ]
    },
    {
     "data": {
      "image/png": "[encoded data removed]",
      "text/plain": [
       "<Figure size 432x288 with 1 Axes>"
      ]
     },
     "metadata": {
      "needs_background": "light"
     },
     "output_type": "display_data"
    },
    {
     "name": "stdout",
     "output_type": "stream",
     "text": [
      "Solution: [[25, 34], [34, 33], [28, 32], [34, 27], [34, 20], [31, 29], [34, 11], [34, 0], [31, 17], [25, 21], [28, 18], [31, 0], [28, 0], [25, 0], [17, 34], [21, 33], [21, 28], [21, 22], [17, 24], [21, 0], [17, 0], [12, 30], [12, 33], [12, 24], [12, 14], [12, 0], [0, 0]]\n",
      "[w, h]:   [[3, 3], [3, 4], [3, 5], [3, 6], [3, 7], [3, 8], [3, 9], [3, 11], [3, 12], [3, 13], [3, 14], [3, 17], [3, 18], [3, 21], [4, 3], [4, 4], [4, 5], [4, 6], [4, 10], [4, 22], [4, 24], [5, 3], [5, 4], [5, 6], [5, 10], [5, 14], [12, 37]]\n",
      "\n",
      "Pieces: [[3, 3], [3, 4], [3, 5], [3, 6], [3, 7], [3, 8], [3, 9], [3, 11], [3, 12], [3, 13], [3, 14], [3, 17], [3, 18], [3, 21], [4, 3], [4, 4], [4, 5], [4, 6], [4, 10], [4, 22], [4, 24], [5, 3], [5, 4], [5, 6], [5, 10], [5, 14], [12, 37]]\n",
      "\n",
      "\n",
      "\n",
      "|| === Instance 38x38 === ||\n",
      "%%%mzn-stat: nSolutions=1\n",
      "Solver output:\n",
      "Generated FlatZinc statistics:\n",
      "mzn-stat: paths=0\n",
      "mzn-stat: flatBoolVars=756\n",
      "mzn-stat: flatIntVars=97\n",
      "mzn-stat: flatBoolConstraints=207\n",
      "mzn-stat: flatIntConstraints=799\n",
      "mzn-stat: evaluatedHalfReifiedConstraints=756\n",
      "mzn-stat: method=\"satisfy\"\n",
      "mzn-stat: flatTime=0.24794\n",
      "mzn-stat-end\n",
      "mzn-stat: initTime=0.046\n",
      "mzn-stat: solveTime=0.002\n",
      "mzn-stat: solutions=1\n",
      "mzn-stat: variables=863\n",
      "mzn-stat: propagators=915\n",
      "mzn-stat: propagations=6062\n",
      "mzn-stat: nodes=41\n",
      "mzn-stat: failures=10\n",
      "mzn-stat: restarts=0\n",
      "mzn-stat: peakDepth=28\n",
      "mzn-stat-end\n"
     ]
    },
    {
     "data": {
      "image/png": "[encoded data removed]",
      "text/plain": [
       "<Figure size 432x288 with 1 Axes>"
      ]
     },
     "metadata": {
      "needs_background": "light"
     },
     "output_type": "display_data"
    },
    {
     "name": "stdout",
     "output_type": "stream",
     "text": [
      "Solution: [[35, 9], [32, 34], [35, 33], [35, 27], [35, 20], [35, 12], [35, 0], [32, 24], [32, 13], [32, 0], [24, 35], [28, 33], [28, 27], [24, 27], [24, 16], [28, 15], [28, 0], [24, 0], [0, 0]]\n",
      "[w, h]:   [[3, 3], [3, 4], [3, 5], [3, 6], [3, 7], [3, 8], [3, 9], [3, 10], [3, 11], [3, 13], [4, 3], [4, 5], [4, 6], [4, 8], [4, 11], [4, 12], [4, 15], [4, 16], [24, 38]]\n",
      "\n",
      "Pieces: [[3, 3], [3, 4], [3, 5], [3, 6], [3, 7], [3, 8], [3, 9], [3, 10], [3, 11], [3, 13], [4, 3], [4, 5], [4, 6], [4, 8], [4, 11], [4, 12], [4, 15], [4, 16], [24, 38]]\n",
      "\n",
      "\n",
      "\n",
      "|| === Instance 39x39 === ||\n",
      "%%%mzn-stat: nSolutions=1\n",
      "Solver output:\n",
      "Generated FlatZinc statistics:\n",
      "mzn-stat: paths=0\n",
      "mzn-stat: flatBoolVars=1736\n",
      "mzn-stat: flatIntVars=149\n",
      "mzn-stat: flatBoolConstraints=462\n",
      "mzn-stat: flatIntConstraints=1800\n",
      "mzn-stat: evaluatedHalfReifiedConstraints=1736\n",
      "mzn-stat: method=\"satisfy\"\n",
      "mzn-stat: flatTime=0.322201\n",
      "mzn-stat-end\n",
      "mzn-stat: initTime=0.09\n",
      "mzn-stat: solveTime=0.004\n",
      "mzn-stat: solutions=1\n",
      "mzn-stat: variables=1895\n",
      "mzn-stat: propagators=2121\n",
      "mzn-stat: propagations=9182\n",
      "mzn-stat: nodes=32\n",
      "mzn-stat: failures=0\n",
      "mzn-stat: restarts=0\n",
      "mzn-stat: peakDepth=31\n",
      "mzn-stat-end\n"
     ]
    },
    {
     "data": {
      "image/png": "[encoded data removed]",
      "text/plain": [
       "<Figure size 432x288 with 1 Axes>"
      ]
     },
     "metadata": {
      "needs_background": "light"
     },
     "output_type": "display_data"
    },
    {
     "name": "stdout",
     "output_type": "stream",
     "text": [
      "Solution: [[33, 36], [36, 35], [36, 30], [36, 24], [36, 8], [36, 0], [36, 15], [33, 26], [33, 15], [33, 0], [29, 36], [29, 32], [29, 27], [29, 21], [25, 31], [29, 12], [29, 0], [25, 16], [25, 0], [20, 27], [20, 35], [20, 30], [20, 21], [15, 31], [20, 11], [20, 0], [15, 18], [15, 0], [0, 0]]\n",
      "[w, h]:   [[3, 3], [3, 4], [3, 5], [3, 6], [3, 7], [3, 8], [3, 9], [3, 10], [3, 11], [3, 15], [4, 3], [4, 4], [4, 5], [4, 6], [4, 8], [4, 9], [4, 12], [4, 15], [4, 16], [5, 3], [5, 4], [5, 5], [5, 6], [5, 8], [5, 10], [5, 11], [5, 13], [5, 18], [15, 39]]\n",
      "\n",
      "Pieces: [[3, 3], [3, 4], [3, 5], [3, 6], [3, 7], [3, 8], [3, 9], [3, 10], [3, 11], [3, 15], [4, 3], [4, 4], [4, 5], [4, 6], [4, 8], [4, 9], [4, 12], [4, 15], [4, 16], [5, 3], [5, 4], [5, 5], [5, 6], [5, 8], [5, 10], [5, 11], [5, 13], [5, 18], [15, 39]]\n",
      "\n",
      "\n",
      "\n",
      "|| === Instance 40x40 === ||\n",
      "%%%mzn-stat: nSolutions=1\n",
      "Solver output:\n",
      "Generated FlatZinc statistics:\n",
      "mzn-stat: paths=0\n",
      "mzn-stat: flatBoolVars=706\n",
      "mzn-stat: flatIntVars=86\n",
      "mzn-stat: flatBoolConstraints=200\n",
      "mzn-stat: flatIntConstraints=743\n",
      "mzn-stat: evaluatedHalfReifiedConstraints=706\n",
      "mzn-stat: method=\"satisfy\"\n",
      "mzn-stat: flatTime=0.264232\n",
      "mzn-stat-end\n",
      "mzn-stat: initTime=0.043\n",
      "mzn-stat: solveTime=0.001\n",
      "mzn-stat: solutions=1\n",
      "mzn-stat: variables=845\n",
      "mzn-stat: propagators=667\n",
      "mzn-stat: propagations=3108\n",
      "mzn-stat: nodes=19\n",
      "mzn-stat: failures=0\n",
      "mzn-stat: restarts=0\n",
      "mzn-stat: peakDepth=18\n",
      "mzn-stat-end\n"
     ]
    },
    {
     "data": {
      "image/png": "[encoded data removed]",
      "text/plain": [
       "<Figure size 432x288 with 1 Axes>"
      ]
     },
     "metadata": {
      "needs_background": "light"
     },
     "output_type": "display_data"
    },
    {
     "name": "stdout",
     "output_type": "stream",
     "text": [
      "Solution: [[34, 37], [37, 36], [37, 31], [37, 25], [37, 18], [37, 10], [34, 28], [37, 0], [34, 16], [34, 0], [31, 0], [27, 36], [27, 22], [27, 0], [22, 33], [22, 36], [22, 25], [22, 0], [22, 12], [0, 0]]\n",
      "[w, h]:   [[3, 3], [3, 4], [3, 5], [3, 6], [3, 7], [3, 8], [3, 9], [3, 10], [3, 12], [3, 16], [3, 40], [4, 4], [4, 14], [4, 22], [5, 3], [5, 4], [5, 8], [5, 12], [5, 13], [22, 40]]\n",
      "\n",
      "Pieces: [[3, 3], [3, 4], [3, 5], [3, 6], [3, 7], [3, 8], [3, 9], [3, 10], [3, 12], [3, 16], [3, 40], [4, 4], [4, 14], [4, 22], [5, 3], [5, 4], [5, 8], [5, 12], [5, 13], [22, 40]]\n",
      "\n",
      "\n",
      "\n"
     ]
    }
   ],
   "source": [
    "starting_instance = 8\n",
    "ending_instance = 40\n",
    "\n",
    "for i in range(starting_instance, ending_instance+1):\n",
    "    path = f\"CP/src/{i}x{i}.txt\"\n",
    "    pr_w, pr_h, n_pieces, L = read_instance(path)\n",
    "    \n",
    "    print(f\"|| === Instance {i}x{i} === ||\")\n",
    "    # execute the model to get the first solution in 5 min max\n",
    "    sol = %minizinc -s CP/pwp_v8.mzn -t 300000\n",
    "    \n",
    "    if sol is not None:\n",
    "        graph_solution(pr_w, pr_h, n_pieces, L, sol['q'])\n",
    "    else:\n",
    "        print(\"No solution found in 5min\")\n",
    "        \n",
    "    print(f\"Pieces: {L}\")\n",
    "    print(\"\\n\\n\")"
   ]
  },
  {
   "cell_type": "code",
   "execution_count": null,
   "metadata": {},
   "outputs": [],
   "source": []
  }
 ],
 "metadata": {
  "kernelspec": {
   "display_name": "Python 3",
   "language": "python",
   "name": "python3"
  },
  "language_info": {
   "codemirror_mode": {
    "name": "ipython",
    "version": 3
   },
   "file_extension": ".py",
   "mimetype": "text/x-python",
   "name": "python",
   "nbconvert_exporter": "python",
   "pygments_lexer": "ipython3",
   "version": "3.6.10"
  }
 },
 "nbformat": 4,
 "nbformat_minor": 4
}
