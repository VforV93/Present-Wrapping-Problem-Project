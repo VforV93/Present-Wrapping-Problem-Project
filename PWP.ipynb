{
 "cells": [
  {
   "cell_type": "code",
   "execution_count": 1,
   "metadata": {},
   "outputs": [
    {
     "data": {
      "application/javascript": [
       "\"use strict\";\n",
       "\n",
       "CodeMirror.defineMode(\"text/minizinc\", function(config) {\n",
       "\n",
       "  var isOperatorChar = /[+\\-*=<>\\/]/;\n",
       "\n",
       "  var keywords = {\"array\":true,\n",
       "  \"bool\":true,\n",
       "  \"case\":true,\n",
       "  \"constraint\":true,\n",
       "  \"diff\":true,\n",
       "  \"div\":true,\n",
       "  \"else\":true,\n",
       "  \"elseif\":true,\n",
       "  \"endif\":true,\n",
       "  \"enum\":true,\n",
       "  \"false\":true,\n",
       "  \"float\":true,\n",
       "  \"function\":true,\n",
       "  \"if\":true,\n",
       "  \"in\":true,\n",
       "  \"include\":true,\n",
       "  \"int\":true,\n",
       "  \"intersect\":true,\n",
       "  \"let\":true,\n",
       "  \"list\":true,\n",
       "  \"maximize\":true,\n",
       "  \"minimize\":true,\n",
       "  \"mod\":true,\n",
       "  \"not\":true,\n",
       "  \"of\":true,\n",
       "  \"op\":true,\n",
       "  \"output\":true,\n",
       "  \"par\":true,\n",
       "  \"predicate\":true,\n",
       "  \"record\":true,\n",
       "  \"satisfy\":true,\n",
       "  \"set\":true,\n",
       "  \"solve\":true,\n",
       "  \"string\":true,\n",
       "  \"subset\":true,\n",
       "  \"superset\":true,\n",
       "  \"symdiff\":true,\n",
       "  \"test\":true,\n",
       "  \"then\":true,\n",
       "  \"true\":true,\n",
       "  \"tuple\":true,\n",
       "  \"type\":true,\n",
       "  \"union\":true,\n",
       "  \"var\":true,\n",
       "  \"where\":true,\n",
       "  \"xor\":true};\n",
       "\n",
       "  var punc = \":;,.(){}[]\";\n",
       "\n",
       "  function tokenBase(stream, state) {\n",
       "    var ch = stream.next();\n",
       "    if (ch == '\"') {\n",
       "      state.tokenize.push(tokenString);\n",
       "      return tokenString(stream, state);\n",
       "    }\n",
       "    if (/[\\d\\.]/.test(ch)) {\n",
       "      if (ch == \".\") {\n",
       "        stream.match(/^[0-9]+([eE][\\-+]?[0-9]+)?/);\n",
       "      } else if (ch == \"0\") {\n",
       "        stream.match(/^[xX][0-9a-fA-F]+/) || stream.match(/^0[0-7]+/);\n",
       "      } else {\n",
       "        stream.match(/^[0-9]*\\.?[0-9]*([eE][\\-+]?[0-9]+)?/);\n",
       "      }\n",
       "      return \"number\";\n",
       "    }\n",
       "    if (ch == \"/\") {\n",
       "      if (stream.eat(\"*\")) {\n",
       "        state.tokenize.push(tokenComment);\n",
       "        return tokenComment(stream, state);\n",
       "      }\n",
       "    }\n",
       "    if (ch == \"%\") {\n",
       "      stream.skipToEnd();\n",
       "      return \"comment\";\n",
       "    }\n",
       "    if (isOperatorChar.test(ch)) {\n",
       "      stream.eatWhile(isOperatorChar);\n",
       "      return \"operator\";\n",
       "    }\n",
       "    if (punc.indexOf(ch) > -1) {\n",
       "      return \"punctuation\";\n",
       "    }\n",
       "    stream.eatWhile(/[\\w\\$_\\xa1-\\uffff]/);\n",
       "    var cur = stream.current();\n",
       "    if (keywords.propertyIsEnumerable(cur)) {\n",
       "      return \"keyword\";\n",
       "    }\n",
       "    return \"variable\";\n",
       "  }\n",
       "\n",
       "  function tokenComment(stream, state) {\n",
       "    var maybeEnd = false, ch;\n",
       "    while (ch = stream.next()) {\n",
       "      if (ch == \"/\" && maybeEnd) {\n",
       "        state.tokenize.pop();\n",
       "        break;\n",
       "      }\n",
       "      maybeEnd = (ch == \"*\");\n",
       "    }\n",
       "    return \"comment\";\n",
       "  }\n",
       "\n",
       "  function tokenUntilClosingParen() {\n",
       "    var depth = 0;\n",
       "    return function(stream, state, prev) {\n",
       "      var inner = tokenBase(stream, state, prev);\n",
       "      console.log(\"untilClosing\",inner,stream.current());\n",
       "      if (inner == \"punctuation\") {\n",
       "        if (stream.current() == \"(\") {\n",
       "          ++depth;\n",
       "        } else if (stream.current() == \")\") {\n",
       "          if (depth == 0) {\n",
       "            stream.backUp(1)\n",
       "            state.tokenize.pop()\n",
       "            return state.tokenize[state.tokenize.length - 1](stream, state)\n",
       "          } else {\n",
       "            --depth;\n",
       "          }\n",
       "        }\n",
       "      }\n",
       "      return inner;\n",
       "    }\n",
       "  }\n",
       "\n",
       "  function tokenString(stream, state) {\n",
       "    var escaped = false, next, end = false;\n",
       "    while ((next = stream.next()) != null) {\n",
       "      if (next=='(' && escaped) {\n",
       "        state.tokenize.push(tokenUntilClosingParen());\n",
       "        return \"string\";\n",
       "      }\n",
       "      if (next == '\"' && !escaped) {end = true; break;}\n",
       "      escaped = !escaped && next == \"\\\\\";\n",
       "    }\n",
       "    if (end || !escaped)\n",
       "      state.tokenize.pop();\n",
       "    return \"string\";\n",
       "  }\n",
       "\n",
       "  return {\n",
       "    startState: function(basecolumn) {\n",
       "      return {\n",
       "        tokenize: []\n",
       "      };\n",
       "    },\n",
       "\n",
       "    token: function(stream, state) {\n",
       "      if (stream.eatSpace()) return null;\n",
       "      var style = (state.tokenize[state.tokenize.length - 1] || tokenBase)(stream, state);\n",
       "      console.log(\"token\",style);\n",
       "      return style;\n",
       "    },\n",
       "\n",
       "    blockCommentStart: \"/*\",\n",
       "    blockCommentEnd: \"*/\",\n",
       "    lineComment: \"%\"\n",
       "  };\n",
       "});\n",
       "\n",
       "CodeMirror.defineMIME(\"text/minizinc\", \"text/minizinc\");\n",
       "\n",
       "Jupyter.CodeCell.options_default.highlight_modes['magic_text/minizinc'] = {'reg':[/^%%minizinc/]} ;\n",
       "\n",
       "Jupyter.notebook.get_cells().map(function(cell){\n",
       "  if (cell.cell_type == 'code'){ cell.auto_highlight(); }\n",
       "}) ;\n"
      ],
      "text/plain": [
       "<IPython.core.display.Javascript object>"
      ]
     },
     "metadata": {},
     "output_type": "display_data"
    },
    {
     "name": "stdout",
     "output_type": "stream",
     "text": [
      "MiniZinc to FlatZinc converter, version 2.4.3, build 122680178\r\n",
      "Copyright (C) 2014-2020 Monash University, NICTA, Data61\n"
     ]
    }
   ],
   "source": [
    "%load_ext iminizinc\n",
    "%matplotlib inline\n",
    "\n",
    "import matplotlib.pyplot as plt\n",
    "import matplotlib.patches as patches\n",
    "import numpy as np\n",
    "import datetime\n",
    "from z3 import *"
   ]
  },
  {
   "cell_type": "markdown",
   "metadata": {},
   "source": [
    "<b> <h2> ACCESSORY FUNCTIONS </h2> </b>"
   ]
  },
  {
   "cell_type": "code",
   "execution_count": 33,
   "metadata": {},
   "outputs": [],
   "source": [
    "\"\"\"\n",
    "Read a given instance of the Present Wrapping Problem(PWP)\n",
    "Format:\n",
    "1-9 12  width and height of the paper roll(strip)\n",
    "2-5     the number of necessary pieces of paper to cut off\n",
    "3-3 3   n lines follow, each with xi and yi, representing the horizontal and vertical dimensions of the i-th piece of paper\n",
    "4-2 4\n",
    "5-2 8\n",
    "6-3 9\n",
    "7-4 12\n",
    "\"\"\"\n",
    "def read_instance(path):\n",
    "    file = open(path,\"r\").readlines()\n",
    "    pr_w , pr_h = tuple(map(int, file[0].rstrip(\"\\n\").split(\" \")))\n",
    "    n_pieces = int(file[1].rstrip(\"\\n\"))\n",
    "    L = []\n",
    "    for i in range(2, n_pieces + 2):\n",
    "        L.append(list(map(int, file[i].rstrip(\"\\n\").split(\" \"))))\n",
    "    return pr_w, pr_h, n_pieces, L\n",
    "\n",
    "\n",
    "\"\"\"\n",
    "Save given solution/s for a specific instance of the Present Wrapping Problem(PWP)\n",
    "\n",
    "File name Format: width x height [(# solution)][-rot].txt\n",
    "    just 1 solution => no (# sol.)   \n",
    "    -rot only if pieces rotation enabled\n",
    "\n",
    "Content Format:\n",
    "1-9 12       width and height of the paper roll(strip)\n",
    "2-5          the number of pieces\n",
    "3-3 3   4 0  n lines follow, each with xi, yi and the corresponding solution coordinates(x y)\n",
    "4-2 4   7 0  \n",
    "5-2 8   7 4  \n",
    "6-3 9   4 3  \n",
    "7-4 12  0 0  \n",
    "\"\"\"\n",
    "def save_solution(path, pr_w, pr_h, n_pieces, pieces, solutions):\n",
    "    MAX_SAVING_SOL = 10   #given n solution I will create(save) at most MAX_SAVING_SOL files.(I want to avoid creating thousands of files)\n",
    "    \n",
    "    # Only one solution\n",
    "    if not isinstance(solutions, list):\n",
    "        solutions = [solutions]\n",
    "        \n",
    "    for n, sol in enumerate(solutions):\n",
    "        print(n)\n",
    "        dim = []\n",
    "        rot = \"-rot\" if 'rot' in sol else \"\"\n",
    "        name = f\"{path}/{pr_w}x{pr_h}{rot}.txt\" if n==0 else f\"{path}/{pr_w}x{pr_h}({n}){rot}.txt\"\n",
    "        q = sol[\"q\"]\n",
    "        \n",
    "        f = open(name, \"w\")\n",
    "        f.write(f\"{pr_w} {pr_h}\\n\")\n",
    "        f.write(f\"{n_pieces}\\n\")\n",
    "        dim = pieces\n",
    "        if 'rot' in sol: #Managed the save with rotation   0:no rotation, 1:yes rotation\n",
    "            dim = update_dim_based_on_rot(dim, sol[\"rot\"])\n",
    "            \n",
    "        for i, p in enumerate(dim):\n",
    "            f.write(f\"{p[0]} {p[1]}\\t{q[i][0]} {q[i][1]}\\n\")\n",
    "        \n",
    "        f.close()\n",
    "        \n",
    "        if n>=MAX_SAVING_SOL:\n",
    "            break"
   ]
  },
  {
   "cell_type": "code",
   "execution_count": 3,
   "metadata": {},
   "outputs": [],
   "source": [
    "\"\"\"\n",
    "Given the pieces make the ascending or descending ordering according to the 'reverse' boolean value\n",
    "\"\"\"\n",
    "def order_pieces(pieces, reverse=False):\n",
    "    areas = [p[0] * p[1] for p in pieces]\n",
    "    sorted_indices = sorted(range(len(areas)), key=lambda k: areas[k], reverse=reverse)\n",
    "    ordered_pieces = [pieces[i] for i in sorted_indices]\n",
    "    return ordered_pieces"
   ]
  },
  {
   "cell_type": "code",
   "execution_count": 4,
   "metadata": {},
   "outputs": [],
   "source": [
    "PRINT_FIRST_N_SOL = 100\n",
    "PRINT_LAST_N_SOL = 100\n",
    "PRINT_EVERY_N_SOL = 10000\n",
    "\n",
    "\"\"\"\n",
    "Given an instance and 1 solution, create a graphical representation of that solution\n",
    "\"\"\"\n",
    "def graph_solution(pr_w, pr_h, n_pieces, pieces, q, colours=None):\n",
    "    if colours is None:\n",
    "        colours = np.random.rand(n_pieces, 3)\n",
    "    fig, ax = plt.subplots()\n",
    "    for i in range(n_pieces):\n",
    "        ax.add_patch(patches.Rectangle(\n",
    "            q[i],\n",
    "            pieces[i][0],\n",
    "            pieces[i][1],\n",
    "            facecolor=colours[i]\n",
    "        ))\n",
    "    ax.axis(\"equal\")\n",
    "    ax.xaxis.set_ticks(np.arange(0, pr_w+2, 2))\n",
    "    ax.set_xlim(0, pr_w)\n",
    "    ax.yaxis.set_ticks(np.arange(0, pr_h+2, 2))\n",
    "    ax.set_ylim(0, pr_h)\n",
    "    plt.show()\n",
    "    print(f\"Solution: {q}\")\n",
    "    print(f\"[w, h]:   {pieces}\\n\")\n",
    "\n",
    "\"\"\"\n",
    "Given the dimensions of each pieces(width and height), according to the rotation information, \n",
    "the function modify the width and height for each of them.\n",
    "ex: \n",
    "l  = [[5, 5], [5, 3], [3, 5], [3, 3]]\n",
    "rot= [0, 1, 1, 0]\n",
    "\n",
    "c  = [[5, 5], [3, 5], [5, 3], [3, 3]] returned\n",
    "\"\"\"\n",
    "def update_dim_based_on_rot(l, rot):\n",
    "    c = []\n",
    "    for i, r in enumerate(rot):\n",
    "        if r == 1: #I have to invert the i-th value of l\n",
    "            c.append([l[i][1], l[i][0]])\n",
    "        else:\n",
    "            c.append([l[i][0], l[i][1]])\n",
    "    return c\n",
    "    \n",
    "\"\"\"\n",
    "Print the first PRINT_FIRST_N_SOL, the last PRINT_LAST_N_SOL solutions and in between every PRINT_EVERY_N_SOL solutions.\n",
    "\"\"\"\n",
    "def print_solutions(res, instance_info):\n",
    "    n_sol = len(res)\n",
    "    colours = np.random.rand(instance_info['n'], 3)\n",
    "    if not isinstance(res, list):\n",
    "        n_sol = 1\n",
    "        print(\"coords:   {}\".format(res[\"q\"]))\n",
    "        dim = instance_info['p']\n",
    "        if 'rot' in res: #I manage the printing with rotation   0:no rotation, 1:yes rotation\n",
    "            print(\"rotation: {}\".format(res[\"rot\"]))\n",
    "            dim = update_dim_based_on_rot(dim, res[\"rot\"])\n",
    "            \n",
    "        graph_solution(instance_info['w'], instance_info['h'], instance_info['n'], dim, res[\"q\"], colours)\n",
    "    else:\n",
    "        last_i = 0\n",
    "        for i, x in enumerate(res):\n",
    "            dim = []\n",
    "            if i < PRINT_FIRST_N_SOL or i >= (n_sol-PRINT_LAST_N_SOL) or ((i+1)%PRINT_EVERY_N_SOL == 0):\n",
    "                if i > last_i+1:\n",
    "                    print(\" ... \")\n",
    "                print(\"{} : {} \".format(i, x['q']))\n",
    "                \n",
    "                dim = instance_info['p']\n",
    "                if 'rot' in x: #I manage the printing with rotation   0:no rotation, 1:yes rotation\n",
    "                    print(\"rotation: {}\".format(x[\"rot\"]))\n",
    "                    dim = update_dim_based_on_rot(dim, x[\"rot\"])\n",
    "                \n",
    "                graph_solution(instance_info['w'], instance_info['h'], instance_info['n'], dim, x[\"q\"], colours)\n",
    "                last_i = i\n",
    "                \n",
    "    print(\"Tot: {}\\n\".format(n_sol))"
   ]
  },
  {
   "cell_type": "markdown",
   "metadata": {},
   "source": [
    "<b> <h2> INPUT </h2> </b>"
   ]
  },
  {
   "cell_type": "markdown",
   "metadata": {},
   "source": [
    "<b> TEST 1 </b> (see report) <br>\n",
    "Open the mzn model(pwp_v8.mzn), set 'bool: independent_solving_on_w <b>= false</b>;'(line 22) and comment the search_ann lines at the end of the model(from line 77 to 82). Comment first also the \"<b>Symmetry breaking rules</b>\" part(from line 52 to 54) and later uncomment it.<br>\n",
    "Set 'ord_type' as described below and run the next cell three times <br>\n",
    "no-ord $\\;\\;$  => set ord_type = 'no-ord' <br>\n",
    "ord $\\;\\;\\;\\;\\;\\;$     => set ord_type = 'ord' <br>\n",
    "decr-ord => set ord_type = 'decr-ord'"
   ]
  },
  {
   "cell_type": "code",
   "execution_count": 5,
   "metadata": {},
   "outputs": [],
   "source": [
    "model_name = \"pwp_v8.mzn\"\n",
    "instances_name = [\"8x8\",\"9x9\",\"10x10\",\"11x11\",\"12x12\",\"13x13\",\"14x14\",\"15x15\",\"16x16\",\"17x17\",\"18x18\",\"19x19\",\"20x20\",\"21x21\"]"
   ]
  },
  {
   "cell_type": "code",
   "execution_count": 6,
   "metadata": {},
   "outputs": [
    {
     "name": "stdout",
     "output_type": "stream",
     "text": [
      "|| === Instance 8x8 === ||\n",
      "Warning, ignored search annotation: search_ann\n",
      "%%%mzn-stat: nSolutions=3\n",
      "Solver output:\n",
      "Generated FlatZinc statistics:\n",
      "mzn-stat: paths=0\n",
      "mzn-stat: flatBoolVars=24\n",
      "mzn-stat: flatIntVars=18\n",
      "mzn-stat: flatBoolConstraints=6\n",
      "mzn-stat: flatIntConstraints=36\n",
      "mzn-stat: evaluatedHalfReifiedConstraints=24\n",
      "mzn-stat: method=\"satisfy\"\n",
      "mzn-stat: flatTime=0.163389\n",
      "mzn-stat-end\n",
      "mzn-stat: initTime=0.008\n",
      "mzn-stat: solveTime=0\n",
      "mzn-stat: solutions=3\n",
      "mzn-stat: variables=42\n",
      "mzn-stat: propagators=22\n",
      "mzn-stat: propagations=162\n",
      "mzn-stat: nodes=7\n",
      "mzn-stat: failures=1\n",
      "mzn-stat: restarts=0\n",
      "mzn-stat: peakDepth=1\n",
      "mzn-stat-end\n",
      "|| === Instance 9x9 === ||\n",
      "Warning, ignored search annotation: search_ann\n",
      "%%%mzn-stat: nSolutions=16\n",
      "Solver output:\n",
      "Generated FlatZinc statistics:\n",
      "mzn-stat: paths=0\n",
      "mzn-stat: flatBoolVars=40\n",
      "mzn-stat: flatIntVars=21\n",
      "mzn-stat: flatBoolConstraints=10\n",
      "mzn-stat: flatIntConstraints=53\n",
      "mzn-stat: evaluatedHalfReifiedConstraints=40\n",
      "mzn-stat: method=\"satisfy\"\n",
      "mzn-stat: flatTime=0.168295\n",
      "mzn-stat-end\n",
      "mzn-stat: initTime=0.01\n",
      "mzn-stat: solveTime=0.001\n",
      "mzn-stat: solutions=16\n",
      "mzn-stat: variables=64\n",
      "mzn-stat: propagators=51\n",
      "mzn-stat: propagations=1244\n",
      "mzn-stat: nodes=51\n",
      "mzn-stat: failures=10\n",
      "mzn-stat: restarts=0\n",
      "mzn-stat: peakDepth=5\n",
      "mzn-stat-end\n",
      "|| === Instance 10x10 === ||\n",
      "Warning, ignored search annotation: search_ann\n",
      "%%%mzn-stat: nSolutions=22\n",
      "Solver output:\n",
      "Generated FlatZinc statistics:\n",
      "mzn-stat: paths=0\n",
      "mzn-stat: flatBoolVars=60\n",
      "mzn-stat: flatIntVars=26\n",
      "mzn-stat: flatBoolConstraints=15\n",
      "mzn-stat: flatIntConstraints=76\n",
      "mzn-stat: evaluatedHalfReifiedConstraints=60\n",
      "mzn-stat: method=\"satisfy\"\n",
      "mzn-stat: flatTime=0.162965\n",
      "mzn-stat-end\n",
      "mzn-stat: initTime=0.009\n",
      "mzn-stat: solveTime=0.001\n",
      "mzn-stat: solutions=22\n",
      "mzn-stat: variables=86\n",
      "mzn-stat: propagators=77\n",
      "mzn-stat: propagations=3830\n",
      "mzn-stat: nodes=111\n",
      "mzn-stat: failures=34\n",
      "mzn-stat: restarts=0\n",
      "mzn-stat: peakDepth=8\n",
      "mzn-stat-end\n",
      "|| === Instance 11x11 === ||\n",
      "Warning, ignored search annotation: search_ann\n",
      "%%%mzn-stat: nSolutions=32\n",
      "Solver output:\n",
      "Generated FlatZinc statistics:\n",
      "mzn-stat: paths=0\n",
      "mzn-stat: flatBoolVars=84\n",
      "mzn-stat: flatIntVars=30\n",
      "mzn-stat: flatBoolConstraints=21\n",
      "mzn-stat: flatIntConstraints=102\n",
      "mzn-stat: evaluatedHalfReifiedConstraints=84\n",
      "mzn-stat: method=\"satisfy\"\n",
      "mzn-stat: flatTime=0.167056\n",
      "mzn-stat-end\n",
      "mzn-stat: initTime=0.011\n",
      "mzn-stat: solveTime=0.003\n",
      "mzn-stat: solutions=32\n",
      "mzn-stat: variables=114\n",
      "mzn-stat: propagators=107\n",
      "mzn-stat: propagations=12233\n",
      "mzn-stat: nodes=303\n",
      "mzn-stat: failures=120\n",
      "mzn-stat: restarts=0\n",
      "mzn-stat: peakDepth=14\n",
      "mzn-stat-end\n",
      "|| === Instance 12x12 === ||\n",
      "Warning, ignored search annotation: search_ann\n",
      "%%%mzn-stat: nSolutions=48\n",
      "Solver output:\n",
      "Generated FlatZinc statistics:\n",
      "mzn-stat: paths=0\n",
      "mzn-stat: flatBoolVars=112\n",
      "mzn-stat: flatIntVars=34\n",
      "mzn-stat: flatBoolConstraints=28\n",
      "mzn-stat: flatIntConstraints=132\n",
      "mzn-stat: evaluatedHalfReifiedConstraints=112\n",
      "mzn-stat: method=\"satisfy\"\n",
      "mzn-stat: flatTime=0.166049\n",
      "mzn-stat-end\n",
      "mzn-stat: initTime=0.011\n",
      "mzn-stat: solveTime=0.003\n",
      "mzn-stat: solutions=48\n",
      "mzn-stat: variables=146\n",
      "mzn-stat: propagators=139\n",
      "mzn-stat: propagations=15653\n",
      "mzn-stat: nodes=335\n",
      "mzn-stat: failures=120\n",
      "mzn-stat: restarts=0\n",
      "mzn-stat: peakDepth=15\n",
      "mzn-stat-end\n",
      "|| === Instance 13x13 === ||\n",
      "Warning, ignored search annotation: search_ann\n",
      "%%%mzn-stat: nSolutions=532\n",
      "Solver output:\n",
      "Generated FlatZinc statistics:\n",
      "mzn-stat: paths=0\n",
      "mzn-stat: flatBoolVars=144\n",
      "mzn-stat: flatIntVars=38\n",
      "mzn-stat: flatBoolConstraints=36\n",
      "mzn-stat: flatIntConstraints=166\n",
      "mzn-stat: evaluatedHalfReifiedConstraints=144\n",
      "mzn-stat: method=\"satisfy\"\n",
      "mzn-stat: flatTime=0.170014\n",
      "mzn-stat-end\n",
      "mzn-stat: initTime=0.013\n",
      "mzn-stat: solveTime=0.045\n",
      "mzn-stat: solutions=532\n",
      "mzn-stat: variables=182\n",
      "mzn-stat: propagators=189\n",
      "mzn-stat: propagations=207748\n",
      "mzn-stat: nodes=3767\n",
      "mzn-stat: failures=1352\n",
      "mzn-stat: restarts=0\n",
      "mzn-stat: peakDepth=19\n",
      "mzn-stat-end\n",
      "|| === Instance 14x14 === ||\n",
      "Warning, ignored search annotation: search_ann\n",
      "%%%mzn-stat: nSolutions=336\n",
      "Solver output:\n",
      "Generated FlatZinc statistics:\n",
      "mzn-stat: paths=0\n",
      "mzn-stat: flatBoolVars=144\n",
      "mzn-stat: flatIntVars=38\n",
      "mzn-stat: flatBoolConstraints=36\n",
      "mzn-stat: flatIntConstraints=166\n",
      "mzn-stat: evaluatedHalfReifiedConstraints=144\n",
      "mzn-stat: method=\"satisfy\"\n",
      "mzn-stat: flatTime=0.164572\n",
      "mzn-stat-end\n",
      "mzn-stat: initTime=0.014\n",
      "mzn-stat: solveTime=0.021\n",
      "mzn-stat: solutions=336\n",
      "mzn-stat: variables=182\n",
      "mzn-stat: propagators=180\n",
      "mzn-stat: propagations=59262\n",
      "mzn-stat: nodes=1341\n",
      "mzn-stat: failures=335\n",
      "mzn-stat: restarts=0\n",
      "mzn-stat: peakDepth=16\n",
      "mzn-stat-end\n",
      "|| === Instance 15x15 === ||\n",
      "Warning, ignored search annotation: search_ann\n",
      "%%%mzn-stat: nSolutions=6272\n",
      "Solver output:\n",
      "Generated FlatZinc statistics:\n",
      "mzn-stat: paths=0\n",
      "mzn-stat: flatBoolVars=180\n",
      "mzn-stat: flatIntVars=41\n",
      "mzn-stat: flatBoolConstraints=45\n",
      "mzn-stat: flatIntConstraints=203\n",
      "mzn-stat: evaluatedHalfReifiedConstraints=180\n",
      "mzn-stat: method=\"satisfy\"\n",
      "mzn-stat: flatTime=0.179861\n",
      "mzn-stat-end\n",
      "mzn-stat: initTime=0.014\n",
      "mzn-stat: solveTime=0.471\n",
      "mzn-stat: solutions=6272\n",
      "mzn-stat: variables=224\n",
      "mzn-stat: propagators=214\n",
      "mzn-stat: propagations=1074900\n",
      "mzn-stat: nodes=24425\n",
      "mzn-stat: failures=5941\n",
      "mzn-stat: restarts=0\n",
      "mzn-stat: peakDepth=24\n",
      "mzn-stat-end\n",
      "|| === Instance 16x16 === ||\n",
      "Warning, ignored search annotation: search_ann\n",
      "%%%mzn-stat: nSolutions=576\n",
      "Solver output:\n",
      "Generated FlatZinc statistics:\n",
      "mzn-stat: paths=0\n",
      "mzn-stat: flatBoolVars=180\n",
      "mzn-stat: flatIntVars=42\n",
      "mzn-stat: flatBoolConstraints=45\n",
      "mzn-stat: flatIntConstraints=204\n",
      "mzn-stat: evaluatedHalfReifiedConstraints=180\n",
      "mzn-stat: method=\"satisfy\"\n",
      "mzn-stat: flatTime=0.167264\n",
      "mzn-stat-end\n",
      "mzn-stat: initTime=0.013\n",
      "mzn-stat: solveTime=0.039\n",
      "mzn-stat: solutions=576\n",
      "mzn-stat: variables=222\n",
      "mzn-stat: propagators=220\n",
      "mzn-stat: propagations=113159\n",
      "mzn-stat: nodes=2281\n",
      "mzn-stat: failures=565\n",
      "mzn-stat: restarts=0\n",
      "mzn-stat: peakDepth=17\n",
      "mzn-stat-end\n",
      "|| === Instance 17x17 === ||\n",
      "Warning, ignored search annotation: search_ann\n",
      "%%%mzn-stat: nSolutions=24464\n",
      "Solver output:\n",
      "Generated FlatZinc statistics:\n",
      "mzn-stat: paths=0\n",
      "mzn-stat: flatBoolVars=264\n",
      "mzn-stat: flatIntVars=50\n",
      "mzn-stat: flatBoolConstraints=66\n",
      "mzn-stat: flatIntConstraints=292\n",
      "mzn-stat: evaluatedHalfReifiedConstraints=264\n",
      "mzn-stat: method=\"satisfy\"\n",
      "mzn-stat: flatTime=0.188759\n",
      "mzn-stat-end\n",
      "mzn-stat: initTime=0.017\n",
      "mzn-stat: solveTime=3.22\n",
      "mzn-stat: solutions=24464\n",
      "mzn-stat: variables=314\n",
      "mzn-stat: propagators=335\n",
      "mzn-stat: propagations=11151364\n",
      "mzn-stat: nodes=206233\n",
      "mzn-stat: failures=78653\n",
      "mzn-stat: restarts=0\n",
      "mzn-stat: peakDepth=32\n",
      "mzn-stat-end\n",
      "|| === Instance 18x18 === ||\n",
      "Warning, ignored search annotation: search_ann\n",
      "%%%mzn-stat: nSolutions=0\n",
      "Solver output:\n",
      "Generated FlatZinc statistics:\n",
      "mzn-stat: paths=0\n",
      "mzn-stat: flatBoolVars=480\n",
      "mzn-stat: flatIntVars=66\n",
      "mzn-stat: flatBoolConstraints=120\n",
      "mzn-stat: flatIntConstraints=516\n",
      "mzn-stat: evaluatedHalfReifiedConstraints=480\n",
      "mzn-stat: method=\"satisfy\"\n",
      "mzn-stat: flatTime=0.189537\n",
      "mzn-stat-end\n",
      "No solution has been found\n",
      "mzn-stat: initTime=0.021\n",
      "mzn-stat: solveTime=299.812\n",
      "mzn-stat: solutions=0\n",
      "mzn-stat: variables=546\n",
      "mzn-stat: propagators=622\n",
      "mzn-stat: propagations=812792596\n",
      "mzn-stat: nodes=11750687\n",
      "mzn-stat: failures=5875338\n",
      "mzn-stat: restarts=0\n",
      "mzn-stat: peakDepth=41\n",
      "mzn-stat-end\n",
      "|| === Instance 19x19 === ||\n",
      "Warning, ignored search annotation: search_ann\n",
      "%%%mzn-stat: nSolutions=67456\n",
      "Solver output:\n",
      "Generated FlatZinc statistics:\n",
      "mzn-stat: paths=0\n",
      "mzn-stat: flatBoolVars=364\n",
      "mzn-stat: flatIntVars=56\n",
      "mzn-stat: flatBoolConstraints=91\n",
      "mzn-stat: flatIntConstraints=395\n",
      "mzn-stat: evaluatedHalfReifiedConstraints=364\n",
      "mzn-stat: method=\"satisfy\"\n",
      "mzn-stat: flatTime=0.238529\n",
      "mzn-stat-end\n",
      "mzn-stat: initTime=0.026\n",
      "mzn-stat: solveTime=299.762\n",
      "mzn-stat: solutions=67456\n",
      "mzn-stat: variables=424\n",
      "mzn-stat: propagators=444\n",
      "mzn-stat: propagations=1434104493\n",
      "mzn-stat: nodes=17624399\n",
      "mzn-stat: failures=8744738\n",
      "mzn-stat: restarts=0\n",
      "mzn-stat: peakDepth=44\n",
      "mzn-stat-end\n",
      "|| === Instance 20x20 === ||\n",
      "Warning, ignored search annotation: search_ann\n",
      "%%%mzn-stat: nSolutions=141696\n",
      "Solver output:\n",
      "Generated FlatZinc statistics:\n",
      "mzn-stat: paths=0\n",
      "mzn-stat: flatBoolVars=364\n",
      "mzn-stat: flatIntVars=58\n",
      "mzn-stat: flatBoolConstraints=91\n",
      "mzn-stat: flatIntConstraints=396\n",
      "mzn-stat: evaluatedHalfReifiedConstraints=364\n",
      "mzn-stat: method=\"satisfy\"\n",
      "mzn-stat: flatTime=0.231739\n",
      "mzn-stat-end\n",
      "mzn-stat: initTime=0.024\n",
      "mzn-stat: solveTime=47.854\n",
      "mzn-stat: solutions=141696\n",
      "mzn-stat: variables=422\n",
      "mzn-stat: propagators=437\n",
      "mzn-stat: propagations=151876453\n",
      "mzn-stat: nodes=2518751\n",
      "mzn-stat: failures=1117680\n",
      "mzn-stat: restarts=0\n",
      "mzn-stat: peakDepth=38\n",
      "mzn-stat-end\n",
      "|| === Instance 21x21 === ||\n"
     ]
    },
    {
     "name": "stdout",
     "output_type": "stream",
     "text": [
      "Warning, ignored search annotation: search_ann\n",
      "%%%mzn-stat: nSolutions=478656\n",
      "Solver output:\n",
      "Generated FlatZinc statistics:\n",
      "mzn-stat: paths=0\n",
      "mzn-stat: flatBoolVars=420\n",
      "mzn-stat: flatIntVars=62\n",
      "mzn-stat: flatBoolConstraints=105\n",
      "mzn-stat: flatIntConstraints=454\n",
      "mzn-stat: evaluatedHalfReifiedConstraints=420\n",
      "mzn-stat: method=\"satisfy\"\n",
      "mzn-stat: flatTime=0.241422\n",
      "mzn-stat-end\n",
      "mzn-stat: initTime=0.029\n",
      "mzn-stat: solveTime=156.17\n",
      "mzn-stat: solutions=478656\n",
      "mzn-stat: variables=482\n",
      "mzn-stat: propagators=507\n",
      "mzn-stat: propagations=471378184\n",
      "mzn-stat: nodes=5395049\n",
      "mzn-stat: failures=2218869\n",
      "mzn-stat: restarts=0\n",
      "mzn-stat: peakDepth=44\n",
      "mzn-stat-end\n"
     ]
    }
   ],
   "source": [
    "\"\"\"\n",
    "Run this part 3 times changing the 'ord_type' value with the \"Symmetry breaking rules\" part commented and uncommented.\n",
    "\"\"\"\n",
    "\n",
    "ord_type = 'no-ord'#-1°   'ord'-2°   'decr-ord'-3°\n",
    "for i in instances_name:\n",
    "    path = f\"CP/Instances/{i}.txt\"\n",
    "    pr_w, pr_h, n_pieces, L = read_instance(path)\n",
    "    if ord_type in ['ord','decr-ord']:\n",
    "        unordered_pieces = list(L)\n",
    "        decr_order = True if ord_type == 'decr-ord' else False\n",
    "        L = order_pieces(L, reverse=decr_order)\n",
    "    \n",
    "    print(f\"|| === Instance {i} === ||\")\n",
    "    solutions = %minizinc -a -s CP/$model_name -t 300000\n",
    "    #print_solutions(solutions, {'w': pr_w, 'h': pr_h, 'n': n_pieces, 'p': L})"
   ]
  },
  {
   "cell_type": "markdown",
   "metadata": {},
   "source": [
    "<b> TEST 2 </b> (see report) <br>\n",
    "Open the mzn model(pwp_v8.mzn), set 'bool: independent_solving_on_w <b>= false</b>;'(line 22) <br>\n",
    "Comment and uncomment by hands from the first search_ann line to the last (from line 77 to 82) to execute the test two times, 'ord_type<b>=ord|decr-ord</b>'.<br>\n",
    "ord $\\;\\;\\;\\;\\;\\;$     => decr_order = <u>False</u> and apply ordering <br>\n",
    "decr-ord => decr_order = <u>True</u> and apply ordering <br>\n",
    "NB: comment/uncomment the relative search_ann row inside the model(pwp_v8.mzn)"
   ]
  },
  {
   "cell_type": "code",
   "execution_count": 18,
   "metadata": {},
   "outputs": [
    {
     "name": "stdout",
     "output_type": "stream",
     "text": [
      "|| === Instance 8x8 === ||\n",
      "%%%mzn-stat: nSolutions=3\n",
      "Solver output:\n",
      "Generated FlatZinc statistics:\n",
      "mzn-stat: paths=0\n",
      "mzn-stat: flatBoolVars=24\n",
      "mzn-stat: flatIntVars=18\n",
      "mzn-stat: flatBoolConstraints=6\n",
      "mzn-stat: flatIntConstraints=36\n",
      "mzn-stat: evaluatedHalfReifiedConstraints=24\n",
      "mzn-stat: method=\"satisfy\"\n",
      "mzn-stat: flatTime=0.163908\n",
      "mzn-stat-end\n",
      "mzn-stat: initTime=0.01\n",
      "mzn-stat: solveTime=0.001\n",
      "mzn-stat: solutions=3\n",
      "mzn-stat: variables=42\n",
      "mzn-stat: propagators=22\n",
      "mzn-stat: propagations=170\n",
      "mzn-stat: nodes=9\n",
      "mzn-stat: failures=2\n",
      "mzn-stat: restarts=0\n",
      "mzn-stat: peakDepth=1\n",
      "mzn-stat-end\n",
      "|| === Instance 9x9 === ||\n",
      "%%%mzn-stat: nSolutions=16\n",
      "Solver output:\n",
      "Generated FlatZinc statistics:\n",
      "mzn-stat: paths=0\n",
      "mzn-stat: flatBoolVars=40\n",
      "mzn-stat: flatIntVars=20\n",
      "mzn-stat: flatBoolConstraints=10\n",
      "mzn-stat: flatIntConstraints=53\n",
      "mzn-stat: evaluatedHalfReifiedConstraints=40\n",
      "mzn-stat: method=\"satisfy\"\n",
      "mzn-stat: flatTime=0.175376\n",
      "mzn-stat-end\n",
      "mzn-stat: initTime=0.011\n",
      "mzn-stat: solveTime=0.001\n",
      "mzn-stat: solutions=16\n",
      "mzn-stat: variables=64\n",
      "mzn-stat: propagators=51\n",
      "mzn-stat: propagations=1052\n",
      "mzn-stat: nodes=39\n",
      "mzn-stat: failures=4\n",
      "mzn-stat: restarts=0\n",
      "mzn-stat: peakDepth=5\n",
      "mzn-stat-end\n",
      "|| === Instance 10x10 === ||\n",
      "%%%mzn-stat: nSolutions=22\n",
      "Solver output:\n",
      "Generated FlatZinc statistics:\n",
      "mzn-stat: paths=0\n",
      "mzn-stat: flatBoolVars=60\n",
      "mzn-stat: flatIntVars=26\n",
      "mzn-stat: flatBoolConstraints=15\n",
      "mzn-stat: flatIntConstraints=76\n",
      "mzn-stat: evaluatedHalfReifiedConstraints=60\n",
      "mzn-stat: method=\"satisfy\"\n",
      "mzn-stat: flatTime=0.188373\n",
      "mzn-stat-end\n",
      "mzn-stat: initTime=0.012\n",
      "mzn-stat: solveTime=0.001\n",
      "mzn-stat: solutions=22\n",
      "mzn-stat: variables=86\n",
      "mzn-stat: propagators=77\n",
      "mzn-stat: propagations=2243\n",
      "mzn-stat: nodes=67\n",
      "mzn-stat: failures=12\n",
      "mzn-stat: restarts=0\n",
      "mzn-stat: peakDepth=7\n",
      "mzn-stat-end\n",
      "|| === Instance 11x11 === ||\n",
      "%%%mzn-stat: nSolutions=32\n",
      "Solver output:\n",
      "Generated FlatZinc statistics:\n",
      "mzn-stat: paths=0\n",
      "mzn-stat: flatBoolVars=84\n",
      "mzn-stat: flatIntVars=30\n",
      "mzn-stat: flatBoolConstraints=21\n",
      "mzn-stat: flatIntConstraints=102\n",
      "mzn-stat: evaluatedHalfReifiedConstraints=84\n",
      "mzn-stat: method=\"satisfy\"\n",
      "mzn-stat: flatTime=0.165013\n",
      "mzn-stat-end\n",
      "mzn-stat: initTime=0.012\n",
      "mzn-stat: solveTime=0.002\n",
      "mzn-stat: solutions=32\n",
      "mzn-stat: variables=114\n",
      "mzn-stat: propagators=107\n",
      "mzn-stat: propagations=6778\n",
      "mzn-stat: nodes=153\n",
      "mzn-stat: failures=45\n",
      "mzn-stat: restarts=0\n",
      "mzn-stat: peakDepth=12\n",
      "mzn-stat-end\n",
      "|| === Instance 12x12 === ||\n",
      "%%%mzn-stat: nSolutions=48\n",
      "Solver output:\n",
      "Generated FlatZinc statistics:\n",
      "mzn-stat: paths=0\n",
      "mzn-stat: flatBoolVars=112\n",
      "mzn-stat: flatIntVars=34\n",
      "mzn-stat: flatBoolConstraints=28\n",
      "mzn-stat: flatIntConstraints=132\n",
      "mzn-stat: evaluatedHalfReifiedConstraints=112\n",
      "mzn-stat: method=\"satisfy\"\n",
      "mzn-stat: flatTime=0.164311\n",
      "mzn-stat-end\n",
      "mzn-stat: initTime=0.013\n",
      "mzn-stat: solveTime=0.004\n",
      "mzn-stat: solutions=48\n",
      "mzn-stat: variables=146\n",
      "mzn-stat: propagators=139\n",
      "mzn-stat: propagations=15824\n",
      "mzn-stat: nodes=345\n",
      "mzn-stat: failures=125\n",
      "mzn-stat: restarts=0\n",
      "mzn-stat: peakDepth=10\n",
      "mzn-stat-end\n",
      "|| === Instance 13x13 === ||\n",
      "%%%mzn-stat: nSolutions=532\n",
      "Solver output:\n",
      "Generated FlatZinc statistics:\n",
      "mzn-stat: paths=0\n",
      "mzn-stat: flatBoolVars=144\n",
      "mzn-stat: flatIntVars=38\n",
      "mzn-stat: flatBoolConstraints=36\n",
      "mzn-stat: flatIntConstraints=166\n",
      "mzn-stat: evaluatedHalfReifiedConstraints=144\n",
      "mzn-stat: method=\"satisfy\"\n",
      "mzn-stat: flatTime=0.175194\n",
      "mzn-stat-end\n",
      "mzn-stat: initTime=0.014\n",
      "mzn-stat: solveTime=0.044\n",
      "mzn-stat: solutions=532\n",
      "mzn-stat: variables=182\n",
      "mzn-stat: propagators=189\n",
      "mzn-stat: propagations=181084\n",
      "mzn-stat: nodes=3401\n",
      "mzn-stat: failures=1169\n",
      "mzn-stat: restarts=0\n",
      "mzn-stat: peakDepth=19\n",
      "mzn-stat-end\n",
      "|| === Instance 14x14 === ||\n",
      "%%%mzn-stat: nSolutions=336\n",
      "Solver output:\n",
      "Generated FlatZinc statistics:\n",
      "mzn-stat: paths=0\n",
      "mzn-stat: flatBoolVars=144\n",
      "mzn-stat: flatIntVars=38\n",
      "mzn-stat: flatBoolConstraints=36\n",
      "mzn-stat: flatIntConstraints=166\n",
      "mzn-stat: evaluatedHalfReifiedConstraints=144\n",
      "mzn-stat: method=\"satisfy\"\n",
      "mzn-stat: flatTime=0.182288\n",
      "mzn-stat-end\n",
      "mzn-stat: initTime=0.013\n",
      "mzn-stat: solveTime=0.022\n",
      "mzn-stat: solutions=336\n",
      "mzn-stat: variables=182\n",
      "mzn-stat: propagators=180\n",
      "mzn-stat: propagations=57120\n",
      "mzn-stat: nodes=1281\n",
      "mzn-stat: failures=305\n",
      "mzn-stat: restarts=0\n",
      "mzn-stat: peakDepth=19\n",
      "mzn-stat-end\n",
      "|| === Instance 15x15 === ||\n",
      "%%%mzn-stat: nSolutions=6272\n",
      "Solver output:\n",
      "Generated FlatZinc statistics:\n",
      "mzn-stat: paths=0\n",
      "mzn-stat: flatBoolVars=180\n",
      "mzn-stat: flatIntVars=40\n",
      "mzn-stat: flatBoolConstraints=45\n",
      "mzn-stat: flatIntConstraints=203\n",
      "mzn-stat: evaluatedHalfReifiedConstraints=180\n",
      "mzn-stat: method=\"satisfy\"\n",
      "mzn-stat: flatTime=0.175473\n",
      "mzn-stat-end\n",
      "mzn-stat: initTime=0.013\n",
      "mzn-stat: solveTime=0.467\n",
      "mzn-stat: solutions=6272\n",
      "mzn-stat: variables=224\n",
      "mzn-stat: propagators=214\n",
      "mzn-stat: propagations=887595\n",
      "mzn-stat: nodes=22589\n",
      "mzn-stat: failures=5023\n",
      "mzn-stat: restarts=0\n",
      "mzn-stat: peakDepth=26\n",
      "mzn-stat-end\n",
      "|| === Instance 16x16 === ||\n",
      "%%%mzn-stat: nSolutions=576\n",
      "Solver output:\n",
      "Generated FlatZinc statistics:\n",
      "mzn-stat: paths=0\n",
      "mzn-stat: flatBoolVars=180\n",
      "mzn-stat: flatIntVars=42\n",
      "mzn-stat: flatBoolConstraints=45\n",
      "mzn-stat: flatIntConstraints=204\n",
      "mzn-stat: evaluatedHalfReifiedConstraints=180\n",
      "mzn-stat: method=\"satisfy\"\n",
      "mzn-stat: flatTime=0.17399\n",
      "mzn-stat-end\n",
      "mzn-stat: initTime=0.013\n",
      "mzn-stat: solveTime=0.041\n",
      "mzn-stat: solutions=576\n",
      "mzn-stat: variables=222\n",
      "mzn-stat: propagators=220\n",
      "mzn-stat: propagations=113281\n",
      "mzn-stat: nodes=2347\n",
      "mzn-stat: failures=598\n",
      "mzn-stat: restarts=0\n",
      "mzn-stat: peakDepth=19\n",
      "mzn-stat-end\n",
      "|| === Instance 17x17 === ||\n",
      "%%%mzn-stat: nSolutions=24464\n",
      "Solver output:\n",
      "Generated FlatZinc statistics:\n",
      "mzn-stat: paths=0\n",
      "mzn-stat: flatBoolVars=264\n",
      "mzn-stat: flatIntVars=50\n",
      "mzn-stat: flatBoolConstraints=66\n",
      "mzn-stat: flatIntConstraints=292\n",
      "mzn-stat: evaluatedHalfReifiedConstraints=264\n",
      "mzn-stat: method=\"satisfy\"\n",
      "mzn-stat: flatTime=0.183878\n",
      "mzn-stat-end\n",
      "mzn-stat: initTime=0.016\n",
      "mzn-stat: solveTime=3.297\n",
      "mzn-stat: solutions=24464\n",
      "mzn-stat: variables=314\n",
      "mzn-stat: propagators=335\n",
      "mzn-stat: propagations=8171608\n",
      "mzn-stat: nodes=160935\n",
      "mzn-stat: failures=56004\n",
      "mzn-stat: restarts=0\n",
      "mzn-stat: peakDepth=37\n",
      "mzn-stat-end\n",
      "|| === Instance 18x18 === ||\n",
      "%%%mzn-stat: nSolutions=385296\n",
      "Solver output:\n",
      "Generated FlatZinc statistics:\n",
      "mzn-stat: paths=0\n",
      "mzn-stat: flatBoolVars=480\n",
      "mzn-stat: flatIntVars=66\n",
      "mzn-stat: flatBoolConstraints=120\n",
      "mzn-stat: flatIntConstraints=516\n",
      "mzn-stat: evaluatedHalfReifiedConstraints=480\n",
      "mzn-stat: method=\"satisfy\"\n",
      "mzn-stat: flatTime=0.238144\n",
      "mzn-stat-end\n",
      "mzn-stat: initTime=0.028\n",
      "mzn-stat: solveTime=299.763\n",
      "mzn-stat: solutions=385296\n",
      "mzn-stat: variables=546\n",
      "mzn-stat: propagators=622\n",
      "mzn-stat: propagations=826475279\n",
      "mzn-stat: nodes=11218387\n",
      "mzn-stat: failures=5223893\n",
      "mzn-stat: restarts=0\n",
      "mzn-stat: peakDepth=55\n",
      "mzn-stat-end\n",
      "|| === Instance 19x19 === ||\n",
      "%%%mzn-stat: nSolutions=1383360\n",
      "Solver output:\n",
      "Generated FlatZinc statistics:\n",
      "mzn-stat: paths=0\n",
      "mzn-stat: flatBoolVars=364\n",
      "mzn-stat: flatIntVars=56\n",
      "mzn-stat: flatBoolConstraints=91\n",
      "mzn-stat: flatIntConstraints=395\n",
      "mzn-stat: evaluatedHalfReifiedConstraints=364\n",
      "mzn-stat: method=\"satisfy\"\n",
      "mzn-stat: flatTime=0.233533\n",
      "mzn-stat-end\n",
      "mzn-stat: initTime=0.026\n",
      "mzn-stat: solveTime=249.077\n",
      "mzn-stat: solutions=1383360\n",
      "mzn-stat: variables=424\n",
      "mzn-stat: propagators=444\n",
      "mzn-stat: propagations=552528167\n",
      "mzn-stat: nodes=9989151\n",
      "mzn-stat: failures=3611216\n",
      "mzn-stat: restarts=0\n",
      "mzn-stat: peakDepth=54\n",
      "mzn-stat-end\n",
      "|| === Instance 20x20 === ||\n",
      "%%%mzn-stat: nSolutions=141696\n",
      "Solver output:\n",
      "Generated FlatZinc statistics:\n",
      "mzn-stat: paths=0\n",
      "mzn-stat: flatBoolVars=364\n",
      "mzn-stat: flatIntVars=58\n",
      "mzn-stat: flatBoolConstraints=91\n",
      "mzn-stat: flatIntConstraints=396\n",
      "mzn-stat: evaluatedHalfReifiedConstraints=364\n",
      "mzn-stat: method=\"satisfy\"\n",
      "mzn-stat: flatTime=0.245224\n",
      "mzn-stat-end\n",
      "mzn-stat: initTime=0.033\n",
      "mzn-stat: solveTime=25.705\n",
      "mzn-stat: solutions=141696\n",
      "mzn-stat: variables=422\n",
      "mzn-stat: propagators=437\n",
      "mzn-stat: propagations=66750314\n",
      "mzn-stat: nodes=1122029\n",
      "mzn-stat: failures=419319\n",
      "mzn-stat: restarts=0\n",
      "mzn-stat: peakDepth=44\n",
      "mzn-stat-end\n",
      "|| === Instance 21x21 === ||\n",
      "%%%mzn-stat: nSolutions=478656\n",
      "Solver output:\n",
      "Generated FlatZinc statistics:\n",
      "mzn-stat: paths=0\n",
      "mzn-stat: flatBoolVars=420\n",
      "mzn-stat: flatIntVars=62\n",
      "mzn-stat: flatBoolConstraints=105\n",
      "mzn-stat: flatIntConstraints=454\n",
      "mzn-stat: evaluatedHalfReifiedConstraints=420\n",
      "mzn-stat: method=\"satisfy\"\n",
      "mzn-stat: flatTime=0.233898\n",
      "mzn-stat-end\n",
      "mzn-stat: initTime=0.026\n",
      "mzn-stat: solveTime=121.409\n",
      "mzn-stat: solutions=478656\n",
      "mzn-stat: variables=482\n",
      "mzn-stat: propagators=507\n",
      "mzn-stat: propagations=327929666\n",
      "mzn-stat: nodes=4207891\n",
      "mzn-stat: failures=1625289\n",
      "mzn-stat: restarts=0\n",
      "mzn-stat: peakDepth=52\n",
      "mzn-stat-end\n"
     ]
    }
   ],
   "source": [
    "\"\"\"\n",
    "Run this part 2(ord_type=ord|decr-ord) times for each search_ann possible(I-min, ff-min, DomWdeg-min, I-rand, ff-rand, DomWdeg-rand).\n",
    "\"\"\"\n",
    "ord_type = 'ord'#-1°   'decr-ord'-2°\n",
    "for i in instances_name:\n",
    "    path = f\"CP/Instances/{i}.txt\"\n",
    "    pr_w, pr_h, n_pieces, L = read_instance(path)\n",
    "    if ord_type in ['ord','decr-ord']:\n",
    "        unordered_pieces = list(L)\n",
    "        decr_order = True if ord_type == 'decr-ord' else False\n",
    "        L = order_pieces(L, reverse=decr_order)\n",
    "    \n",
    "    print(f\"|| === Instance {i} === ||\")\n",
    "    solutions = %minizinc -a -s CP/$model_name -t 300000\n",
    "    #print_solutions(solutions, {'w': pr_w, 'h': pr_h, 'n': n_pieces, 'p': L})"
   ]
  },
  {
   "cell_type": "markdown",
   "metadata": {},
   "source": [
    "<b> TEST 3 </b> (see report) <br>\n",
    "Open the mzn model(pwp_v8.mzn), set 'bool: independent_solving_on_w <b>= independent_solving_on_w_possible()</b>;'(line 22) <br>\n",
    "Uncomment the line corresponding the best search_ann strategy(line 79) inside the model(pwp_v8.mzn)"
   ]
  },
  {
   "cell_type": "code",
   "execution_count": 24,
   "metadata": {},
   "outputs": [
    {
     "name": "stdout",
     "output_type": "stream",
     "text": [
      "|| === Instance 8x8 === ||\n",
      "%%%mzn-stat: nSolutions=1\n",
      "Solver output:\n",
      "Generated FlatZinc statistics:\n",
      "mzn-stat: paths=0\n",
      "mzn-stat: flatBoolVars=4\n",
      "mzn-stat: flatIntVars=13\n",
      "mzn-stat: flatBoolConstraints=2\n",
      "mzn-stat: flatIntConstraints=12\n",
      "mzn-stat: evaluatedHalfReifiedConstraints=4\n",
      "mzn-stat: method=\"satisfy\"\n",
      "mzn-stat: flatTime=0.161429\n",
      "mzn-stat-end\n",
      "mzn-stat: initTime=0.011\n",
      "mzn-stat: solveTime=0\n",
      "mzn-stat: solutions=1\n",
      "mzn-stat: variables=34\n",
      "mzn-stat: propagators=12\n",
      "mzn-stat: propagations=34\n",
      "mzn-stat: nodes=3\n",
      "mzn-stat: failures=0\n",
      "mzn-stat: restarts=0\n",
      "mzn-stat: peakDepth=2\n",
      "mzn-stat-end\n"
     ]
    },
    {
     "data": {
      "image/png": "[encoded data removed]",
      "text/plain": [
       "<Figure size 432x288 with 1 Axes>"
      ]
     },
     "metadata": {
      "needs_background": "light"
     },
     "output_type": "display_data"
    },
    {
     "name": "stdout",
     "output_type": "stream",
     "text": [
      "Solution: [[5, 0], [5, 3], [0, 0], [0, 3]]\n",
      "[w, h]:   [[3, 3], [3, 5], [5, 3], [5, 5]]\n",
      "\n",
      "Pieces: [[3, 3], [3, 5], [5, 3], [5, 5]]\n",
      "\n",
      "\n",
      "\n",
      "|| === Instance 9x9 === ||\n",
      "%%%mzn-stat: nSolutions=1\n",
      "Solver output:\n",
      "Generated FlatZinc statistics:\n",
      "mzn-stat: paths=0\n",
      "mzn-stat: flatBoolVars=40\n",
      "mzn-stat: flatIntVars=20\n",
      "mzn-stat: flatBoolConstraints=10\n",
      "mzn-stat: flatIntConstraints=53\n",
      "mzn-stat: evaluatedHalfReifiedConstraints=40\n",
      "mzn-stat: method=\"satisfy\"\n",
      "mzn-stat: flatTime=0.172001\n",
      "mzn-stat-end\n",
      "mzn-stat: initTime=0.013\n",
      "mzn-stat: solveTime=0\n",
      "mzn-stat: solutions=1\n",
      "mzn-stat: variables=64\n",
      "mzn-stat: propagators=51\n",
      "mzn-stat: propagations=138\n",
      "mzn-stat: nodes=5\n",
      "mzn-stat: failures=0\n",
      "mzn-stat: restarts=0\n",
      "mzn-stat: peakDepth=4\n",
      "mzn-stat-end\n"
     ]
    },
    {
     "data": {
      "image/png": "[encoded data removed]",
      "text/plain": [
       "<Figure size 432x288 with 1 Axes>"
      ]
     },
     "metadata": {
      "needs_background": "light"
     },
     "output_type": "display_data"
    },
    {
     "name": "stdout",
     "output_type": "stream",
     "text": [
      "Solution: [[0, 0], [6, 5], [6, 0], [0, 3], [3, 0]]\n",
      "[w, h]:   [[3, 3], [3, 4], [3, 5], [3, 6], [3, 9]]\n",
      "\n",
      "Pieces: [[3, 3], [3, 4], [3, 5], [3, 6], [3, 9]]\n",
      "\n",
      "\n",
      "\n",
      "|| === Instance 10x10 === ||\n",
      "%%%mzn-stat: nSolutions=1\n",
      "Solver output:\n",
      "Generated FlatZinc statistics:\n",
      "mzn-stat: paths=0\n",
      "mzn-stat: flatBoolVars=58\n",
      "mzn-stat: flatIntVars=23\n",
      "mzn-stat: flatBoolConstraints=15\n",
      "mzn-stat: flatIntConstraints=72\n",
      "mzn-stat: evaluatedHalfReifiedConstraints=58\n",
      "mzn-stat: method=\"satisfy\"\n",
      "mzn-stat: flatTime=0.160519\n",
      "mzn-stat-end\n",
      "mzn-stat: initTime=0.013\n",
      "mzn-stat: solveTime=0\n",
      "mzn-stat: solutions=1\n",
      "mzn-stat: variables=90\n",
      "mzn-stat: propagators=58\n",
      "mzn-stat: propagations=217\n",
      "mzn-stat: nodes=9\n",
      "mzn-stat: failures=2\n",
      "mzn-stat: restarts=0\n",
      "mzn-stat: peakDepth=5\n",
      "mzn-stat-end\n"
     ]
    },
    {
     "data": {
      "image/png": "[encoded data removed]",
      "text/plain": [
       "<Figure size 432x288 with 1 Axes>"
      ]
     },
     "metadata": {
      "needs_background": "light"
     },
     "output_type": "display_data"
    },
    {
     "name": "stdout",
     "output_type": "stream",
     "text": [
      "Solution: [[4, 0], [7, 0], [7, 4], [4, 3], [0, 0], [0, 4]]\n",
      "[w, h]:   [[3, 3], [3, 4], [3, 6], [3, 7], [4, 4], [4, 6]]\n",
      "\n",
      "Pieces: [[3, 3], [3, 4], [3, 6], [3, 7], [4, 4], [4, 6]]\n",
      "\n",
      "\n",
      "\n",
      "|| === Instance 11x11 === ||\n",
      "%%%mzn-stat: nSolutions=1\n",
      "Solver output:\n",
      "Generated FlatZinc statistics:\n",
      "mzn-stat: paths=0\n",
      "mzn-stat: flatBoolVars=84\n",
      "mzn-stat: flatIntVars=30\n",
      "mzn-stat: flatBoolConstraints=21\n",
      "mzn-stat: flatIntConstraints=102\n",
      "mzn-stat: evaluatedHalfReifiedConstraints=84\n",
      "mzn-stat: method=\"satisfy\"\n",
      "mzn-stat: flatTime=0.161008\n",
      "mzn-stat-end\n",
      "mzn-stat: initTime=0.014\n",
      "mzn-stat: solveTime=0.001\n",
      "mzn-stat: solutions=1\n",
      "mzn-stat: variables=114\n",
      "mzn-stat: propagators=107\n",
      "mzn-stat: propagations=2261\n",
      "mzn-stat: nodes=44\n",
      "mzn-stat: failures=17\n",
      "mzn-stat: restarts=0\n",
      "mzn-stat: peakDepth=12\n",
      "mzn-stat-end\n"
     ]
    },
    {
     "data": {
      "image/png": "[encoded data removed]",
      "text/plain": [
       "<Figure size 432x288 with 1 Axes>"
      ]
     },
     "metadata": {
      "needs_background": "light"
     },
     "output_type": "display_data"
    },
    {
     "name": "stdout",
     "output_type": "stream",
     "text": [
      "Solution: [[5, 8], [0, 4], [8, 0], [8, 5], [0, 8], [3, 4], [0, 0]]\n",
      "[w, h]:   [[3, 3], [3, 4], [3, 5], [3, 6], [5, 3], [5, 4], [8, 4]]\n",
      "\n",
      "Pieces: [[3, 3], [3, 4], [3, 5], [3, 6], [5, 3], [5, 4], [8, 4]]\n",
      "\n",
      "\n",
      "\n",
      "|| === Instance 12x12 === ||\n",
      "%%%mzn-stat: nSolutions=1\n",
      "Solver output:\n",
      "Generated FlatZinc statistics:\n",
      "mzn-stat: paths=0\n",
      "mzn-stat: flatBoolVars=112\n",
      "mzn-stat: flatIntVars=34\n",
      "mzn-stat: flatBoolConstraints=28\n",
      "mzn-stat: flatIntConstraints=132\n",
      "mzn-stat: evaluatedHalfReifiedConstraints=112\n",
      "mzn-stat: method=\"satisfy\"\n",
      "mzn-stat: flatTime=0.174809\n",
      "mzn-stat-end\n",
      "mzn-stat: initTime=0.016\n",
      "mzn-stat: solveTime=0.001\n",
      "mzn-stat: solutions=1\n",
      "mzn-stat: variables=146\n",
      "mzn-stat: propagators=139\n",
      "mzn-stat: propagations=2778\n",
      "mzn-stat: nodes=56\n",
      "mzn-stat: failures=24\n",
      "mzn-stat: restarts=0\n",
      "mzn-stat: peakDepth=10\n",
      "mzn-stat-end\n"
     ]
    },
    {
     "data": {
      "image/png": "[encoded data removed]",
      "text/plain": [
       "<Figure size 432x288 with 1 Axes>"
      ]
     },
     "metadata": {
      "needs_background": "light"
     },
     "output_type": "display_data"
    },
    {
     "name": "stdout",
     "output_type": "stream",
     "text": [
      "Solution: [[3, 6], [9, 0], [6, 7], [3, 0], [6, 0], [9, 4], [0, 0], [0, 9]]\n",
      "[w, h]:   [[3, 3], [3, 4], [3, 5], [3, 6], [3, 7], [3, 8], [3, 9], [6, 3]]\n",
      "\n",
      "Pieces: [[3, 3], [3, 4], [3, 5], [3, 6], [3, 7], [3, 8], [3, 9], [6, 3]]\n",
      "\n",
      "\n",
      "\n",
      "|| === Instance 13x13 === ||\n",
      "%%%mzn-stat: nSolutions=1\n",
      "Solver output:\n",
      "Generated FlatZinc statistics:\n",
      "mzn-stat: paths=0\n",
      "mzn-stat: flatBoolVars=144\n",
      "mzn-stat: flatIntVars=38\n",
      "mzn-stat: flatBoolConstraints=36\n",
      "mzn-stat: flatIntConstraints=166\n",
      "mzn-stat: evaluatedHalfReifiedConstraints=144\n",
      "mzn-stat: method=\"satisfy\"\n",
      "mzn-stat: flatTime=0.173278\n",
      "mzn-stat-end\n",
      "mzn-stat: initTime=0.015\n",
      "mzn-stat: solveTime=0.002\n",
      "mzn-stat: solutions=1\n",
      "mzn-stat: variables=182\n",
      "mzn-stat: propagators=189\n",
      "mzn-stat: propagations=15110\n",
      "mzn-stat: nodes=240\n",
      "mzn-stat: failures=114\n",
      "mzn-stat: restarts=0\n",
      "mzn-stat: peakDepth=14\n",
      "mzn-stat-end\n"
     ]
    },
    {
     "data": {
      "image/png": "[encoded data removed]",
      "text/plain": [
       "<Figure size 432x288 with 1 Axes>"
      ]
     },
     "metadata": {
      "needs_background": "light"
     },
     "output_type": "display_data"
    },
    {
     "name": "stdout",
     "output_type": "stream",
     "text": [
      "Solution: [[0, 6], [4, 9], [10, 0], [0, 0], [7, 6], [10, 5], [3, 6], [0, 9], [3, 0]]\n",
      "[w, h]:   [[3, 3], [3, 4], [3, 5], [3, 6], [3, 7], [3, 8], [4, 3], [4, 4], [7, 6]]\n",
      "\n",
      "Pieces: [[3, 3], [3, 4], [3, 5], [3, 6], [3, 7], [3, 8], [4, 3], [4, 4], [7, 6]]\n",
      "\n",
      "\n",
      "\n",
      "|| === Instance 14x14 === ||\n",
      "%%%mzn-stat: nSolutions=1\n",
      "Solver output:\n",
      "Generated FlatZinc statistics:\n",
      "mzn-stat: paths=0\n",
      "mzn-stat: flatBoolVars=142\n",
      "mzn-stat: flatIntVars=35\n",
      "mzn-stat: flatBoolConstraints=36\n",
      "mzn-stat: flatIntConstraints=162\n",
      "mzn-stat: evaluatedHalfReifiedConstraints=142\n",
      "mzn-stat: method=\"satisfy\"\n",
      "mzn-stat: flatTime=0.166735\n",
      "mzn-stat-end\n",
      "mzn-stat: initTime=0.014\n",
      "mzn-stat: solveTime=0\n",
      "mzn-stat: solutions=1\n",
      "mzn-stat: variables=186\n",
      "mzn-stat: propagators=147\n",
      "mzn-stat: propagations=965\n",
      "mzn-stat: nodes=24\n",
      "mzn-stat: failures=8\n",
      "mzn-stat: restarts=0\n",
      "mzn-stat: peakDepth=7\n",
      "mzn-stat-end\n"
     ]
    },
    {
     "data": {
      "image/png": "[encoded data removed]",
      "text/plain": [
       "<Figure size 432x288 with 1 Axes>"
      ]
     },
     "metadata": {
      "needs_background": "light"
     },
     "output_type": "display_data"
    },
    {
     "name": "stdout",
     "output_type": "stream",
     "text": [
      "Solution: [[11, 11], [11, 7], [8, 9], [5, 8], [11, 0], [5, 0], [8, 0], [0, 0], [0, 4]]\n",
      "[w, h]:   [[3, 3], [3, 4], [3, 5], [3, 6], [3, 7], [3, 8], [3, 9], [5, 4], [5, 10]]\n",
      "\n",
      "Pieces: [[3, 3], [3, 4], [3, 5], [3, 6], [3, 7], [3, 8], [3, 9], [5, 4], [5, 10]]\n",
      "\n",
      "\n",
      "\n",
      "|| === Instance 15x15 === ||\n",
      "%%%mzn-stat: nSolutions=1\n",
      "Solver output:\n",
      "Generated FlatZinc statistics:\n",
      "mzn-stat: paths=0\n",
      "mzn-stat: flatBoolVars=180\n",
      "mzn-stat: flatIntVars=40\n",
      "mzn-stat: flatBoolConstraints=45\n",
      "mzn-stat: flatIntConstraints=203\n",
      "mzn-stat: evaluatedHalfReifiedConstraints=180\n",
      "mzn-stat: method=\"satisfy\"\n",
      "mzn-stat: flatTime=0.170451\n",
      "mzn-stat-end\n",
      "mzn-stat: initTime=0.015\n",
      "mzn-stat: solveTime=0.001\n",
      "mzn-stat: solutions=1\n",
      "mzn-stat: variables=224\n",
      "mzn-stat: propagators=214\n",
      "mzn-stat: propagations=1705\n",
      "mzn-stat: nodes=19\n",
      "mzn-stat: failures=4\n",
      "mzn-stat: restarts=0\n",
      "mzn-stat: peakDepth=14\n",
      "mzn-stat-end\n"
     ]
    },
    {
     "data": {
      "image/png": "[encoded data removed]",
      "text/plain": [
       "<Figure size 432x288 with 1 Axes>"
      ]
     },
     "metadata": {
      "needs_background": "light"
     },
     "output_type": "display_data"
    },
    {
     "name": "stdout",
     "output_type": "stream",
     "text": [
      "Solution: [[12, 12], [9, 8], [6, 7], [0, 0], [6, 0], [9, 0], [0, 6], [12, 0], [3, 0], [6, 12]]\n",
      "[w, h]:   [[3, 3], [3, 4], [3, 5], [3, 6], [3, 7], [3, 8], [3, 9], [3, 12], [3, 15], [6, 3]]\n",
      "\n",
      "Pieces: [[3, 3], [3, 4], [3, 5], [3, 6], [3, 7], [3, 8], [3, 9], [3, 12], [3, 15], [6, 3]]\n",
      "\n",
      "\n",
      "\n",
      "|| === Instance 16x16 === ||\n",
      "%%%mzn-stat: nSolutions=1\n",
      "Solver output:\n",
      "Generated FlatZinc statistics:\n",
      "mzn-stat: paths=0\n",
      "mzn-stat: flatBoolVars=180\n",
      "mzn-stat: flatIntVars=42\n",
      "mzn-stat: flatBoolConstraints=45\n",
      "mzn-stat: flatIntConstraints=204\n",
      "mzn-stat: evaluatedHalfReifiedConstraints=180\n",
      "mzn-stat: method=\"satisfy\"\n",
      "mzn-stat: flatTime=0.165248\n",
      "mzn-stat-end\n",
      "mzn-stat: initTime=0.015\n",
      "mzn-stat: solveTime=0.001\n",
      "mzn-stat: solutions=1\n",
      "mzn-stat: variables=222\n",
      "mzn-stat: propagators=220\n",
      "mzn-stat: propagations=3974\n",
      "mzn-stat: nodes=52\n",
      "mzn-stat: failures=21\n",
      "mzn-stat: restarts=0\n",
      "mzn-stat: peakDepth=14\n",
      "mzn-stat-end\n"
     ]
    },
    {
     "data": {
      "image/png": "[encoded data removed]",
      "text/plain": [
       "<Figure size 432x288 with 1 Axes>"
      ]
     },
     "metadata": {
      "needs_background": "light"
     },
     "output_type": "display_data"
    },
    {
     "name": "stdout",
     "output_type": "stream",
     "text": [
      "Solution: [[7, 13], [10, 12], [7, 8], [13, 0], [0, 9], [7, 0], [13, 6], [10, 0], [3, 9], [0, 0]]\n",
      "[w, h]:   [[3, 3], [3, 4], [3, 5], [3, 6], [3, 7], [3, 8], [3, 10], [3, 12], [4, 7], [7, 9]]\n",
      "\n",
      "Pieces: [[3, 3], [3, 4], [3, 5], [3, 6], [3, 7], [3, 8], [3, 10], [3, 12], [4, 7], [7, 9]]\n",
      "\n",
      "\n",
      "\n",
      "|| === Instance 17x17 === ||\n",
      "%%%mzn-stat: nSolutions=1\n",
      "Solver output:\n",
      "Generated FlatZinc statistics:\n",
      "mzn-stat: paths=0\n",
      "mzn-stat: flatBoolVars=264\n",
      "mzn-stat: flatIntVars=50\n",
      "mzn-stat: flatBoolConstraints=66\n",
      "mzn-stat: flatIntConstraints=292\n",
      "mzn-stat: evaluatedHalfReifiedConstraints=264\n",
      "mzn-stat: method=\"satisfy\"\n",
      "mzn-stat: flatTime=0.167489\n",
      "mzn-stat-end\n",
      "mzn-stat: initTime=0.016\n",
      "mzn-stat: solveTime=0.001\n",
      "mzn-stat: solutions=1\n",
      "mzn-stat: variables=314\n",
      "mzn-stat: propagators=335\n",
      "mzn-stat: propagations=3128\n",
      "mzn-stat: nodes=46\n",
      "mzn-stat: failures=15\n",
      "mzn-stat: restarts=0\n",
      "mzn-stat: peakDepth=19\n",
      "mzn-stat-end\n"
     ]
    },
    {
     "data": {
      "image/png": "[encoded data removed]",
      "text/plain": [
       "<Figure size 432x288 with 1 Axes>"
      ]
     },
     "metadata": {
      "needs_background": "light"
     },
     "output_type": "display_data"
    },
    {
     "name": "stdout",
     "output_type": "stream",
     "text": [
      "Solution: [[14, 8], [7, 0], [0, 9], [14, 11], [7, 4], [10, 0], [0, 0], [10, 8], [13, 0], [3, 0], [0, 14], [7, 11]]\n",
      "[w, h]:   [[3, 3], [3, 4], [3, 5], [3, 6], [3, 7], [3, 8], [3, 9], [4, 3], [4, 8], [4, 14], [7, 3], [7, 6]]\n",
      "\n",
      "Pieces: [[3, 3], [3, 4], [3, 5], [3, 6], [3, 7], [3, 8], [3, 9], [4, 3], [4, 8], [4, 14], [7, 3], [7, 6]]\n",
      "\n",
      "\n",
      "\n",
      "|| === Instance 18x18 === ||\n",
      "%%%mzn-stat: nSolutions=1\n",
      "Solver output:\n",
      "Generated FlatZinc statistics:\n",
      "mzn-stat: paths=0\n",
      "mzn-stat: flatBoolVars=392\n",
      "mzn-stat: flatIntVars=57\n",
      "mzn-stat: flatBoolConstraints=104\n",
      "mzn-stat: flatIntConstraints=420\n",
      "mzn-stat: evaluatedHalfReifiedConstraints=392\n",
      "mzn-stat: method=\"satisfy\"\n",
      "mzn-stat: flatTime=0.178349\n",
      "mzn-stat-end\n",
      "mzn-stat: initTime=0.019\n",
      "mzn-stat: solveTime=0.001\n",
      "mzn-stat: solutions=1\n",
      "mzn-stat: variables=482\n",
      "mzn-stat: propagators=392\n",
      "mzn-stat: propagations=1790\n",
      "mzn-stat: nodes=29\n",
      "mzn-stat: failures=5\n",
      "mzn-stat: restarts=0\n",
      "mzn-stat: peakDepth=19\n",
      "mzn-stat-end\n"
     ]
    },
    {
     "data": {
      "image/png": "[encoded data removed]",
      "text/plain": [
       "<Figure size 432x288 with 1 Axes>"
      ]
     },
     "metadata": {
      "needs_background": "light"
     },
     "output_type": "display_data"
    },
    {
     "name": "stdout",
     "output_type": "stream",
     "text": [
      "Solution: [[9, 15], [15, 14], [9, 10], [15, 8], [12, 11], [15, 0], [9, 0], [12, 0], [5, 15], [5, 6], [5, 10], [5, 0], [0, 15], [0, 6], [0, 10], [0, 0]]\n",
      "[w, h]:   [[3, 3], [3, 4], [3, 5], [3, 6], [3, 7], [3, 8], [3, 10], [3, 11], [4, 3], [4, 4], [4, 5], [4, 6], [5, 3], [5, 4], [5, 5], [5, 6]]\n",
      "\n",
      "Pieces: [[3, 3], [3, 4], [3, 5], [3, 6], [3, 7], [3, 8], [3, 10], [3, 11], [4, 3], [4, 4], [4, 5], [4, 6], [5, 3], [5, 4], [5, 5], [5, 6]]\n",
      "\n",
      "\n",
      "\n",
      "|| === Instance 19x19 === ||\n",
      "%%%mzn-stat: nSolutions=1\n",
      "Solver output:\n",
      "Generated FlatZinc statistics:\n",
      "mzn-stat: paths=0\n",
      "mzn-stat: flatBoolVars=358\n",
      "mzn-stat: flatIntVars=52\n",
      "mzn-stat: flatBoolConstraints=91\n",
      "mzn-stat: flatIntConstraints=386\n",
      "mzn-stat: evaluatedHalfReifiedConstraints=358\n",
      "mzn-stat: method=\"satisfy\"\n",
      "mzn-stat: flatTime=0.178842\n",
      "mzn-stat-end\n",
      "mzn-stat: initTime=0.018\n",
      "mzn-stat: solveTime=0.001\n",
      "mzn-stat: solutions=1\n",
      "mzn-stat: variables=427\n",
      "mzn-stat: propagators=365\n",
      "mzn-stat: propagations=2943\n",
      "mzn-stat: nodes=40\n",
      "mzn-stat: failures=12\n",
      "mzn-stat: restarts=0\n",
      "mzn-stat: peakDepth=26\n",
      "mzn-stat-end\n"
     ]
    },
    {
     "data": {
      "image/png": "[encoded data removed]",
      "text/plain": [
       "<Figure size 432x288 with 1 Axes>"
      ]
     },
     "metadata": {
      "needs_background": "light"
     },
     "output_type": "display_data"
    },
    {
     "name": "stdout",
     "output_type": "stream",
     "text": [
      "Solution: [[4, 16], [7, 15], [4, 11], [16, 13], [7, 8], [7, 0], [13, 10], [13, 0], [4, 0], [16, 0], [10, 0], [0, 14], [0, 8], [0, 0]]\n",
      "[w, h]:   [[3, 3], [3, 4], [3, 5], [3, 6], [3, 7], [3, 8], [3, 9], [3, 10], [3, 11], [3, 13], [3, 19], [4, 5], [4, 6], [4, 8]]\n",
      "\n",
      "Pieces: [[3, 3], [3, 4], [3, 5], [3, 6], [3, 7], [3, 8], [3, 9], [3, 10], [3, 11], [3, 13], [3, 19], [4, 5], [4, 6], [4, 8]]\n",
      "\n",
      "\n",
      "\n",
      "|| === Instance 20x20 === ||\n",
      "%%%mzn-stat: nSolutions=1\n",
      "Solver output:\n",
      "Generated FlatZinc statistics:\n",
      "mzn-stat: paths=0\n",
      "mzn-stat: flatBoolVars=364\n",
      "mzn-stat: flatIntVars=58\n",
      "mzn-stat: flatBoolConstraints=91\n",
      "mzn-stat: flatIntConstraints=396\n",
      "mzn-stat: evaluatedHalfReifiedConstraints=364\n",
      "mzn-stat: method=\"satisfy\"\n",
      "mzn-stat: flatTime=0.174053\n",
      "mzn-stat-end\n",
      "mzn-stat: initTime=0.02\n",
      "mzn-stat: solveTime=0.009\n",
      "mzn-stat: solutions=1\n",
      "mzn-stat: variables=422\n",
      "mzn-stat: propagators=346\n",
      "mzn-stat: propagations=46943\n",
      "mzn-stat: nodes=769\n",
      "mzn-stat: failures=376\n",
      "mzn-stat: restarts=0\n",
      "mzn-stat: peakDepth=21\n",
      "mzn-stat-end\n"
     ]
    },
    {
     "data": {
      "image/png": "[encoded data removed]",
      "text/plain": [
       "<Figure size 432x288 with 1 Axes>"
      ]
     },
     "metadata": {
      "needs_background": "light"
     },
     "output_type": "display_data"
    },
    {
     "name": "stdout",
     "output_type": "stream",
     "text": [
      "Solution: [[14, 17], [17, 16], [8, 8], [17, 10], [8, 13], [8, 0], [11, 11], [17, 0], [11, 0], [14, 0], [4, 17], [0, 11], [0, 0], [4, 0]]\n",
      "[w, h]:   [[3, 3], [3, 4], [3, 5], [3, 6], [3, 7], [3, 8], [3, 9], [3, 10], [3, 11], [3, 17], [4, 3], [4, 9], [4, 11], [4, 17]]\n",
      "\n",
      "Pieces: [[3, 3], [3, 4], [3, 5], [3, 6], [3, 7], [3, 8], [3, 9], [3, 10], [3, 11], [3, 17], [4, 3], [4, 9], [4, 11], [4, 17]]\n",
      "\n",
      "\n",
      "\n",
      "|| === Instance 21x21 === ||\n",
      "%%%mzn-stat: nSolutions=1\n",
      "Solver output:\n",
      "Generated FlatZinc statistics:\n",
      "mzn-stat: paths=0\n",
      "mzn-stat: flatBoolVars=388\n",
      "mzn-stat: flatIntVars=56\n",
      "mzn-stat: flatBoolConstraints=99\n",
      "mzn-stat: flatIntConstraints=417\n",
      "mzn-stat: evaluatedHalfReifiedConstraints=388\n",
      "mzn-stat: method=\"satisfy\"\n",
      "mzn-stat: flatTime=0.187268\n",
      "mzn-stat-end\n",
      "mzn-stat: initTime=0.02\n",
      "mzn-stat: solveTime=0.001\n",
      "mzn-stat: solutions=1\n",
      "mzn-stat: variables=465\n",
      "mzn-stat: propagators=361\n",
      "mzn-stat: propagations=2361\n",
      "mzn-stat: nodes=37\n",
      "mzn-stat: failures=10\n",
      "mzn-stat: restarts=0\n",
      "mzn-stat: peakDepth=21\n",
      "mzn-stat-end\n"
     ]
    },
    {
     "data": {
      "image/png": "[encoded data removed]",
      "text/plain": [
       "<Figure size 432x288 with 1 Axes>"
      ]
     },
     "metadata": {
      "needs_background": "light"
     },
     "output_type": "display_data"
    },
    {
     "name": "stdout",
     "output_type": "stream",
     "text": [
      "Solution: [[15, 0], [9, 17], [18, 16], [18, 10], [12, 14], [9, 9], [9, 0], [18, 0], [12, 0], [15, 3], [5, 17], [5, 11], [5, 0], [0, 15], [0, 0]]\n",
      "[w, h]:   [[3, 3], [3, 4], [3, 5], [3, 6], [3, 7], [3, 8], [3, 9], [3, 10], [3, 14], [3, 18], [4, 4], [4, 6], [4, 11], [5, 6], [5, 15]]\n",
      "\n",
      "Pieces: [[3, 3], [3, 4], [3, 5], [3, 6], [3, 7], [3, 8], [3, 9], [3, 10], [3, 14], [3, 18], [4, 4], [4, 6], [4, 11], [5, 6], [5, 15]]\n",
      "\n",
      "\n",
      "\n",
      "|| === Instance 22x22 === ||\n",
      "%%%mzn-stat: nSolutions=1\n",
      "Solver output:\n",
      "Generated FlatZinc statistics:\n",
      "mzn-stat: paths=0\n",
      "mzn-stat: flatBoolVars=480\n",
      "mzn-stat: flatIntVars=64\n",
      "mzn-stat: flatBoolConstraints=120\n",
      "mzn-stat: flatIntConstraints=515\n",
      "mzn-stat: evaluatedHalfReifiedConstraints=480\n",
      "mzn-stat: method=\"satisfy\"\n",
      "mzn-stat: flatTime=0.1977\n",
      "mzn-stat-end\n",
      "mzn-stat: initTime=0.023\n",
      "mzn-stat: solveTime=3.266\n",
      "mzn-stat: solutions=1\n",
      "mzn-stat: variables=548\n",
      "mzn-stat: propagators=561\n",
      "mzn-stat: propagations=20034185\n",
      "mzn-stat: nodes=197099\n",
      "mzn-stat: failures=98539\n",
      "mzn-stat: restarts=0\n",
      "mzn-stat: peakDepth=34\n",
      "mzn-stat-end\n"
     ]
    },
    {
     "data": {
      "image/png": "[encoded data removed]",
      "text/plain": [
       "<Figure size 432x288 with 1 Axes>"
      ]
     },
     "metadata": {
      "needs_background": "light"
     },
     "output_type": "display_data"
    },
    {
     "name": "stdout",
     "output_type": "stream",
     "text": [
      "Solution: [[0, 19], [10, 18], [0, 14], [10, 12], [19, 11], [16, 0], [3, 13], [16, 8], [19, 0], [10, 0], [3, 0], [0, 0], [13, 0], [6, 19], [6, 0], [16, 18]]\n",
      "[w, h]:   [[3, 3], [3, 4], [3, 5], [3, 6], [3, 7], [3, 8], [3, 9], [3, 10], [3, 11], [3, 12], [3, 13], [3, 14], [3, 22], [4, 3], [4, 19], [6, 4]]\n",
      "\n",
      "Pieces: [[3, 3], [3, 4], [3, 5], [3, 6], [3, 7], [3, 8], [3, 9], [3, 10], [3, 11], [3, 12], [3, 13], [3, 14], [3, 22], [4, 3], [4, 19], [6, 4]]\n",
      "\n",
      "\n",
      "\n",
      "|| === Instance 23x23 === ||\n",
      "%%%mzn-stat: nSolutions=0\n",
      "Solver output:\n",
      "Generated FlatZinc statistics:\n",
      "mzn-stat: paths=0\n",
      "mzn-stat: flatBoolVars=684\n",
      "mzn-stat: flatIntVars=78\n",
      "mzn-stat: flatBoolConstraints=171\n",
      "mzn-stat: flatIntConstraints=726\n",
      "mzn-stat: evaluatedHalfReifiedConstraints=684\n",
      "mzn-stat: method=\"satisfy\"\n",
      "mzn-stat: flatTime=0.195262\n",
      "mzn-stat-end\n",
      "No solution has been found\n",
      "mzn-stat: initTime=0.029\n",
      "mzn-stat: solveTime=299.806\n",
      "mzn-stat: solutions=0\n",
      "mzn-stat: variables=762\n",
      "mzn-stat: propagators=850\n",
      "mzn-stat: propagations=904730509\n",
      "mzn-stat: nodes=9528234\n",
      "mzn-stat: failures=4764111\n",
      "mzn-stat: restarts=0\n",
      "mzn-stat: peakDepth=51\n",
      "mzn-stat-end\n",
      "No solution found in 5min\n",
      "Pieces: [[3, 3], [3, 4], [3, 5], [3, 6], [3, 7], [3, 8], [3, 9], [3, 10], [3, 11], [3, 12], [3, 14], [3, 20], [4, 3], [4, 4], [4, 6], [4, 10], [4, 11], [4, 12], [6, 3]]\n",
      "\n",
      "\n",
      "\n",
      "|| === Instance 24x24 === ||\n",
      "%%%mzn-stat: nSolutions=1\n",
      "Solver output:\n",
      "Generated FlatZinc statistics:\n",
      "mzn-stat: paths=0\n",
      "mzn-stat: flatBoolVars=566\n",
      "mzn-stat: flatIntVars=66\n",
      "mzn-stat: flatBoolConstraints=145\n",
      "mzn-stat: flatIntConstraints=599\n",
      "mzn-stat: evaluatedHalfReifiedConstraints=566\n",
      "mzn-stat: method=\"satisfy\"\n",
      "mzn-stat: flatTime=0.2413\n",
      "mzn-stat-end\n",
      "mzn-stat: initTime=0.034\n",
      "mzn-stat: solveTime=0.001\n",
      "mzn-stat: solutions=1\n",
      "mzn-stat: variables=660\n",
      "mzn-stat: propagators=522\n",
      "mzn-stat: propagations=2393\n",
      "mzn-stat: nodes=28\n",
      "mzn-stat: failures=3\n",
      "mzn-stat: restarts=0\n",
      "mzn-stat: peakDepth=24\n",
      "mzn-stat-end\n"
     ]
    },
    {
     "data": {
      "image/png": "[encoded data removed]",
      "text/plain": [
       "<Figure size 432x288 with 1 Axes>"
      ]
     },
     "metadata": {
      "needs_background": "light"
     },
     "output_type": "display_data"
    },
    {
     "name": "stdout",
     "output_type": "stream",
     "text": [
      "Solution: [[9, 21], [18, 20], [12, 10], [21, 18], [9, 14], [18, 12], [12, 15], [12, 0], [18, 0], [9, 0], [21, 0], [15, 0], [5, 21], [5, 17], [5, 12], [5, 0], [0, 0], [0, 8]]\n",
      "[w, h]:   [[3, 3], [3, 4], [3, 5], [3, 6], [3, 7], [3, 8], [3, 9], [3, 10], [3, 12], [3, 14], [3, 18], [3, 24], [4, 3], [4, 4], [4, 5], [4, 12], [5, 8], [5, 16]]\n",
      "\n",
      "Pieces: [[3, 3], [3, 4], [3, 5], [3, 6], [3, 7], [3, 8], [3, 9], [3, 10], [3, 12], [3, 14], [3, 18], [3, 24], [4, 3], [4, 4], [4, 5], [4, 12], [5, 8], [5, 16]]\n",
      "\n",
      "\n",
      "\n",
      "|| === Instance 25x25 === ||\n",
      "%%%mzn-stat: nSolutions=0\n",
      "Solver output:\n",
      "Generated FlatZinc statistics:\n",
      "mzn-stat: paths=0\n",
      "mzn-stat: flatBoolVars=684\n",
      "mzn-stat: flatIntVars=76\n",
      "mzn-stat: flatBoolConstraints=171\n",
      "mzn-stat: flatIntConstraints=725\n",
      "mzn-stat: evaluatedHalfReifiedConstraints=684\n",
      "mzn-stat: method=\"satisfy\"\n",
      "mzn-stat: flatTime=0.242337\n",
      "mzn-stat-end\n",
      "No solution has been found\n",
      "mzn-stat: initTime=0.037\n",
      "mzn-stat: solveTime=299.759\n",
      "mzn-stat: solutions=0\n",
      "mzn-stat: variables=764\n",
      "mzn-stat: propagators=804\n",
      "mzn-stat: propagations=1155456474\n",
      "mzn-stat: nodes=9467536\n",
      "mzn-stat: failures=4733764\n",
      "mzn-stat: restarts=0\n",
      "mzn-stat: peakDepth=44\n",
      "mzn-stat-end\n",
      "No solution found in 5min\n",
      "Pieces: [[3, 3], [3, 4], [3, 5], [3, 6], [3, 7], [3, 8], [3, 9], [3, 10], [3, 11], [3, 13], [3, 14], [3, 17], [3, 18], [3, 19], [3, 25], [4, 5], [4, 7], [4, 13], [6, 3]]\n",
      "\n",
      "\n",
      "\n",
      "|| === Instance 26x26 === ||\n",
      "%%%mzn-stat: nSolutions=1\n",
      "Solver output:\n",
      "Generated FlatZinc statistics:\n",
      "mzn-stat: paths=0\n",
      "mzn-stat: flatBoolVars=924\n",
      "mzn-stat: flatIntVars=90\n",
      "mzn-stat: flatBoolConstraints=231\n",
      "mzn-stat: flatIntConstraints=972\n",
      "mzn-stat: evaluatedHalfReifiedConstraints=924\n",
      "mzn-stat: method=\"satisfy\"\n",
      "mzn-stat: flatTime=0.256422\n",
      "mzn-stat-end\n",
      "mzn-stat: initTime=0.048\n",
      "mzn-stat: solveTime=0.018\n",
      "mzn-stat: solutions=1\n",
      "mzn-stat: variables=1014\n",
      "mzn-stat: propagators=924\n",
      "mzn-stat: propagations=35959\n",
      "mzn-stat: nodes=495\n",
      "mzn-stat: failures=233\n",
      "mzn-stat: restarts=0\n",
      "mzn-stat: peakDepth=37\n",
      "mzn-stat-end\n"
     ]
    },
    {
     "data": {
      "image/png": "[encoded data removed]",
      "text/plain": [
       "<Figure size 432x288 with 1 Axes>"
      ]
     },
     "metadata": {
      "needs_background": "light"
     },
     "output_type": "display_data"
    },
    {
     "name": "stdout",
     "output_type": "stream",
     "text": [
      "Solution: [[23, 23], [17, 22], [11, 21], [11, 15], [14, 19], [17, 14], [20, 0], [8, 0], [23, 12], [23, 0], [17, 0], [11, 0], [8, 10], [20, 9], [14, 0], [4, 18], [0, 22], [4, 21], [4, 11], [0, 14], [4, 0], [0, 0]]\n",
      "[w, h]:   [[3, 3], [3, 4], [3, 5], [3, 6], [3, 7], [3, 8], [3, 9], [3, 10], [3, 11], [3, 12], [3, 14], [3, 15], [3, 16], [3, 17], [3, 19], [4, 3], [4, 4], [4, 5], [4, 7], [4, 8], [4, 11], [4, 14]]\n",
      "\n",
      "Pieces: [[3, 3], [3, 4], [3, 5], [3, 6], [3, 7], [3, 8], [3, 9], [3, 10], [3, 11], [3, 12], [3, 14], [3, 15], [3, 16], [3, 17], [3, 19], [4, 3], [4, 4], [4, 5], [4, 7], [4, 8], [4, 11], [4, 14]]\n",
      "\n",
      "\n",
      "\n",
      "|| === Instance 27x27 === ||\n",
      "%%%mzn-stat: nSolutions=1\n",
      "Solver output:\n",
      "Generated FlatZinc statistics:\n",
      "mzn-stat: paths=0\n",
      "mzn-stat: flatBoolVars=840\n",
      "mzn-stat: flatIntVars=86\n",
      "mzn-stat: flatBoolConstraints=210\n",
      "mzn-stat: flatIntConstraints=886\n",
      "mzn-stat: evaluatedHalfReifiedConstraints=840\n",
      "mzn-stat: method=\"satisfy\"\n",
      "mzn-stat: flatTime=0.251634\n",
      "mzn-stat-end\n",
      "mzn-stat: initTime=0.043\n",
      "mzn-stat: solveTime=0.003\n",
      "mzn-stat: solutions=1\n",
      "mzn-stat: variables=926\n",
      "mzn-stat: propagators=781\n",
      "mzn-stat: propagations=6633\n",
      "mzn-stat: nodes=77\n",
      "mzn-stat: failures=24\n",
      "mzn-stat: restarts=0\n",
      "mzn-stat: peakDepth=41\n",
      "mzn-stat-end\n"
     ]
    },
    {
     "data": {
      "image/png": "[encoded data removed]",
      "text/plain": [
       "<Figure size 432x288 with 1 Axes>"
      ]
     },
     "metadata": {
      "needs_background": "light"
     },
     "output_type": "display_data"
    },
    {
     "name": "stdout",
     "output_type": "stream",
     "text": [
      "Solution: [[15, 5], [21, 23], [15, 0], [18, 21], [24, 20], [12, 19], [15, 18], [15, 8], [21, 12], [21, 0], [12, 0], [24, 0], [18, 0], [0, 24], [0, 20], [0, 14], [8, 20], [4, 19], [0, 0], [4, 0], [8, 0]]\n",
      "[w, h]:   [[3, 3], [3, 4], [3, 5], [3, 6], [3, 7], [3, 8], [3, 9], [3, 10], [3, 11], [3, 12], [3, 19], [3, 20], [3, 21], [4, 3], [4, 4], [4, 6], [4, 7], [4, 8], [4, 14], [4, 19], [4, 20]]\n",
      "\n",
      "Pieces: [[3, 3], [3, 4], [3, 5], [3, 6], [3, 7], [3, 8], [3, 9], [3, 10], [3, 11], [3, 12], [3, 19], [3, 20], [3, 21], [4, 3], [4, 4], [4, 6], [4, 7], [4, 8], [4, 14], [4, 19], [4, 20]]\n",
      "\n",
      "\n",
      "\n",
      "|| === Instance 28x28 === ||\n",
      "%%%mzn-stat: nSolutions=1\n",
      "Solver output:\n",
      "Generated FlatZinc statistics:\n",
      "mzn-stat: paths=0\n",
      "mzn-stat: flatBoolVars=918\n",
      "mzn-stat: flatIntVars=86\n",
      "mzn-stat: flatBoolConstraints=231\n",
      "mzn-stat: flatIntConstraints=963\n",
      "mzn-stat: evaluatedHalfReifiedConstraints=918\n",
      "mzn-stat: method=\"satisfy\"\n",
      "mzn-stat: flatTime=0.257717\n",
      "mzn-stat-end\n",
      "mzn-stat: initTime=0.046\n",
      "mzn-stat: solveTime=0.06\n",
      "mzn-stat: solutions=1\n",
      "mzn-stat: variables=1017\n",
      "mzn-stat: propagators=810\n",
      "mzn-stat: propagations=102628\n",
      "mzn-stat: nodes=2090\n",
      "mzn-stat: failures=1032\n",
      "mzn-stat: restarts=0\n",
      "mzn-stat: peakDepth=30\n",
      "mzn-stat-end\n"
     ]
    },
    {
     "data": {
      "image/png": "[encoded data removed]",
      "text/plain": [
       "<Figure size 432x288 with 1 Axes>"
      ]
     },
     "metadata": {
      "needs_background": "light"
     },
     "output_type": "display_data"
    },
    {
     "name": "stdout",
     "output_type": "stream",
     "text": [
      "Solution: [[22, 10], [19, 24], [25, 23], [22, 13], [13, 21], [19, 16], [22, 19], [22, 0], [16, 17], [19, 0], [16, 0], [13, 0], [25, 0], [9, 25], [9, 21], [5, 23], [9, 13], [9, 0], [5, 0], [0, 22], [0, 13], [0, 0]]\n",
      "[w, h]:   [[3, 3], [3, 4], [3, 5], [3, 6], [3, 7], [3, 8], [3, 9], [3, 10], [3, 11], [3, 16], [3, 17], [3, 21], [3, 23], [4, 3], [4, 4], [4, 5], [4, 8], [4, 13], [4, 23], [5, 6], [5, 9], [5, 13]]\n",
      "\n",
      "Pieces: [[3, 3], [3, 4], [3, 5], [3, 6], [3, 7], [3, 8], [3, 9], [3, 10], [3, 11], [3, 16], [3, 17], [3, 21], [3, 23], [4, 3], [4, 4], [4, 5], [4, 8], [4, 13], [4, 23], [5, 6], [5, 9], [5, 13]]\n",
      "\n",
      "\n",
      "\n",
      "|| === Instance 29x29 === ||\n",
      "%%%mzn-stat: nSolutions=1\n",
      "Solver output:\n",
      "Generated FlatZinc statistics:\n",
      "mzn-stat: paths=0\n",
      "mzn-stat: flatBoolVars=1098\n",
      "mzn-stat: flatIntVars=94\n",
      "mzn-stat: flatBoolConstraints=276\n",
      "mzn-stat: flatIntConstraints=1147\n",
      "mzn-stat: evaluatedHalfReifiedConstraints=1098\n",
      "mzn-stat: method=\"satisfy\"\n",
      "mzn-stat: flatTime=0.268588\n",
      "mzn-stat-end\n",
      "mzn-stat: initTime=0.055\n",
      "mzn-stat: solveTime=0.337\n",
      "mzn-stat: solutions=1\n",
      "mzn-stat: variables=1205\n",
      "mzn-stat: propagators=1014\n",
      "mzn-stat: propagations=473959\n",
      "mzn-stat: nodes=9285\n",
      "mzn-stat: failures=4628\n",
      "mzn-stat: restarts=0\n",
      "mzn-stat: peakDepth=42\n",
      "mzn-stat-end\n"
     ]
    },
    {
     "data": {
      "image/png": "[encoded data removed]",
      "text/plain": [
       "<Figure size 432x288 with 1 Axes>"
      ]
     },
     "metadata": {
      "needs_background": "light"
     },
     "output_type": "display_data"
    },
    {
     "name": "stdout",
     "output_type": "stream",
     "text": [
      "Solution: [[17, 26], [26, 25], [20, 17], [17, 20], [20, 22], [20, 9], [20, 0], [26, 15], [23, 18], [26, 0], [23, 0], [17, 0], [13, 26], [5, 25], [9, 24], [13, 20], [5, 18], [9, 15], [9, 0], [5, 0], [13, 0], [0, 25], [0, 17], [0, 0]]\n",
      "[w, h]:   [[3, 3], [3, 4], [3, 5], [3, 6], [3, 7], [3, 8], [3, 9], [3, 10], [3, 11], [3, 15], [3, 18], [3, 20], [4, 3], [4, 4], [4, 5], [4, 6], [4, 7], [4, 9], [4, 15], [4, 18], [4, 20], [5, 4], [5, 8], [5, 17]]\n",
      "\n",
      "Pieces: [[3, 3], [3, 4], [3, 5], [3, 6], [3, 7], [3, 8], [3, 9], [3, 10], [3, 11], [3, 15], [3, 18], [3, 20], [4, 3], [4, 4], [4, 5], [4, 6], [4, 7], [4, 9], [4, 15], [4, 18], [4, 20], [5, 4], [5, 8], [5, 17]]\n",
      "\n",
      "\n",
      "\n",
      "|| === Instance 30x30 === ||\n",
      "%%%mzn-stat: nSolutions=1\n",
      "Solver output:\n",
      "Generated FlatZinc statistics:\n",
      "mzn-stat: paths=0\n",
      "mzn-stat: flatBoolVars=720\n",
      "mzn-stat: flatIntVars=73\n",
      "mzn-stat: flatBoolConstraints=185\n",
      "mzn-stat: flatIntConstraints=757\n",
      "mzn-stat: evaluatedHalfReifiedConstraints=720\n",
      "mzn-stat: method=\"satisfy\"\n",
      "mzn-stat: flatTime=0.251538\n",
      "mzn-stat-end\n",
      "mzn-stat: initTime=0.038\n",
      "mzn-stat: solveTime=0.086\n",
      "mzn-stat: solutions=1\n",
      "mzn-stat: variables=822\n",
      "mzn-stat: propagators=697\n",
      "mzn-stat: propagations=219599\n",
      "mzn-stat: nodes=3369\n",
      "mzn-stat: failures=1672\n",
      "mzn-stat: restarts=0\n",
      "mzn-stat: peakDepth=30\n",
      "mzn-stat-end\n"
     ]
    },
    {
     "data": {
      "image/png": "[encoded data removed]",
      "text/plain": [
       "<Figure size 432x288 with 1 Axes>"
      ]
     },
     "metadata": {
      "needs_background": "light"
     },
     "output_type": "display_data"
    },
    {
     "name": "stdout",
     "output_type": "stream",
     "text": [
      "Solution: [[24, 27], [18, 26], [21, 25], [15, 24], [18, 19], [15, 16], [18, 10], [18, 0], [27, 19], [24, 14], [24, 0], [15, 0], [27, 0], [21, 0], [11, 27], [11, 23], [11, 17], [11, 9], [11, 0], [0, 0]]\n",
      "[w, h]:   [[3, 3], [3, 4], [3, 5], [3, 6], [3, 7], [3, 8], [3, 9], [3, 10], [3, 11], [3, 13], [3, 14], [3, 16], [3, 19], [3, 25], [4, 3], [4, 4], [4, 6], [4, 8], [4, 9], [11, 30]]\n",
      "\n",
      "Pieces: [[3, 3], [3, 4], [3, 5], [3, 6], [3, 7], [3, 8], [3, 9], [3, 10], [3, 11], [3, 13], [3, 14], [3, 16], [3, 19], [3, 25], [4, 3], [4, 4], [4, 6], [4, 8], [4, 9], [11, 30]]\n",
      "\n",
      "\n",
      "\n",
      "|| === Instance 31x31 === ||\n",
      "%%%mzn-stat: nSolutions=1\n",
      "Solver output:\n",
      "Generated FlatZinc statistics:\n",
      "mzn-stat: paths=0\n",
      "mzn-stat: flatBoolVars=654\n",
      "mzn-stat: flatIntVars=69\n",
      "mzn-stat: flatBoolConstraints=167\n",
      "mzn-stat: flatIntConstraints=689\n",
      "mzn-stat: evaluatedHalfReifiedConstraints=654\n",
      "mzn-stat: method=\"satisfy\"\n",
      "mzn-stat: flatTime=0.24382\n",
      "mzn-stat-end\n",
      "mzn-stat: initTime=0.035\n",
      "mzn-stat: solveTime=0.018\n",
      "mzn-stat: solutions=1\n",
      "mzn-stat: variables=751\n",
      "mzn-stat: propagators=625\n",
      "mzn-stat: propagations=50821\n",
      "mzn-stat: nodes=698\n",
      "mzn-stat: failures=338\n",
      "mzn-stat: restarts=0\n",
      "mzn-stat: peakDepth=26\n",
      "mzn-stat-end\n"
     ]
    },
    {
     "data": {
      "image/png": "[encoded data removed]",
      "text/plain": [
       "<Figure size 432x288 with 1 Axes>"
      ]
     },
     "metadata": {
      "needs_background": "light"
     },
     "output_type": "display_data"
    },
    {
     "name": "stdout",
     "output_type": "stream",
     "text": [
      "Solution: [[19, 21], [28, 27], [28, 22], [16, 25], [19, 24], [25, 23], [25, 14], [19, 11], [19, 0], [16, 13], [16, 0], [25, 0], [28, 0], [22, 0], [12, 28], [12, 21], [12, 13], [12, 0], [0, 0]]\n",
      "[w, h]:   [[3, 3], [3, 4], [3, 5], [3, 6], [3, 7], [3, 8], [3, 9], [3, 10], [3, 11], [3, 12], [3, 13], [3, 14], [3, 22], [3, 31], [4, 3], [4, 7], [4, 8], [4, 13], [12, 31]]\n",
      "\n",
      "Pieces: [[3, 3], [3, 4], [3, 5], [3, 6], [3, 7], [3, 8], [3, 9], [3, 10], [3, 11], [3, 12], [3, 13], [3, 14], [3, 22], [3, 31], [4, 3], [4, 7], [4, 8], [4, 13], [12, 31]]\n",
      "\n",
      "\n",
      "\n",
      "|| === Instance 32x32 === ||\n",
      "%%%mzn-stat: nSolutions=1\n",
      "Solver output:\n",
      "Generated FlatZinc statistics:\n",
      "mzn-stat: paths=0\n",
      "mzn-stat: flatBoolVars=1404\n",
      "mzn-stat: flatIntVars=110\n",
      "mzn-stat: flatBoolConstraints=351\n",
      "mzn-stat: flatIntConstraints=1462\n",
      "mzn-stat: evaluatedHalfReifiedConstraints=1404\n",
      "mzn-stat: method=\"satisfy\"\n",
      "mzn-stat: flatTime=0.290544\n",
      "mzn-stat-end\n",
      "mzn-stat: initTime=0.071\n",
      "mzn-stat: solveTime=16.017\n",
      "mzn-stat: solutions=1\n",
      "mzn-stat: variables=1514\n",
      "mzn-stat: propagators=1351\n",
      "mzn-stat: propagations=40925086\n",
      "mzn-stat: nodes=330164\n",
      "mzn-stat: failures=165064\n",
      "mzn-stat: restarts=0\n",
      "mzn-stat: peakDepth=38\n",
      "mzn-stat-end\n"
     ]
    },
    {
     "data": {
      "image/png": "[encoded data removed]",
      "text/plain": [
       "<Figure size 432x288 with 1 Axes>"
      ]
     },
     "metadata": {
      "needs_background": "light"
     },
     "output_type": "display_data"
    },
    {
     "name": "stdout",
     "output_type": "stream",
     "text": [
      "Solution: [[8, 29], [23, 28], [29, 27], [26, 26], [11, 25], [17, 24], [20, 23], [14, 22], [8, 18], [26, 14], [23, 15], [26, 0], [23, 0], [8, 0], [14, 0], [20, 0], [17, 0], [11, 0], [29, 0], [0, 29], [4, 28], [4, 23], [4, 17], [4, 10], [4, 0], [0, 18], [0, 0]]\n",
      "[w, h]:   [[3, 3], [3, 4], [3, 5], [3, 6], [3, 7], [3, 8], [3, 9], [3, 10], [3, 11], [3, 12], [3, 13], [3, 14], [3, 15], [3, 18], [3, 22], [3, 23], [3, 24], [3, 25], [3, 27], [4, 3], [4, 4], [4, 5], [4, 6], [4, 7], [4, 10], [4, 11], [4, 18]]\n",
      "\n",
      "Pieces: [[3, 3], [3, 4], [3, 5], [3, 6], [3, 7], [3, 8], [3, 9], [3, 10], [3, 11], [3, 12], [3, 13], [3, 14], [3, 15], [3, 18], [3, 22], [3, 23], [3, 24], [3, 25], [3, 27], [4, 3], [4, 4], [4, 5], [4, 6], [4, 7], [4, 10], [4, 11], [4, 18]]\n",
      "\n",
      "\n",
      "\n",
      "|| === Instance 33x33 === ||\n",
      "%%%mzn-stat: nSolutions=1\n",
      "Solver output:\n",
      "Generated FlatZinc statistics:\n",
      "mzn-stat: paths=0\n",
      "mzn-stat: flatBoolVars=1010\n",
      "mzn-stat: flatIntVars=89\n",
      "mzn-stat: flatBoolConstraints=253\n",
      "mzn-stat: flatIntConstraints=1057\n",
      "mzn-stat: evaluatedHalfReifiedConstraints=1010\n",
      "mzn-stat: method=\"satisfy\"\n",
      "mzn-stat: flatTime=0.273572\n",
      "mzn-stat-end\n",
      "mzn-stat: initTime=0.049\n",
      "mzn-stat: solveTime=0.333\n",
      "mzn-stat: solutions=1\n",
      "mzn-stat: variables=1111\n",
      "mzn-stat: propagators=876\n",
      "mzn-stat: propagations=926502\n",
      "mzn-stat: nodes=10899\n",
      "mzn-stat: failures=5436\n",
      "mzn-stat: restarts=0\n",
      "mzn-stat: peakDepth=31\n",
      "mzn-stat-end\n"
     ]
    },
    {
     "data": {
      "image/png": "[encoded data removed]",
      "text/plain": [
       "<Figure size 432x288 with 1 Axes>"
      ]
     },
     "metadata": {
      "needs_background": "light"
     },
     "output_type": "display_data"
    },
    {
     "name": "stdout",
     "output_type": "stream",
     "text": [
      "Solution: [[30, 30], [15, 29], [18, 28], [21, 27], [15, 22], [15, 14], [27, 24], [21, 17], [18, 15], [15, 0], [18, 0], [21, 0], [27, 0], [30, 0], [24, 0], [11, 30], [7, 29], [11, 24], [11, 14], [7, 17], [11, 0], [7, 0], [0, 0]]\n",
      "[w, h]:   [[3, 3], [3, 4], [3, 5], [3, 6], [3, 7], [3, 8], [3, 9], [3, 10], [3, 13], [3, 14], [3, 15], [3, 17], [3, 24], [3, 30], [3, 33], [4, 3], [4, 4], [4, 6], [4, 10], [4, 12], [4, 14], [4, 17], [7, 33]]\n",
      "\n",
      "Pieces: [[3, 3], [3, 4], [3, 5], [3, 6], [3, 7], [3, 8], [3, 9], [3, 10], [3, 13], [3, 14], [3, 15], [3, 17], [3, 24], [3, 30], [3, 33], [4, 3], [4, 4], [4, 6], [4, 10], [4, 12], [4, 14], [4, 17], [7, 33]]\n",
      "\n",
      "\n",
      "\n",
      "|| === Instance 34x34 === ||\n",
      "%%%mzn-stat: nSolutions=1\n",
      "Solver output:\n",
      "Generated FlatZinc statistics:\n",
      "mzn-stat: paths=0\n",
      "mzn-stat: flatBoolVars=810\n",
      "mzn-stat: flatIntVars=77\n",
      "mzn-stat: flatBoolConstraints=206\n",
      "mzn-stat: flatIntConstraints=849\n",
      "mzn-stat: evaluatedHalfReifiedConstraints=810\n",
      "mzn-stat: method=\"satisfy\"\n",
      "mzn-stat: flatTime=0.253734\n",
      "mzn-stat-end\n",
      "mzn-stat: initTime=0.041\n",
      "mzn-stat: solveTime=2.012\n",
      "mzn-stat: solutions=1\n",
      "mzn-stat: variables=915\n",
      "mzn-stat: propagators=773\n",
      "mzn-stat: propagations=5681762\n",
      "mzn-stat: nodes=69176\n",
      "mzn-stat: failures=34574\n",
      "mzn-stat: restarts=0\n",
      "mzn-stat: peakDepth=32\n",
      "mzn-stat-end\n"
     ]
    },
    {
     "data": {
      "image/png": "[encoded data removed]",
      "text/plain": [
       "<Figure size 432x288 with 1 Axes>"
      ]
     },
     "metadata": {
      "needs_background": "light"
     },
     "output_type": "display_data"
    },
    {
     "name": "stdout",
     "output_type": "stream",
     "text": [
      "Solution: [[16, 31], [28, 30], [25, 29], [25, 23], [22, 27], [28, 22], [19, 25], [16, 21], [25, 12], [25, 0], [22, 14], [22, 0], [16, 0], [28, 0], [19, 0], [31, 0], [12, 30], [12, 25], [12, 14], [12, 0], [0, 0]]\n",
      "[w, h]:   [[3, 3], [3, 4], [3, 5], [3, 6], [3, 7], [3, 8], [3, 9], [3, 10], [3, 11], [3, 12], [3, 13], [3, 14], [3, 21], [3, 22], [3, 25], [3, 34], [4, 4], [4, 5], [4, 11], [4, 14], [12, 34]]\n",
      "\n",
      "Pieces: [[3, 3], [3, 4], [3, 5], [3, 6], [3, 7], [3, 8], [3, 9], [3, 10], [3, 11], [3, 12], [3, 13], [3, 14], [3, 21], [3, 22], [3, 25], [3, 34], [4, 4], [4, 5], [4, 11], [4, 14], [12, 34]]\n",
      "\n",
      "\n",
      "\n",
      "|| === Instance 35x35 === ||\n",
      "%%%mzn-stat: nSolutions=1\n",
      "Solver output:\n",
      "Generated FlatZinc statistics:\n",
      "mzn-stat: paths=0\n",
      "mzn-stat: flatBoolVars=924\n",
      "mzn-stat: flatIntVars=86\n",
      "mzn-stat: flatBoolConstraints=231\n",
      "mzn-stat: flatIntConstraints=970\n",
      "mzn-stat: evaluatedHalfReifiedConstraints=924\n",
      "mzn-stat: method=\"satisfy\"\n",
      "mzn-stat: flatTime=0.25639\n",
      "mzn-stat-end\n",
      "mzn-stat: initTime=0.046\n",
      "mzn-stat: solveTime=0.008\n",
      "mzn-stat: solutions=1\n",
      "mzn-stat: variables=1019\n",
      "mzn-stat: propagators=850\n",
      "mzn-stat: propagations=11024\n",
      "mzn-stat: nodes=212\n",
      "mzn-stat: failures=91\n",
      "mzn-stat: restarts=0\n",
      "mzn-stat: peakDepth=38\n",
      "mzn-stat-end\n"
     ]
    },
    {
     "data": {
      "image/png": "[encoded data removed]",
      "text/plain": [
       "<Figure size 432x288 with 1 Axes>"
      ]
     },
     "metadata": {
      "needs_background": "light"
     },
     "output_type": "display_data"
    },
    {
     "name": "stdout",
     "output_type": "stream",
     "text": [
      "Solution: [[32, 32], [32, 28], [29, 30], [26, 29], [32, 21], [29, 22], [32, 12], [26, 19], [32, 0], [26, 0], [29, 0], [14, 32], [18, 31], [14, 27], [18, 25], [14, 20], [18, 17], [22, 23], [18, 0], [14, 0], [22, 0], [0, 0]]\n",
      "[w, h]:   [[3, 3], [3, 4], [3, 5], [3, 6], [3, 7], [3, 8], [3, 9], [3, 10], [3, 12], [3, 19], [3, 22], [4, 3], [4, 4], [4, 5], [4, 6], [4, 7], [4, 8], [4, 12], [4, 17], [4, 20], [4, 23], [14, 35]]\n",
      "\n",
      "Pieces: [[3, 3], [3, 4], [3, 5], [3, 6], [3, 7], [3, 8], [3, 9], [3, 10], [3, 12], [3, 19], [3, 22], [4, 3], [4, 4], [4, 5], [4, 6], [4, 7], [4, 8], [4, 12], [4, 17], [4, 20], [4, 23], [14, 35]]\n",
      "\n",
      "\n",
      "\n",
      "|| === Instance 36x36 === ||\n",
      "%%%mzn-stat: nSolutions=1\n",
      "Solver output:\n",
      "Generated FlatZinc statistics:\n",
      "mzn-stat: paths=0\n",
      "mzn-stat: flatBoolVars=916\n",
      "mzn-stat: flatIntVars=82\n",
      "mzn-stat: flatBoolConstraints=234\n",
      "mzn-stat: flatIntConstraints=956\n",
      "mzn-stat: evaluatedHalfReifiedConstraints=916\n",
      "mzn-stat: method=\"satisfy\"\n",
      "mzn-stat: flatTime=0.262623\n",
      "mzn-stat-end\n",
      "mzn-stat: initTime=0.048\n",
      "mzn-stat: solveTime=0.047\n",
      "mzn-stat: solutions=1\n",
      "mzn-stat: variables=1038\n",
      "mzn-stat: propagators=837\n",
      "mzn-stat: propagations=91134\n",
      "mzn-stat: nodes=1503\n",
      "mzn-stat: failures=738\n",
      "mzn-stat: restarts=0\n",
      "mzn-stat: peakDepth=35\n",
      "mzn-stat-end\n"
     ]
    },
    {
     "data": {
      "image/png": "[encoded data removed]",
      "text/plain": [
       "<Figure size 432x288 with 1 Axes>"
      ]
     },
     "metadata": {
      "needs_background": "light"
     },
     "output_type": "display_data"
    },
    {
     "name": "stdout",
     "output_type": "stream",
     "text": [
      "Solution: [[30, 33], [21, 32], [33, 31], [21, 26], [33, 24], [30, 25], [24, 27], [21, 16], [30, 14], [24, 15], [30, 0], [24, 0], [21, 0], [33, 0], [27, 0], [17, 33], [17, 22], [17, 0], [12, 18], [12, 14], [12, 0], [12, 21], [0, 0]]\n",
      "[w, h]:   [[3, 3], [3, 4], [3, 5], [3, 6], [3, 7], [3, 8], [3, 9], [3, 10], [3, 11], [3, 12], [3, 14], [3, 15], [3, 16], [3, 24], [3, 36], [4, 3], [4, 11], [4, 22], [5, 3], [5, 4], [5, 14], [5, 15], [12, 36]]\n",
      "\n",
      "Pieces: [[3, 3], [3, 4], [3, 5], [3, 6], [3, 7], [3, 8], [3, 9], [3, 10], [3, 11], [3, 12], [3, 14], [3, 15], [3, 16], [3, 24], [3, 36], [4, 3], [4, 11], [4, 22], [5, 3], [5, 4], [5, 14], [5, 15], [12, 36]]\n",
      "\n",
      "\n",
      "\n",
      "|| === Instance 37x37 === ||\n",
      "%%%mzn-stat: nSolutions=1\n",
      "Solver output:\n",
      "Generated FlatZinc statistics:\n",
      "mzn-stat: paths=0\n",
      "mzn-stat: flatBoolVars=1364\n",
      "mzn-stat: flatIntVars=101\n",
      "mzn-stat: flatBoolConstraints=346\n",
      "mzn-stat: flatIntConstraints=1415\n",
      "mzn-stat: evaluatedHalfReifiedConstraints=1364\n",
      "mzn-stat: method=\"satisfy\"\n",
      "mzn-stat: flatTime=0.282438\n",
      "mzn-stat-end\n",
      "mzn-stat: initTime=0.063\n",
      "mzn-stat: solveTime=1.358\n",
      "mzn-stat: solutions=1\n",
      "mzn-stat: variables=1494\n",
      "mzn-stat: propagators=1220\n",
      "mzn-stat: propagations=1800264\n",
      "mzn-stat: nodes=36892\n",
      "mzn-stat: failures=18428\n",
      "mzn-stat: restarts=0\n",
      "mzn-stat: peakDepth=40\n",
      "mzn-stat-end\n"
     ]
    },
    {
     "data": {
      "image/png": "[encoded data removed]",
      "text/plain": [
       "<Figure size 432x288 with 1 Axes>"
      ]
     },
     "metadata": {
      "needs_background": "light"
     },
     "output_type": "display_data"
    },
    {
     "name": "stdout",
     "output_type": "stream",
     "text": [
      "Solution: [[25, 26], [31, 33], [34, 32], [31, 27], [28, 30], [25, 29], [31, 18], [34, 21], [25, 14], [28, 17], [25, 0], [28, 0], [31, 0], [34, 0], [17, 34], [21, 33], [21, 28], [21, 22], [17, 24], [21, 0], [17, 0], [12, 34], [12, 30], [12, 24], [12, 14], [12, 0], [0, 0]]\n",
      "[w, h]:   [[3, 3], [3, 4], [3, 5], [3, 6], [3, 7], [3, 8], [3, 9], [3, 11], [3, 12], [3, 13], [3, 14], [3, 17], [3, 18], [3, 21], [4, 3], [4, 4], [4, 5], [4, 6], [4, 10], [4, 22], [4, 24], [5, 3], [5, 4], [5, 6], [5, 10], [5, 14], [12, 37]]\n",
      "\n",
      "Pieces: [[3, 3], [3, 4], [3, 5], [3, 6], [3, 7], [3, 8], [3, 9], [3, 11], [3, 12], [3, 13], [3, 14], [3, 17], [3, 18], [3, 21], [4, 3], [4, 4], [4, 5], [4, 6], [4, 10], [4, 22], [4, 24], [5, 3], [5, 4], [5, 6], [5, 10], [5, 14], [12, 37]]\n",
      "\n",
      "\n",
      "\n",
      "|| === Instance 38x38 === ||\n",
      "%%%mzn-stat: nSolutions=1\n",
      "Solver output:\n",
      "Generated FlatZinc statistics:\n",
      "mzn-stat: paths=0\n",
      "mzn-stat: flatBoolVars=684\n",
      "mzn-stat: flatIntVars=74\n",
      "mzn-stat: flatBoolConstraints=171\n",
      "mzn-stat: flatIntConstraints=724\n",
      "mzn-stat: evaluatedHalfReifiedConstraints=684\n",
      "mzn-stat: method=\"satisfy\"\n",
      "mzn-stat: flatTime=0.243851\n",
      "mzn-stat-end\n",
      "mzn-stat: initTime=0.036\n",
      "mzn-stat: solveTime=0.007\n",
      "mzn-stat: solutions=1\n",
      "mzn-stat: variables=767\n",
      "mzn-stat: propagators=645\n",
      "mzn-stat: propagations=12085\n",
      "mzn-stat: nodes=319\n",
      "mzn-stat: failures=146\n",
      "mzn-stat: restarts=0\n",
      "mzn-stat: peakDepth=37\n",
      "mzn-stat-end\n"
     ]
    },
    {
     "data": {
      "image/png": "[encoded data removed]",
      "text/plain": [
       "<Figure size 432x288 with 1 Axes>"
      ]
     },
     "metadata": {
      "needs_background": "light"
     },
     "output_type": "display_data"
    },
    {
     "name": "stdout",
     "output_type": "stream",
     "text": [
      "Solution: [[32, 10], [32, 27], [35, 33], [32, 21], [32, 31], [32, 13], [35, 24], [32, 0], [35, 13], [35, 0], [28, 35], [24, 33], [24, 27], [28, 27], [28, 16], [24, 15], [24, 0], [28, 0], [0, 0]]\n",
      "[w, h]:   [[3, 3], [3, 4], [3, 5], [3, 6], [3, 7], [3, 8], [3, 9], [3, 10], [3, 11], [3, 13], [4, 3], [4, 5], [4, 6], [4, 8], [4, 11], [4, 12], [4, 15], [4, 16], [24, 38]]\n",
      "\n",
      "Pieces: [[3, 3], [3, 4], [3, 5], [3, 6], [3, 7], [3, 8], [3, 9], [3, 10], [3, 11], [3, 13], [4, 3], [4, 5], [4, 6], [4, 8], [4, 11], [4, 12], [4, 15], [4, 16], [24, 38]]\n",
      "\n",
      "\n",
      "\n",
      "|| === Instance 39x39 === ||\n",
      "%%%mzn-stat: nSolutions=1\n",
      "Solver output:\n",
      "Generated FlatZinc statistics:\n",
      "mzn-stat: paths=0\n",
      "mzn-stat: flatBoolVars=1624\n",
      "mzn-stat: flatIntVars=114\n",
      "mzn-stat: flatBoolConstraints=406\n",
      "mzn-stat: flatIntConstraints=1684\n",
      "mzn-stat: evaluatedHalfReifiedConstraints=1624\n",
      "mzn-stat: method=\"satisfy\"\n",
      "mzn-stat: flatTime=0.301787\n",
      "mzn-stat-end\n",
      "mzn-stat: initTime=0.075\n",
      "mzn-stat: solveTime=0.021\n",
      "mzn-stat: solutions=1\n",
      "mzn-stat: variables=1747\n",
      "mzn-stat: propagators=1428\n",
      "mzn-stat: propagations=16733\n",
      "mzn-stat: nodes=350\n",
      "mzn-stat: failures=154\n",
      "mzn-stat: restarts=0\n",
      "mzn-stat: peakDepth=54\n",
      "mzn-stat-end\n"
     ]
    },
    {
     "data": {
      "image/png": "[encoded data removed]",
      "text/plain": [
       "<Figure size 432x288 with 1 Axes>"
      ]
     },
     "metadata": {
      "needs_background": "light"
     },
     "output_type": "display_data"
    },
    {
     "name": "stdout",
     "output_type": "stream",
     "text": [
      "Solution: [[33, 36], [36, 35], [33, 31], [36, 29], [33, 24], [36, 21], [33, 15], [36, 11], [36, 0], [33, 0], [25, 31], [25, 27], [25, 34], [25, 21], [29, 31], [25, 12], [25, 0], [29, 16], [29, 0], [20, 36], [20, 32], [15, 34], [20, 26], [20, 18], [15, 24], [15, 13], [15, 0], [20, 0], [0, 0]]\n",
      "[w, h]:   [[3, 3], [3, 4], [3, 5], [3, 6], [3, 7], [3, 8], [3, 9], [3, 10], [3, 11], [3, 15], [4, 3], [4, 4], [4, 5], [4, 6], [4, 8], [4, 9], [4, 12], [4, 15], [4, 16], [5, 3], [5, 4], [5, 5], [5, 6], [5, 8], [5, 10], [5, 11], [5, 13], [5, 18], [15, 39]]\n",
      "\n",
      "Pieces: [[3, 3], [3, 4], [3, 5], [3, 6], [3, 7], [3, 8], [3, 9], [3, 10], [3, 11], [3, 15], [4, 3], [4, 4], [4, 5], [4, 6], [4, 8], [4, 9], [4, 12], [4, 15], [4, 16], [5, 3], [5, 4], [5, 5], [5, 6], [5, 8], [5, 10], [5, 11], [5, 13], [5, 18], [15, 39]]\n",
      "\n",
      "\n",
      "\n",
      "|| === Instance 40x40 === ||\n",
      "%%%mzn-stat: nSolutions=1\n",
      "Solver output:\n",
      "Generated FlatZinc statistics:\n",
      "mzn-stat: paths=0\n",
      "mzn-stat: flatBoolVars=640\n",
      "mzn-stat: flatIntVars=70\n",
      "mzn-stat: flatBoolConstraints=167\n",
      "mzn-stat: flatIntConstraints=673\n",
      "mzn-stat: evaluatedHalfReifiedConstraints=640\n",
      "mzn-stat: method=\"satisfy\"\n",
      "mzn-stat: flatTime=0.250852\n",
      "mzn-stat-end\n",
      "mzn-stat: initTime=0.035\n",
      "mzn-stat: solveTime=0.001\n",
      "mzn-stat: solutions=1\n",
      "mzn-stat: variables=753\n",
      "mzn-stat: propagators=567\n",
      "mzn-stat: propagations=2284\n",
      "mzn-stat: nodes=26\n",
      "mzn-stat: failures=2\n",
      "mzn-stat: restarts=0\n",
      "mzn-stat: peakDepth=23\n",
      "mzn-stat-end\n"
     ]
    },
    {
     "data": {
      "image/png": "[encoded data removed]",
      "text/plain": [
       "<Figure size 432x288 with 1 Axes>"
      ]
     },
     "metadata": {
      "needs_background": "light"
     },
     "output_type": "display_data"
    },
    {
     "name": "stdout",
     "output_type": "stream",
     "text": [
      "Solution: [[37, 37], [31, 36], [31, 31], [31, 25], [37, 30], [37, 22], [31, 16], [37, 12], [37, 0], [31, 0], [34, 0], [27, 36], [27, 0], [27, 14], [22, 33], [22, 36], [22, 25], [22, 0], [22, 12], [0, 0]]\n",
      "[w, h]:   [[3, 3], [3, 4], [3, 5], [3, 6], [3, 7], [3, 8], [3, 9], [3, 10], [3, 12], [3, 16], [3, 40], [4, 4], [4, 14], [4, 22], [5, 3], [5, 4], [5, 8], [5, 12], [5, 13], [22, 40]]\n",
      "\n",
      "Pieces: [[3, 3], [3, 4], [3, 5], [3, 6], [3, 7], [3, 8], [3, 9], [3, 10], [3, 12], [3, 16], [3, 40], [4, 4], [4, 14], [4, 22], [5, 3], [5, 4], [5, 8], [5, 12], [5, 13], [22, 40]]\n",
      "\n",
      "\n",
      "\n"
     ]
    }
   ],
   "source": [
    "\"\"\"\n",
    "Run this part 6 times changing the search_ann (I-min, ff-min, DomWdeg-min, I-rand, ff-rand, DomWdeg-rand) in the model.\n",
    "\"\"\"\n",
    "\n",
    "starting_instance = 8\n",
    "ending_instance = 40\n",
    "\n",
    "for i in range(starting_instance, ending_instance+1):\n",
    "    path = f\"CP/Instances/{i}x{i}.txt\"\n",
    "    pr_w, pr_h, n_pieces, L = read_instance(path)\n",
    "    \n",
    "    print(f\"|| === Instance {i}x{i} === ||\")\n",
    "    # execute the model to get the first solution in 5 min max\n",
    "    sol = %minizinc -s CP/$model_name -t 300000\n",
    "    \n",
    "    if sol is not None:\n",
    "        graph_solution(pr_w, pr_h, n_pieces, L, sol['q'])\n",
    "        #save_solution(\"CP/out\", pr_w, pr_h, n_pieces, L, sol) #-uncomment this line to save the solution of each instance\n",
    "    else:\n",
    "        print(\"No solution found in 5min\")\n",
    "    \n",
    "    print(f\"Pieces: {L}\")\n",
    "    print(\"\\n\\n\")"
   ]
  },
  {
   "cell_type": "markdown",
   "metadata": {},
   "source": [
    "ROTATION"
   ]
  },
  {
   "cell_type": "code",
   "execution_count": 35,
   "metadata": {},
   "outputs": [
    {
     "name": "stdout",
     "output_type": "stream",
     "text": [
      "%%%mzn-stat: nSolutions=32\n",
      "Solver output:\n",
      "Generated FlatZinc statistics:\n",
      "mzn-stat: paths=0\n",
      "mzn-stat: flatBoolVars=40\n",
      "mzn-stat: flatIntVars=34\n",
      "mzn-stat: flatBoolConstraints=10\n",
      "mzn-stat: flatIntConstraints=72\n",
      "mzn-stat: evaluatedHalfReifiedConstraints=40\n",
      "mzn-stat: method=\"satisfy\"\n",
      "mzn-stat: flatTime=0.166371\n",
      "mzn-stat-end\n",
      "mzn-stat: initTime=0.013\n",
      "mzn-stat: solveTime=0.004\n",
      "mzn-stat: solutions=32\n",
      "mzn-stat: variables=77\n",
      "mzn-stat: propagators=92\n",
      "mzn-stat: propagations=14793\n",
      "mzn-stat: nodes=325\n",
      "mzn-stat: failures=131\n",
      "mzn-stat: restarts=0\n",
      "mzn-stat: peakDepth=18\n",
      "mzn-stat-end\n",
      "0 : [[0, 0], [0, 3], [0, 6], [5, 6], [6, 3]] \n",
      "rotation: [1, 1, 1, 1, 0]\n"
     ]
    },
    {
     "data": {
      "image/png": "[encoded data removed]",
      "text/plain": [
       "<Figure size 432x288 with 1 Axes>"
      ]
     },
     "metadata": {
      "needs_background": "light"
     },
     "output_type": "display_data"
    },
    {
     "name": "stdout",
     "output_type": "stream",
     "text": [
      "Solution: [[0, 0], [0, 3], [0, 6], [5, 6], [6, 3]]\n",
      "[w, h]:   [[9, 3], [6, 3], [5, 3], [4, 3], [3, 3]]\n",
      "\n",
      "1 : [[0, 0], [0, 6], [0, 3], [5, 3], [6, 6]] \n",
      "rotation: [1, 1, 1, 1, 0]\n"
     ]
    },
    {
     "data": {
      "image/png": "[encoded data removed]",
      "text/plain": [
       "<Figure size 432x288 with 1 Axes>"
      ]
     },
     "metadata": {
      "needs_background": "light"
     },
     "output_type": "display_data"
    },
    {
     "name": "stdout",
     "output_type": "stream",
     "text": [
      "Solution: [[0, 0], [0, 6], [0, 3], [5, 3], [6, 6]]\n",
      "[w, h]:   [[9, 3], [6, 3], [5, 3], [4, 3], [3, 3]]\n",
      "\n",
      "2 : [[0, 3], [0, 0], [0, 6], [5, 6], [6, 0]] \n",
      "rotation: [1, 1, 1, 1, 0]\n"
     ]
    },
    {
     "data": {
      "image/png": "[encoded data removed]",
      "text/plain": [
       "<Figure size 432x288 with 1 Axes>"
      ]
     },
     "metadata": {
      "needs_background": "light"
     },
     "output_type": "display_data"
    },
    {
     "name": "stdout",
     "output_type": "stream",
     "text": [
      "Solution: [[0, 3], [0, 0], [0, 6], [5, 6], [6, 0]]\n",
      "[w, h]:   [[9, 3], [6, 3], [5, 3], [4, 3], [3, 3]]\n",
      "\n",
      "3 : [[0, 3], [0, 6], [0, 0], [5, 0], [6, 6]] \n",
      "rotation: [1, 1, 1, 1, 0]\n"
     ]
    },
    {
     "data": {
      "image/png": "[encoded data removed]",
      "text/plain": [
       "<Figure size 432x288 with 1 Axes>"
      ]
     },
     "metadata": {
      "needs_background": "light"
     },
     "output_type": "display_data"
    },
    {
     "name": "stdout",
     "output_type": "stream",
     "text": [
      "Solution: [[0, 3], [0, 6], [0, 0], [5, 0], [6, 6]]\n",
      "[w, h]:   [[9, 3], [6, 3], [5, 3], [4, 3], [3, 3]]\n",
      "\n",
      "4 : [[0, 0], [0, 3], [4, 6], [0, 6], [6, 3]] \n",
      "rotation: [1, 1, 1, 1, 0]\n"
     ]
    },
    {
     "data": {
      "image/png": "[encoded data removed]",
      "text/plain": [
       "<Figure size 432x288 with 1 Axes>"
      ]
     },
     "metadata": {
      "needs_background": "light"
     },
     "output_type": "display_data"
    },
    {
     "name": "stdout",
     "output_type": "stream",
     "text": [
      "Solution: [[0, 0], [0, 3], [4, 6], [0, 6], [6, 3]]\n",
      "[w, h]:   [[9, 3], [6, 3], [5, 3], [4, 3], [3, 3]]\n",
      "\n",
      "5 : [[0, 0], [0, 6], [4, 3], [0, 3], [6, 6]] \n",
      "rotation: [1, 1, 1, 1, 0]\n"
     ]
    },
    {
     "data": {
      "image/png": "[encoded data removed]",
      "text/plain": [
       "<Figure size 432x288 with 1 Axes>"
      ]
     },
     "metadata": {
      "needs_background": "light"
     },
     "output_type": "display_data"
    },
    {
     "name": "stdout",
     "output_type": "stream",
     "text": [
      "Solution: [[0, 0], [0, 6], [4, 3], [0, 3], [6, 6]]\n",
      "[w, h]:   [[9, 3], [6, 3], [5, 3], [4, 3], [3, 3]]\n",
      "\n",
      "6 : [[0, 3], [0, 0], [4, 6], [0, 6], [6, 0]] \n",
      "rotation: [1, 1, 1, 1, 0]\n"
     ]
    },
    {
     "data": {
      "image/png": "[encoded data removed]",
      "text/plain": [
       "<Figure size 432x288 with 1 Axes>"
      ]
     },
     "metadata": {
      "needs_background": "light"
     },
     "output_type": "display_data"
    },
    {
     "name": "stdout",
     "output_type": "stream",
     "text": [
      "Solution: [[0, 3], [0, 0], [4, 6], [0, 6], [6, 0]]\n",
      "[w, h]:   [[9, 3], [6, 3], [5, 3], [4, 3], [3, 3]]\n",
      "\n",
      "7 : [[0, 3], [0, 6], [4, 0], [0, 0], [6, 6]] \n",
      "rotation: [1, 1, 1, 1, 0]\n"
     ]
    },
    {
     "data": {
      "image/png": "[encoded data removed]",
      "text/plain": [
       "<Figure size 432x288 with 1 Axes>"
      ]
     },
     "metadata": {
      "needs_background": "light"
     },
     "output_type": "display_data"
    },
    {
     "name": "stdout",
     "output_type": "stream",
     "text": [
      "Solution: [[0, 3], [0, 6], [4, 0], [0, 0], [6, 6]]\n",
      "[w, h]:   [[9, 3], [6, 3], [5, 3], [4, 3], [3, 3]]\n",
      "\n",
      "8 : [[0, 3], [3, 0], [0, 6], [5, 6], [0, 0]] \n",
      "rotation: [1, 1, 1, 1, 0]\n"
     ]
    },
    {
     "data": {
      "image/png": "[encoded data removed]",
      "text/plain": [
       "<Figure size 432x288 with 1 Axes>"
      ]
     },
     "metadata": {
      "needs_background": "light"
     },
     "output_type": "display_data"
    },
    {
     "name": "stdout",
     "output_type": "stream",
     "text": [
      "Solution: [[0, 3], [3, 0], [0, 6], [5, 6], [0, 0]]\n",
      "[w, h]:   [[9, 3], [6, 3], [5, 3], [4, 3], [3, 3]]\n",
      "\n",
      "9 : [[0, 0], [3, 3], [0, 6], [5, 6], [0, 3]] \n",
      "rotation: [1, 1, 1, 1, 0]\n"
     ]
    },
    {
     "data": {
      "image/png": "[encoded data removed]",
      "text/plain": [
       "<Figure size 432x288 with 1 Axes>"
      ]
     },
     "metadata": {
      "needs_background": "light"
     },
     "output_type": "display_data"
    },
    {
     "name": "stdout",
     "output_type": "stream",
     "text": [
      "Solution: [[0, 0], [3, 3], [0, 6], [5, 6], [0, 3]]\n",
      "[w, h]:   [[9, 3], [6, 3], [5, 3], [4, 3], [3, 3]]\n",
      "\n",
      "10 : [[0, 3], [3, 6], [0, 0], [5, 0], [0, 6]] \n",
      "rotation: [1, 1, 1, 1, 0]\n"
     ]
    },
    {
     "data": {
      "image/png": "[encoded data removed]",
      "text/plain": [
       "<Figure size 432x288 with 1 Axes>"
      ]
     },
     "metadata": {
      "needs_background": "light"
     },
     "output_type": "display_data"
    },
    {
     "name": "stdout",
     "output_type": "stream",
     "text": [
      "Solution: [[0, 3], [3, 6], [0, 0], [5, 0], [0, 6]]\n",
      "[w, h]:   [[9, 3], [6, 3], [5, 3], [4, 3], [3, 3]]\n",
      "\n",
      "11 : [[0, 0], [3, 6], [0, 3], [5, 3], [0, 6]] \n",
      "rotation: [1, 1, 1, 1, 0]\n"
     ]
    },
    {
     "data": {
      "image/png": "[encoded data removed]",
      "text/plain": [
       "<Figure size 432x288 with 1 Axes>"
      ]
     },
     "metadata": {
      "needs_background": "light"
     },
     "output_type": "display_data"
    },
    {
     "name": "stdout",
     "output_type": "stream",
     "text": [
      "Solution: [[0, 0], [3, 6], [0, 3], [5, 3], [0, 6]]\n",
      "[w, h]:   [[9, 3], [6, 3], [5, 3], [4, 3], [3, 3]]\n",
      "\n",
      "12 : [[0, 3], [3, 0], [4, 6], [0, 6], [0, 0]] \n",
      "rotation: [1, 1, 1, 1, 0]\n"
     ]
    },
    {
     "data": {
      "image/png": "[encoded data removed]",
      "text/plain": [
       "<Figure size 432x288 with 1 Axes>"
      ]
     },
     "metadata": {
      "needs_background": "light"
     },
     "output_type": "display_data"
    },
    {
     "name": "stdout",
     "output_type": "stream",
     "text": [
      "Solution: [[0, 3], [3, 0], [4, 6], [0, 6], [0, 0]]\n",
      "[w, h]:   [[9, 3], [6, 3], [5, 3], [4, 3], [3, 3]]\n",
      "\n",
      "13 : [[0, 0], [3, 3], [4, 6], [0, 6], [0, 3]] \n",
      "rotation: [1, 1, 1, 1, 0]\n"
     ]
    },
    {
     "data": {
      "image/png": "[encoded data removed]",
      "text/plain": [
       "<Figure size 432x288 with 1 Axes>"
      ]
     },
     "metadata": {
      "needs_background": "light"
     },
     "output_type": "display_data"
    },
    {
     "name": "stdout",
     "output_type": "stream",
     "text": [
      "Solution: [[0, 0], [3, 3], [4, 6], [0, 6], [0, 3]]\n",
      "[w, h]:   [[9, 3], [6, 3], [5, 3], [4, 3], [3, 3]]\n",
      "\n",
      "14 : [[0, 3], [3, 6], [4, 0], [0, 0], [0, 6]] \n",
      "rotation: [1, 1, 1, 1, 0]\n"
     ]
    },
    {
     "data": {
      "image/png": "[encoded data removed]",
      "text/plain": [
       "<Figure size 432x288 with 1 Axes>"
      ]
     },
     "metadata": {
      "needs_background": "light"
     },
     "output_type": "display_data"
    },
    {
     "name": "stdout",
     "output_type": "stream",
     "text": [
      "Solution: [[0, 3], [3, 6], [4, 0], [0, 0], [0, 6]]\n",
      "[w, h]:   [[9, 3], [6, 3], [5, 3], [4, 3], [3, 3]]\n",
      "\n",
      "15 : [[0, 0], [3, 6], [4, 3], [0, 3], [0, 6]] \n",
      "rotation: [1, 1, 1, 1, 0]\n"
     ]
    },
    {
     "data": {
      "image/png": "[encoded data removed]",
      "text/plain": [
       "<Figure size 432x288 with 1 Axes>"
      ]
     },
     "metadata": {
      "needs_background": "light"
     },
     "output_type": "display_data"
    },
    {
     "name": "stdout",
     "output_type": "stream",
     "text": [
      "Solution: [[0, 0], [3, 6], [4, 3], [0, 3], [0, 6]]\n",
      "[w, h]:   [[9, 3], [6, 3], [5, 3], [4, 3], [3, 3]]\n",
      "\n",
      "16 : [[0, 0], [3, 3], [6, 4], [6, 0], [3, 0]] \n",
      "rotation: [0, 0, 0, 0, 0]\n"
     ]
    },
    {
     "data": {
      "image/png": "[encoded data removed]",
      "text/plain": [
       "<Figure size 432x288 with 1 Axes>"
      ]
     },
     "metadata": {
      "needs_background": "light"
     },
     "output_type": "display_data"
    },
    {
     "name": "stdout",
     "output_type": "stream",
     "text": [
      "Solution: [[0, 0], [3, 3], [6, 4], [6, 0], [3, 0]]\n",
      "[w, h]:   [[3, 9], [3, 6], [3, 5], [3, 4], [3, 3]]\n",
      "\n",
      "17 : [[0, 0], [3, 0], [6, 4], [6, 0], [3, 6]] \n",
      "rotation: [0, 0, 0, 0, 0]\n"
     ]
    },
    {
     "data": {
      "image/png": "[encoded data removed]",
      "text/plain": [
       "<Figure size 432x288 with 1 Axes>"
      ]
     },
     "metadata": {
      "needs_background": "light"
     },
     "output_type": "display_data"
    },
    {
     "name": "stdout",
     "output_type": "stream",
     "text": [
      "Solution: [[0, 0], [3, 0], [6, 4], [6, 0], [3, 6]]\n",
      "[w, h]:   [[3, 9], [3, 6], [3, 5], [3, 4], [3, 3]]\n",
      "\n",
      "18 : [[0, 0], [3, 3], [6, 0], [6, 5], [3, 0]] \n",
      "rotation: [0, 0, 0, 0, 0]\n"
     ]
    },
    {
     "data": {
      "image/png": "[encoded data removed]",
      "text/plain": [
       "<Figure size 432x288 with 1 Axes>"
      ]
     },
     "metadata": {
      "needs_background": "light"
     },
     "output_type": "display_data"
    },
    {
     "name": "stdout",
     "output_type": "stream",
     "text": [
      "Solution: [[0, 0], [3, 3], [6, 0], [6, 5], [3, 0]]\n",
      "[w, h]:   [[3, 9], [3, 6], [3, 5], [3, 4], [3, 3]]\n",
      "\n",
      "19 : [[0, 0], [3, 0], [6, 0], [6, 5], [3, 6]] \n",
      "rotation: [0, 0, 0, 0, 0]\n"
     ]
    },
    {
     "data": {
      "image/png": "[encoded data removed]",
      "text/plain": [
       "<Figure size 432x288 with 1 Axes>"
      ]
     },
     "metadata": {
      "needs_background": "light"
     },
     "output_type": "display_data"
    },
    {
     "name": "stdout",
     "output_type": "stream",
     "text": [
      "Solution: [[0, 0], [3, 0], [6, 0], [6, 5], [3, 6]]\n",
      "[w, h]:   [[3, 9], [3, 6], [3, 5], [3, 4], [3, 3]]\n",
      "\n",
      "20 : [[0, 0], [6, 3], [3, 4], [3, 0], [6, 0]] \n",
      "rotation: [0, 0, 0, 0, 0]\n"
     ]
    },
    {
     "data": {
      "image/png": "[encoded data removed]",
      "text/plain": [
       "<Figure size 432x288 with 1 Axes>"
      ]
     },
     "metadata": {
      "needs_background": "light"
     },
     "output_type": "display_data"
    },
    {
     "name": "stdout",
     "output_type": "stream",
     "text": [
      "Solution: [[0, 0], [6, 3], [3, 4], [3, 0], [6, 0]]\n",
      "[w, h]:   [[3, 9], [3, 6], [3, 5], [3, 4], [3, 3]]\n",
      "\n",
      "21 : [[0, 0], [6, 0], [3, 4], [3, 0], [6, 6]] \n",
      "rotation: [0, 0, 0, 0, 0]\n"
     ]
    },
    {
     "data": {
      "image/png": "[encoded data removed]",
      "text/plain": [
       "<Figure size 432x288 with 1 Axes>"
      ]
     },
     "metadata": {
      "needs_background": "light"
     },
     "output_type": "display_data"
    },
    {
     "name": "stdout",
     "output_type": "stream",
     "text": [
      "Solution: [[0, 0], [6, 0], [3, 4], [3, 0], [6, 6]]\n",
      "[w, h]:   [[3, 9], [3, 6], [3, 5], [3, 4], [3, 3]]\n",
      "\n",
      "22 : [[0, 0], [6, 3], [3, 0], [3, 5], [6, 0]] \n",
      "rotation: [0, 0, 0, 0, 0]\n"
     ]
    },
    {
     "data": {
      "image/png": "[encoded data removed]",
      "text/plain": [
       "<Figure size 432x288 with 1 Axes>"
      ]
     },
     "metadata": {
      "needs_background": "light"
     },
     "output_type": "display_data"
    },
    {
     "name": "stdout",
     "output_type": "stream",
     "text": [
      "Solution: [[0, 0], [6, 3], [3, 0], [3, 5], [6, 0]]\n",
      "[w, h]:   [[3, 9], [3, 6], [3, 5], [3, 4], [3, 3]]\n",
      "\n",
      "23 : [[0, 0], [6, 0], [3, 0], [3, 5], [6, 6]] \n",
      "rotation: [0, 0, 0, 0, 0]\n"
     ]
    },
    {
     "data": {
      "image/png": "[encoded data removed]",
      "text/plain": [
       "<Figure size 432x288 with 1 Axes>"
      ]
     },
     "metadata": {
      "needs_background": "light"
     },
     "output_type": "display_data"
    },
    {
     "name": "stdout",
     "output_type": "stream",
     "text": [
      "Solution: [[0, 0], [6, 0], [3, 0], [3, 5], [6, 6]]\n",
      "[w, h]:   [[3, 9], [3, 6], [3, 5], [3, 4], [3, 3]]\n",
      "\n",
      "24 : [[3, 0], [0, 3], [6, 4], [6, 0], [0, 0]] \n",
      "rotation: [0, 0, 0, 0, 0]\n"
     ]
    },
    {
     "data": {
      "image/png": "[encoded data removed]",
      "text/plain": [
       "<Figure size 432x288 with 1 Axes>"
      ]
     },
     "metadata": {
      "needs_background": "light"
     },
     "output_type": "display_data"
    },
    {
     "name": "stdout",
     "output_type": "stream",
     "text": [
      "Solution: [[3, 0], [0, 3], [6, 4], [6, 0], [0, 0]]\n",
      "[w, h]:   [[3, 9], [3, 6], [3, 5], [3, 4], [3, 3]]\n",
      "\n",
      "25 : [[3, 0], [0, 0], [6, 4], [6, 0], [0, 6]] \n",
      "rotation: [0, 0, 0, 0, 0]\n"
     ]
    },
    {
     "data": {
      "image/png": "[encoded data removed]",
      "text/plain": [
       "<Figure size 432x288 with 1 Axes>"
      ]
     },
     "metadata": {
      "needs_background": "light"
     },
     "output_type": "display_data"
    },
    {
     "name": "stdout",
     "output_type": "stream",
     "text": [
      "Solution: [[3, 0], [0, 0], [6, 4], [6, 0], [0, 6]]\n",
      "[w, h]:   [[3, 9], [3, 6], [3, 5], [3, 4], [3, 3]]\n",
      "\n",
      "26 : [[3, 0], [0, 3], [6, 0], [6, 5], [0, 0]] \n",
      "rotation: [0, 0, 0, 0, 0]\n"
     ]
    },
    {
     "data": {
      "image/png": "[encoded data removed]",
      "text/plain": [
       "<Figure size 432x288 with 1 Axes>"
      ]
     },
     "metadata": {
      "needs_background": "light"
     },
     "output_type": "display_data"
    },
    {
     "name": "stdout",
     "output_type": "stream",
     "text": [
      "Solution: [[3, 0], [0, 3], [6, 0], [6, 5], [0, 0]]\n",
      "[w, h]:   [[3, 9], [3, 6], [3, 5], [3, 4], [3, 3]]\n",
      "\n",
      "27 : [[3, 0], [0, 0], [6, 0], [6, 5], [0, 6]] \n",
      "rotation: [0, 0, 0, 0, 0]\n"
     ]
    },
    {
     "data": {
      "image/png": "[encoded data removed]",
      "text/plain": [
       "<Figure size 432x288 with 1 Axes>"
      ]
     },
     "metadata": {
      "needs_background": "light"
     },
     "output_type": "display_data"
    },
    {
     "name": "stdout",
     "output_type": "stream",
     "text": [
      "Solution: [[3, 0], [0, 0], [6, 0], [6, 5], [0, 6]]\n",
      "[w, h]:   [[3, 9], [3, 6], [3, 5], [3, 4], [3, 3]]\n",
      "\n",
      "28 : [[3, 0], [6, 3], [0, 4], [0, 0], [6, 0]] \n",
      "rotation: [0, 0, 0, 0, 0]\n"
     ]
    },
    {
     "data": {
      "image/png": "[encoded data removed]",
      "text/plain": [
       "<Figure size 432x288 with 1 Axes>"
      ]
     },
     "metadata": {
      "needs_background": "light"
     },
     "output_type": "display_data"
    },
    {
     "name": "stdout",
     "output_type": "stream",
     "text": [
      "Solution: [[3, 0], [6, 3], [0, 4], [0, 0], [6, 0]]\n",
      "[w, h]:   [[3, 9], [3, 6], [3, 5], [3, 4], [3, 3]]\n",
      "\n",
      "29 : [[3, 0], [6, 0], [0, 4], [0, 0], [6, 6]] \n",
      "rotation: [0, 0, 0, 0, 0]\n"
     ]
    },
    {
     "data": {
      "image/png": "[encoded data removed]",
      "text/plain": [
       "<Figure size 432x288 with 1 Axes>"
      ]
     },
     "metadata": {
      "needs_background": "light"
     },
     "output_type": "display_data"
    },
    {
     "name": "stdout",
     "output_type": "stream",
     "text": [
      "Solution: [[3, 0], [6, 0], [0, 4], [0, 0], [6, 6]]\n",
      "[w, h]:   [[3, 9], [3, 6], [3, 5], [3, 4], [3, 3]]\n",
      "\n",
      "30 : [[3, 0], [6, 3], [0, 0], [0, 5], [6, 0]] \n",
      "rotation: [0, 0, 0, 0, 0]\n"
     ]
    },
    {
     "data": {
      "image/png": "[encoded data removed]",
      "text/plain": [
       "<Figure size 432x288 with 1 Axes>"
      ]
     },
     "metadata": {
      "needs_background": "light"
     },
     "output_type": "display_data"
    },
    {
     "name": "stdout",
     "output_type": "stream",
     "text": [
      "Solution: [[3, 0], [6, 3], [0, 0], [0, 5], [6, 0]]\n",
      "[w, h]:   [[3, 9], [3, 6], [3, 5], [3, 4], [3, 3]]\n",
      "\n",
      "31 : [[3, 0], [6, 0], [0, 0], [0, 5], [6, 6]] \n",
      "rotation: [0, 0, 0, 0, 0]\n"
     ]
    },
    {
     "data": {
      "image/png": "[encoded data removed]",
      "text/plain": [
       "<Figure size 432x288 with 1 Axes>"
      ]
     },
     "metadata": {
      "needs_background": "light"
     },
     "output_type": "display_data"
    },
    {
     "name": "stdout",
     "output_type": "stream",
     "text": [
      "Solution: [[3, 0], [6, 0], [0, 0], [0, 5], [6, 6]]\n",
      "[w, h]:   [[3, 9], [3, 6], [3, 5], [3, 4], [3, 3]]\n",
      "\n",
      "Tot: 32\n",
      "\n"
     ]
    }
   ],
   "source": [
    "model_name = \"pwp_v8-rot.mzn\"\n",
    "instance_name = \"9x9\"\n",
    "\n",
    "path = f\"CP/Instances/{instance_name}.txt\"\n",
    "pr_w, pr_h, n_pieces, L = read_instance(path)\n",
    "unordered_pieces = list(L)\n",
    "decr_order = True\n",
    "\n",
    "L = order_pieces(unordered_pieces, reverse=decr_order)\n",
    "\n",
    "solutions = %minizinc -a -s CP/$model_name -t 300000\n",
    "\n",
    "# Update L for each piece rotated\n",
    "\n",
    "print_solutions(solutions, {'w': pr_w, 'h': pr_h, 'n': n_pieces, 'p': L})\n",
    "#save_solution(\"CP/out\", pr_w, pr_h, n_pieces, L, solutions) #-uncomment this line to save the solution(with rotation)"
   ]
  },
  {
   "cell_type": "code",
   "execution_count": 44,
   "metadata": {},
   "outputs": [
    {
     "name": "stdout",
     "output_type": "stream",
     "text": [
      "%%%mzn-stat: nSolutions=26\n",
      "Solver output:\n",
      "Generated FlatZinc statistics:\n",
      "mzn-stat: paths=0\n",
      "mzn-stat: flatBoolVars=61\n",
      "mzn-stat: flatIntVars=24\n",
      "mzn-stat: flatBoolConstraints=16\n",
      "mzn-stat: flatIntConstraints=77\n",
      "mzn-stat: evaluatedHalfReifiedConstraints=61\n",
      "mzn-stat: method=\"satisfy\"\n",
      "mzn-stat: flatTime=0.158469\n",
      "mzn-stat-end\n",
      "mzn-stat: initTime=0.012\n",
      "mzn-stat: solveTime=0.001\n",
      "mzn-stat: solutions=26\n",
      "mzn-stat: variables=89\n",
      "mzn-stat: propagators=75\n",
      "mzn-stat: propagations=3638\n",
      "mzn-stat: nodes=111\n",
      "mzn-stat: failures=30\n",
      "mzn-stat: restarts=0\n",
      "mzn-stat: peakDepth=6\n",
      "mzn-stat-end\n",
      "0 : [[0, 0], [0, 3], [0, 6], [6, 5], [4, 6], [6, 3]] \n"
     ]
    },
    {
     "data": {
      "image/png": "[encoded data removed]",
      "text/plain": [
       "<Figure size 432x288 with 1 Axes>"
      ]
     },
     "metadata": {
      "needs_background": "light"
     },
     "output_type": "display_data"
    },
    {
     "name": "stdout",
     "output_type": "stream",
     "text": [
      "Solution: [[0, 0], [0, 3], [0, 6], [6, 5], [4, 6], [6, 3]]\n",
      "[w, h]:   [[8, 3], [6, 3], [4, 2], [2, 3], [2, 2], [2, 2]]\n",
      "\n",
      "1 : [[0, 0], [0, 5], [0, 3], [6, 5], [4, 3], [6, 3]] \n"
     ]
    },
    {
     "data": {
      "image/png": "[encoded data removed]",
      "text/plain": [
       "<Figure size 432x288 with 1 Axes>"
      ]
     },
     "metadata": {
      "needs_background": "light"
     },
     "output_type": "display_data"
    },
    {
     "name": "stdout",
     "output_type": "stream",
     "text": [
      "Solution: [[0, 0], [0, 5], [0, 3], [6, 5], [4, 3], [6, 3]]\n",
      "[w, h]:   [[8, 3], [6, 3], [4, 2], [2, 3], [2, 2], [2, 2]]\n",
      "\n",
      "2 : [[0, 0], [0, 3], [0, 6], [6, 3], [4, 6], [6, 6]] \n"
     ]
    },
    {
     "data": {
      "image/png": "[encoded data removed]",
      "text/plain": [
       "<Figure size 432x288 with 1 Axes>"
      ]
     },
     "metadata": {
      "needs_background": "light"
     },
     "output_type": "display_data"
    },
    {
     "name": "stdout",
     "output_type": "stream",
     "text": [
      "Solution: [[0, 0], [0, 3], [0, 6], [6, 3], [4, 6], [6, 6]]\n",
      "[w, h]:   [[8, 3], [6, 3], [4, 2], [2, 3], [2, 2], [2, 2]]\n",
      "\n",
      "3 : [[0, 0], [0, 5], [0, 3], [6, 3], [4, 3], [6, 6]] \n"
     ]
    },
    {
     "data": {
      "image/png": "[encoded data removed]",
      "text/plain": [
       "<Figure size 432x288 with 1 Axes>"
      ]
     },
     "metadata": {
      "needs_background": "light"
     },
     "output_type": "display_data"
    },
    {
     "name": "stdout",
     "output_type": "stream",
     "text": [
      "Solution: [[0, 0], [0, 5], [0, 3], [6, 3], [4, 3], [6, 6]]\n",
      "[w, h]:   [[8, 3], [6, 3], [4, 2], [2, 3], [2, 2], [2, 2]]\n",
      "\n",
      "4 : [[0, 2], [0, 5], [0, 0], [6, 5], [4, 0], [6, 0]] \n"
     ]
    },
    {
     "data": {
      "image/png": "[encoded data removed]",
      "text/plain": [
       "<Figure size 432x288 with 1 Axes>"
      ]
     },
     "metadata": {
      "needs_background": "light"
     },
     "output_type": "display_data"
    },
    {
     "name": "stdout",
     "output_type": "stream",
     "text": [
      "Solution: [[0, 2], [0, 5], [0, 0], [6, 5], [4, 0], [6, 0]]\n",
      "[w, h]:   [[8, 3], [6, 3], [4, 2], [2, 3], [2, 2], [2, 2]]\n",
      "\n",
      "5 : [[0, 0], [0, 3], [2, 6], [6, 5], [0, 6], [6, 3]] \n"
     ]
    },
    {
     "data": {
      "image/png": "[encoded data removed]",
      "text/plain": [
       "<Figure size 432x288 with 1 Axes>"
      ]
     },
     "metadata": {
      "needs_background": "light"
     },
     "output_type": "display_data"
    },
    {
     "name": "stdout",
     "output_type": "stream",
     "text": [
      "Solution: [[0, 0], [0, 3], [2, 6], [6, 5], [0, 6], [6, 3]]\n",
      "[w, h]:   [[8, 3], [6, 3], [4, 2], [2, 3], [2, 2], [2, 2]]\n",
      "\n",
      "6 : [[0, 0], [0, 5], [2, 3], [6, 5], [0, 3], [6, 3]] \n"
     ]
    },
    {
     "data": {
      "image/png": "[encoded data removed]",
      "text/plain": [
       "<Figure size 432x288 with 1 Axes>"
      ]
     },
     "metadata": {
      "needs_background": "light"
     },
     "output_type": "display_data"
    },
    {
     "name": "stdout",
     "output_type": "stream",
     "text": [
      "Solution: [[0, 0], [0, 5], [2, 3], [6, 5], [0, 3], [6, 3]]\n",
      "[w, h]:   [[8, 3], [6, 3], [4, 2], [2, 3], [2, 2], [2, 2]]\n",
      "\n",
      "7 : [[0, 0], [0, 3], [2, 6], [6, 3], [0, 6], [6, 6]] \n"
     ]
    },
    {
     "data": {
      "image/png": "[encoded data removed]",
      "text/plain": [
       "<Figure size 432x288 with 1 Axes>"
      ]
     },
     "metadata": {
      "needs_background": "light"
     },
     "output_type": "display_data"
    },
    {
     "name": "stdout",
     "output_type": "stream",
     "text": [
      "Solution: [[0, 0], [0, 3], [2, 6], [6, 3], [0, 6], [6, 6]]\n",
      "[w, h]:   [[8, 3], [6, 3], [4, 2], [2, 3], [2, 2], [2, 2]]\n",
      "\n",
      "8 : [[0, 0], [0, 5], [2, 3], [6, 3], [0, 3], [6, 6]] \n"
     ]
    },
    {
     "data": {
      "image/png": "[encoded data removed]",
      "text/plain": [
       "<Figure size 432x288 with 1 Axes>"
      ]
     },
     "metadata": {
      "needs_background": "light"
     },
     "output_type": "display_data"
    },
    {
     "name": "stdout",
     "output_type": "stream",
     "text": [
      "Solution: [[0, 0], [0, 5], [2, 3], [6, 3], [0, 3], [6, 6]]\n",
      "[w, h]:   [[8, 3], [6, 3], [4, 2], [2, 3], [2, 2], [2, 2]]\n",
      "\n",
      "9 : [[0, 2], [0, 5], [2, 0], [6, 5], [0, 0], [6, 0]] \n"
     ]
    },
    {
     "data": {
      "image/png": "[encoded data removed]",
      "text/plain": [
       "<Figure size 432x288 with 1 Axes>"
      ]
     },
     "metadata": {
      "needs_background": "light"
     },
     "output_type": "display_data"
    },
    {
     "name": "stdout",
     "output_type": "stream",
     "text": [
      "Solution: [[0, 2], [0, 5], [2, 0], [6, 5], [0, 0], [6, 0]]\n",
      "[w, h]:   [[8, 3], [6, 3], [4, 2], [2, 3], [2, 2], [2, 2]]\n",
      "\n",
      "10 : [[0, 0], [0, 5], [4, 3], [6, 5], [0, 3], [2, 3]] \n"
     ]
    },
    {
     "data": {
      "image/png": "[encoded data removed]",
      "text/plain": [
       "<Figure size 432x288 with 1 Axes>"
      ]
     },
     "metadata": {
      "needs_background": "light"
     },
     "output_type": "display_data"
    },
    {
     "name": "stdout",
     "output_type": "stream",
     "text": [
      "Solution: [[0, 0], [0, 5], [4, 3], [6, 5], [0, 3], [2, 3]]\n",
      "[w, h]:   [[8, 3], [6, 3], [4, 2], [2, 3], [2, 2], [2, 2]]\n",
      "\n",
      "11 : [[0, 0], [0, 3], [4, 6], [6, 3], [0, 6], [2, 6]] \n"
     ]
    },
    {
     "data": {
      "image/png": "[encoded data removed]",
      "text/plain": [
       "<Figure size 432x288 with 1 Axes>"
      ]
     },
     "metadata": {
      "needs_background": "light"
     },
     "output_type": "display_data"
    },
    {
     "name": "stdout",
     "output_type": "stream",
     "text": [
      "Solution: [[0, 0], [0, 3], [4, 6], [6, 3], [0, 6], [2, 6]]\n",
      "[w, h]:   [[8, 3], [6, 3], [4, 2], [2, 3], [2, 2], [2, 2]]\n",
      "\n",
      "12 : [[0, 2], [0, 5], [4, 0], [6, 5], [0, 0], [2, 0]] \n"
     ]
    },
    {
     "data": {
      "image/png": "[encoded data removed]",
      "text/plain": [
       "<Figure size 432x288 with 1 Axes>"
      ]
     },
     "metadata": {
      "needs_background": "light"
     },
     "output_type": "display_data"
    },
    {
     "name": "stdout",
     "output_type": "stream",
     "text": [
      "Solution: [[0, 2], [0, 5], [4, 0], [6, 5], [0, 0], [2, 0]]\n",
      "[w, h]:   [[8, 3], [6, 3], [4, 2], [2, 3], [2, 2], [2, 2]]\n",
      "\n",
      "13 : [[0, 0], [2, 5], [0, 3], [0, 5], [4, 3], [6, 3]] \n"
     ]
    },
    {
     "data": {
      "image/png": "[encoded data removed]",
      "text/plain": [
       "<Figure size 432x288 with 1 Axes>"
      ]
     },
     "metadata": {
      "needs_background": "light"
     },
     "output_type": "display_data"
    },
    {
     "name": "stdout",
     "output_type": "stream",
     "text": [
      "Solution: [[0, 0], [2, 5], [0, 3], [0, 5], [4, 3], [6, 3]]\n",
      "[w, h]:   [[8, 3], [6, 3], [4, 2], [2, 3], [2, 2], [2, 2]]\n",
      "\n",
      "14 : [[0, 0], [2, 3], [0, 6], [0, 3], [4, 6], [6, 6]] \n"
     ]
    },
    {
     "data": {
      "image/png": "[encoded data removed]",
      "text/plain": [
       "<Figure size 432x288 with 1 Axes>"
      ]
     },
     "metadata": {
      "needs_background": "light"
     },
     "output_type": "display_data"
    },
    {
     "name": "stdout",
     "output_type": "stream",
     "text": [
      "Solution: [[0, 0], [2, 3], [0, 6], [0, 3], [4, 6], [6, 6]]\n",
      "[w, h]:   [[8, 3], [6, 3], [4, 2], [2, 3], [2, 2], [2, 2]]\n",
      "\n",
      "15 : [[0, 2], [2, 5], [0, 0], [0, 5], [4, 0], [6, 0]] \n"
     ]
    },
    {
     "data": {
      "image/png": "[encoded data removed]",
      "text/plain": [
       "<Figure size 432x288 with 1 Axes>"
      ]
     },
     "metadata": {
      "needs_background": "light"
     },
     "output_type": "display_data"
    },
    {
     "name": "stdout",
     "output_type": "stream",
     "text": [
      "Solution: [[0, 2], [2, 5], [0, 0], [0, 5], [4, 0], [6, 0]]\n",
      "[w, h]:   [[8, 3], [6, 3], [4, 2], [2, 3], [2, 2], [2, 2]]\n",
      "\n",
      "16 : [[0, 0], [2, 5], [2, 3], [0, 3], [0, 6], [6, 3]] \n"
     ]
    },
    {
     "data": {
      "image/png": "[encoded data removed]",
      "text/plain": [
       "<Figure size 432x288 with 1 Axes>"
      ]
     },
     "metadata": {
      "needs_background": "light"
     },
     "output_type": "display_data"
    },
    {
     "name": "stdout",
     "output_type": "stream",
     "text": [
      "Solution: [[0, 0], [2, 5], [2, 3], [0, 3], [0, 6], [6, 3]]\n",
      "[w, h]:   [[8, 3], [6, 3], [4, 2], [2, 3], [2, 2], [2, 2]]\n",
      "\n",
      "17 : [[0, 0], [2, 5], [2, 3], [0, 5], [0, 3], [6, 3]] \n"
     ]
    },
    {
     "data": {
      "image/png": "[encoded data removed]",
      "text/plain": [
       "<Figure size 432x288 with 1 Axes>"
      ]
     },
     "metadata": {
      "needs_background": "light"
     },
     "output_type": "display_data"
    },
    {
     "name": "stdout",
     "output_type": "stream",
     "text": [
      "Solution: [[0, 0], [2, 5], [2, 3], [0, 5], [0, 3], [6, 3]]\n",
      "[w, h]:   [[8, 3], [6, 3], [4, 2], [2, 3], [2, 2], [2, 2]]\n",
      "\n",
      "18 : [[0, 0], [2, 3], [2, 6], [0, 3], [0, 6], [6, 6]] \n"
     ]
    },
    {
     "data": {
      "image/png": "[encoded data removed]",
      "text/plain": [
       "<Figure size 432x288 with 1 Axes>"
      ]
     },
     "metadata": {
      "needs_background": "light"
     },
     "output_type": "display_data"
    },
    {
     "name": "stdout",
     "output_type": "stream",
     "text": [
      "Solution: [[0, 0], [2, 3], [2, 6], [0, 3], [0, 6], [6, 6]]\n",
      "[w, h]:   [[8, 3], [6, 3], [4, 2], [2, 3], [2, 2], [2, 2]]\n",
      "\n",
      "19 : [[0, 0], [2, 3], [2, 6], [0, 5], [0, 3], [6, 6]] \n"
     ]
    },
    {
     "data": {
      "image/png": "[encoded data removed]",
      "text/plain": [
       "<Figure size 432x288 with 1 Axes>"
      ]
     },
     "metadata": {
      "needs_background": "light"
     },
     "output_type": "display_data"
    },
    {
     "name": "stdout",
     "output_type": "stream",
     "text": [
      "Solution: [[0, 0], [2, 3], [2, 6], [0, 5], [0, 3], [6, 6]]\n",
      "[w, h]:   [[8, 3], [6, 3], [4, 2], [2, 3], [2, 2], [2, 2]]\n",
      "\n",
      "20 : [[0, 2], [2, 5], [2, 0], [0, 5], [0, 0], [6, 0]] \n"
     ]
    },
    {
     "data": {
      "image/png": "[encoded data removed]",
      "text/plain": [
       "<Figure size 432x288 with 1 Axes>"
      ]
     },
     "metadata": {
      "needs_background": "light"
     },
     "output_type": "display_data"
    },
    {
     "name": "stdout",
     "output_type": "stream",
     "text": [
      "Solution: [[0, 2], [2, 5], [2, 0], [0, 5], [0, 0], [6, 0]]\n",
      "[w, h]:   [[8, 3], [6, 3], [4, 2], [2, 3], [2, 2], [2, 2]]\n",
      "\n",
      "21 : [[0, 0], [2, 5], [4, 3], [0, 3], [0, 6], [2, 3]] \n"
     ]
    },
    {
     "data": {
      "image/png": "[encoded data removed]",
      "text/plain": [
       "<Figure size 432x288 with 1 Axes>"
      ]
     },
     "metadata": {
      "needs_background": "light"
     },
     "output_type": "display_data"
    },
    {
     "name": "stdout",
     "output_type": "stream",
     "text": [
      "Solution: [[0, 0], [2, 5], [4, 3], [0, 3], [0, 6], [2, 3]]\n",
      "[w, h]:   [[8, 3], [6, 3], [4, 2], [2, 3], [2, 2], [2, 2]]\n",
      "\n",
      "22 : [[0, 0], [2, 5], [4, 3], [0, 5], [0, 3], [2, 3]] \n"
     ]
    },
    {
     "data": {
      "image/png": "[encoded data removed]",
      "text/plain": [
       "<Figure size 432x288 with 1 Axes>"
      ]
     },
     "metadata": {
      "needs_background": "light"
     },
     "output_type": "display_data"
    },
    {
     "name": "stdout",
     "output_type": "stream",
     "text": [
      "Solution: [[0, 0], [2, 5], [4, 3], [0, 5], [0, 3], [2, 3]]\n",
      "[w, h]:   [[8, 3], [6, 3], [4, 2], [2, 3], [2, 2], [2, 2]]\n",
      "\n",
      "23 : [[0, 0], [2, 3], [4, 6], [0, 3], [0, 6], [2, 6]] \n"
     ]
    },
    {
     "data": {
      "image/png": "[encoded data removed]",
      "text/plain": [
       "<Figure size 432x288 with 1 Axes>"
      ]
     },
     "metadata": {
      "needs_background": "light"
     },
     "output_type": "display_data"
    },
    {
     "name": "stdout",
     "output_type": "stream",
     "text": [
      "Solution: [[0, 0], [2, 3], [4, 6], [0, 3], [0, 6], [2, 6]]\n",
      "[w, h]:   [[8, 3], [6, 3], [4, 2], [2, 3], [2, 2], [2, 2]]\n",
      "\n",
      "24 : [[0, 0], [2, 3], [4, 6], [0, 5], [0, 3], [2, 6]] \n"
     ]
    },
    {
     "data": {
      "image/png": "[encoded data removed]",
      "text/plain": [
       "<Figure size 432x288 with 1 Axes>"
      ]
     },
     "metadata": {
      "needs_background": "light"
     },
     "output_type": "display_data"
    },
    {
     "name": "stdout",
     "output_type": "stream",
     "text": [
      "Solution: [[0, 0], [2, 3], [4, 6], [0, 5], [0, 3], [2, 6]]\n",
      "[w, h]:   [[8, 3], [6, 3], [4, 2], [2, 3], [2, 2], [2, 2]]\n",
      "\n",
      "25 : [[0, 2], [2, 5], [4, 0], [0, 5], [0, 0], [2, 0]] \n"
     ]
    },
    {
     "data": {
      "image/png": "[encoded data removed]",
      "text/plain": [
       "<Figure size 432x288 with 1 Axes>"
      ]
     },
     "metadata": {
      "needs_background": "light"
     },
     "output_type": "display_data"
    },
    {
     "name": "stdout",
     "output_type": "stream",
     "text": [
      "Solution: [[0, 2], [2, 5], [4, 0], [0, 5], [0, 0], [2, 0]]\n",
      "[w, h]:   [[8, 3], [6, 3], [4, 2], [2, 3], [2, 2], [2, 2]]\n",
      "\n",
      "Tot: 26\n",
      "\n"
     ]
    }
   ],
   "source": [
    "model_name = \"pwp_v8-same-dim.mzn\"\n",
    "instance_name = \"8x8-same-dim\"\n",
    "\"\"\"\n",
    "Particular instance\n",
    "8 8\n",
    "4\n",
    "3 4\n",
    "5 2\n",
    "5 2\n",
    "8 4\n",
    "\"\"\"\n",
    "path = f\"CP/Instances/{instance_name}.txt\"\n",
    "pr_w, pr_h, n_pieces, L = read_instance(path)\n",
    "unordered_pieces = list(L)\n",
    "decr_order = True\n",
    "\n",
    "L = order_pieces(unordered_pieces, reverse=decr_order)\n",
    "\n",
    "solutions = %minizinc -a -s CP/$model_name -t 300000\n",
    "\n",
    "\n",
    "print_solutions(solutions, {'w': pr_w, 'h': pr_h, 'n': n_pieces, 'p': L})\n"
   ]
  },
  {
   "cell_type": "code",
   "execution_count": 26,
   "metadata": {},
   "outputs": [
    {
     "name": "stdout",
     "output_type": "stream",
     "text": [
      "%%%mzn-stat: nSolutions=4\n",
      "Solver output:\n",
      "Generated FlatZinc statistics:\n",
      "mzn-stat: paths=0\n",
      "mzn-stat: flatBoolVars=4\n",
      "mzn-stat: flatIntVars=13\n",
      "mzn-stat: flatBoolConstraints=2\n",
      "mzn-stat: flatIntConstraints=12\n",
      "mzn-stat: evaluatedHalfReifiedConstraints=4\n",
      "mzn-stat: method=\"satisfy\"\n",
      "mzn-stat: flatTime=0.158362\n",
      "mzn-stat-end\n",
      "mzn-stat: initTime=0.002\n",
      "mzn-stat: solveTime=0\n",
      "mzn-stat: solutions=4\n",
      "mzn-stat: variables=30\n",
      "mzn-stat: propagators=12\n",
      "mzn-stat: propagations=78\n",
      "mzn-stat: nodes=7\n",
      "mzn-stat: failures=0\n",
      "mzn-stat: restarts=0\n",
      "mzn-stat: peakDepth=2\n",
      "mzn-stat-end\n",
      "0 : [[0, 3], [5, 3], [0, 0], [5, 0]] \n"
     ]
    },
    {
     "data": {
      "image/png": "[encoded data removed]",
      "text/plain": [
       "<Figure size 432x288 with 1 Axes>"
      ]
     },
     "metadata": {
      "needs_background": "light"
     },
     "output_type": "display_data"
    },
    {
     "name": "stdout",
     "output_type": "stream",
     "text": [
      "Solution: [[0, 3], [5, 3], [0, 0], [5, 0]]\n",
      "[w, h]:   [[5, 5], [3, 5], [5, 3], [3, 3]]\n",
      "\n",
      "1 : [[0, 0], [5, 3], [0, 5], [5, 0]] \n"
     ]
    },
    {
     "data": {
      "image/png": "[encoded data removed]",
      "text/plain": [
       "<Figure size 432x288 with 1 Axes>"
      ]
     },
     "metadata": {
      "needs_background": "light"
     },
     "output_type": "display_data"
    },
    {
     "name": "stdout",
     "output_type": "stream",
     "text": [
      "Solution: [[0, 0], [5, 3], [0, 5], [5, 0]]\n",
      "[w, h]:   [[5, 5], [3, 5], [5, 3], [3, 3]]\n",
      "\n",
      "2 : [[0, 3], [5, 0], [0, 0], [5, 5]] \n"
     ]
    },
    {
     "data": {
      "image/png": "[encoded data removed]",
      "text/plain": [
       "<Figure size 432x288 with 1 Axes>"
      ]
     },
     "metadata": {
      "needs_background": "light"
     },
     "output_type": "display_data"
    },
    {
     "name": "stdout",
     "output_type": "stream",
     "text": [
      "Solution: [[0, 3], [5, 0], [0, 0], [5, 5]]\n",
      "[w, h]:   [[5, 5], [3, 5], [5, 3], [3, 3]]\n",
      "\n",
      "3 : [[0, 0], [5, 0], [0, 5], [5, 5]] \n"
     ]
    },
    {
     "data": {
      "image/png": "[encoded data removed]",
      "text/plain": [
       "<Figure size 432x288 with 1 Axes>"
      ]
     },
     "metadata": {
      "needs_background": "light"
     },
     "output_type": "display_data"
    },
    {
     "name": "stdout",
     "output_type": "stream",
     "text": [
      "Solution: [[0, 0], [5, 0], [0, 5], [5, 5]]\n",
      "[w, h]:   [[5, 5], [3, 5], [5, 3], [3, 3]]\n",
      "\n",
      "Tot: 4\n",
      "\n",
      "[{'q': [[0, 3], [5, 3], [0, 0], [5, 0]]}, {'q': [[0, 0], [5, 3], [0, 5], [5, 0]]}, {'q': [[0, 3], [5, 0], [0, 0], [5, 5]]}, {'q': [[0, 0], [5, 0], [0, 5], [5, 5]]}]\n"
     ]
    }
   ],
   "source": [
    "model_name = \"pwp_v8\"\n",
    "instance_name = \"8x8\"\n",
    "\n",
    "path = f\"CP/Instances/{instance_name}.txt\"\n",
    "pr_w, pr_h, n_pieces, L = read_instance(path)\n",
    "unordered_pieces = list(L)\n",
    "decr_order = True\n",
    "\n",
    "L = order_pieces(unordered_pieces, reverse=decr_order)\n",
    "\n",
    "solutions = %minizinc -a -s CP/pwp_v8.mzn -t 300000\n",
    "\n",
    "# Update L for each piece rotated\n",
    "\n",
    "print_solutions(solutions, {'w': pr_w, 'h': pr_h, 'n': n_pieces, 'p': L})\n",
    "print(solutions)\n",
    "save_solution(\"CP/out\", pr_w, pr_h, n_pieces, L, solutions)"
   ]
  },
  {
   "cell_type": "code",
   "execution_count": 55,
   "metadata": {},
   "outputs": [
    {
     "name": "stdout",
     "output_type": "stream",
     "text": [
      "|| === Instance 8x8 === ||\n",
      "%%%mzn-stat: nSolutions=1\n",
      "Solver output:\n",
      "Generated FlatZinc statistics:\n",
      "mzn-stat: paths=0\n",
      "mzn-stat: flatBoolVars=4\n",
      "mzn-stat: flatIntVars=13\n",
      "mzn-stat: flatBoolConstraints=2\n",
      "mzn-stat: flatIntConstraints=14\n",
      "mzn-stat: evaluatedHalfReifiedConstraints=4\n",
      "mzn-stat: method=\"satisfy\"\n",
      "mzn-stat: flatTime=0.185039\n",
      "mzn-stat-end\n",
      "mzn-stat: initTime=0.019\n",
      "mzn-stat: solveTime=0.005\n",
      "mzn-stat: solutions=1\n",
      "mzn-stat: variables=38\n",
      "mzn-stat: propagators=12\n",
      "mzn-stat: propagations=36\n",
      "mzn-stat: nodes=3\n",
      "mzn-stat: failures=0\n",
      "mzn-stat: restarts=0\n",
      "mzn-stat: peakDepth=2\n",
      "mzn-stat-end\n"
     ]
    },
    {
     "data": {
      "image/png": "[encoded data removed]",
      "text/plain": [
       "<Figure size 432x288 with 1 Axes>"
      ]
     },
     "metadata": {
      "needs_background": "light"
     },
     "output_type": "display_data"
    },
    {
     "name": "stdout",
     "output_type": "stream",
     "text": [
      "Solution: [[5, 0], [5, 3], [0, 0], [0, 3]]\n",
      "[w, h]:   [[3, 3], [3, 5], [5, 3], [5, 5]]\n",
      "\n",
      "Pieces: [[3, 3], [3, 5], [5, 3], [5, 5]]\n",
      "\n",
      "\n",
      "\n"
     ]
    }
   ],
   "source": [
    "starting_instance = 8\n",
    "ending_instance = 8\n",
    "\n",
    "for i in range(starting_instance, ending_instance+1):\n",
    "    path = f\"CP/Instances/{i}x{i}.txt\"\n",
    "    pr_w, pr_h, n_pieces, L = read_instance(path)\n",
    "    \n",
    "    print(f\"|| === Instance {i}x{i} === ||\")\n",
    "    # execute the model to get the first solution in 5 min max\n",
    "    sol = %minizinc -s CP/pwp_v8.mzn -t 300000\n",
    "    \n",
    "    if sol is not None:\n",
    "        graph_solution(pr_w, pr_h, n_pieces, L, sol['q'])\n",
    "    else:\n",
    "        print(\"No solution found in 5min\")\n",
    "        \n",
    "    print(f\"Pieces: {L}\")\n",
    "    print(\"\\n\\n\")"
   ]
  },
  {
   "cell_type": "raw",
   "metadata": {},
   "source": [
    "SMT"
   ]
  },
  {
   "cell_type": "code",
   "execution_count": 16,
   "metadata": {},
   "outputs": [],
   "source": [
    "def create_model(pr_w, pr_h, n_pieces, L):\n",
    "    q = [ [ Int(\"c_%s_%s\" % (i, j)) for j in range(2) ] for i in range(n_pieces) ]\n",
    "    domain = [And(0<=q[i][0],q[i][0]<=pr_w-L[i][0],0<=q[i][1],q[i][1]<= pr_h-L[i][1]) for i in range(n_pieces)]\n",
    "    \n",
    "    #--Symmetry breaking rules--\n",
    "    #  Domain reduction\n",
    "    areas = [L[i][0]*L[i][1] for i in range(n_pieces)]\n",
    "    index_largest_p = areas.index(max(areas))\n",
    "    domain_red = [And(q[index_largest_p][0]<=int((pr_w-L[index_largest_p][0])/2), q[index_largest_p][1]<=int((pr_h-L[index_largest_p][1])/2))]\n",
    "    \n",
    "    l_i_j = [Bool(\"l_%s_%s\" % (i, j)) for i in range(n_pieces) for j in [x for x in range(n_pieces) if x != i]]\n",
    "    u_i_j = [Bool(\"u_%s_%s\" % (i, j)) for i in range(n_pieces) for j in [x for x in range(n_pieces) if x != i]]\n",
    "\n",
    "    #--Large Rectangles--And(Implies(pack, dep))\n",
    "    large_rec_1 = [And(\n",
    "            Implies(L[i][0]+L[j][0]>pr_w, And(Not(l_i_j[i*(n_pieces-1)+(j-1)]), Not(l_i_j[i+j*(n_pieces-1)])))\n",
    "         ) for i in range(n_pieces) for j in range(i+1,n_pieces) ]\n",
    "    large_rec_2 = [And(\n",
    "            Implies(L[i][1]+L[j][1]>pr_h, And(Not(u_i_j[i*(n_pieces-1)+(j-1)]), Not(u_i_j[i+j*(n_pieces-1)])))\n",
    "         ) for i in range(n_pieces) for j in range(i+1,n_pieces) ]\n",
    "    \n",
    "    l_val = [And(l_i_j[i*(n_pieces-1)+(j-1 if j>i else j)]==(q[i][0]+L[i][0]<=q[j][0])\n",
    "                  ) for i in range(n_pieces) for j in [x for x in range(n_pieces) if x != i]]\n",
    "\n",
    "    u_val = [And(u_i_j[i*(n_pieces-1)+(j-1 if j>i else j)]==(q[i][1]+L[i][1]<=q[j][1])\n",
    "                  ) for i in range(n_pieces) for j in [x for x in range(n_pieces) if x != i]]\n",
    "\n",
    "    e = Int('e')\n",
    "    f = Int('f')\n",
    "\n",
    "    e_dom = [And(e>=0, e<=pr_w-L[i][0]) for i in range(n_pieces)]\n",
    "    f_dom = [And(f>=0, f<=pr_h-L[i][1]) for i in range(n_pieces)]\n",
    "\n",
    "    Px = [ Bool(\"px_%s\" % (i)) for i in range(n_pieces) ]\n",
    "    Py = [ Bool(\"py_%s\" % (i)) for i in range(n_pieces) ]\n",
    "\n",
    "\n",
    "    px_t = [And(Px[i]==(q[i][0]<=e),\n",
    "               ) for i in range(n_pieces)]\n",
    "    py_t = [And(Py[i]==(q[i][1]<=f),\n",
    "               ) for i in range(n_pieces)]\n",
    "\n",
    "    #;Order Encoding\n",
    "    o_e_px = [ And(\n",
    "        Or(\n",
    "            Not(Px[i]), q[i][0]<=(e+1)\n",
    "         )) for i in range(n_pieces)]\n",
    "    o_e_py = [ And(\n",
    "        Or(\n",
    "            Not(Py[i]), q[i][1]<=(f+1)\n",
    "         )) for i in range(n_pieces)]\n",
    "\n",
    "    #;Non-Overlapping 1\n",
    "    n_o_1 = [ And(\n",
    "        Or(\n",
    "            l_i_j[i*(n_pieces-1)+(j-1)], l_i_j[i+j*(n_pieces-1)], u_i_j[i*(n_pieces-1)+(j-1)], u_i_j[i+j*(n_pieces-1)]\n",
    "         )) for i in range(n_pieces) for j in range(i+1,n_pieces) ]\n",
    "\n",
    "    #;Non-Overlapping 2\n",
    "    n_o_2_1 = [ And(\n",
    "            Or(Not(l_i_j[i*(n_pieces-1)+(j-1)]), Px[i], Not(q[j][0]<=(e+L[i][0])))\n",
    "                ) for i in range(n_pieces) for j in range(i+1,n_pieces) ]\n",
    "\n",
    "    n_o_2_2 = [ And(\n",
    "            Or(Not(l_i_j[j*(n_pieces-1)+i]), Px[j], Not(q[j][0]<=(e+L[j][0])))\n",
    "                ) for i in range(n_pieces) for j in range(i+1,n_pieces)]\n",
    "\n",
    "    n_o_2_3 = [ And(\n",
    "            Or(Not(u_i_j[i*(n_pieces-1)+(j-1)]), Py[i], Not(q[j][1]<=(f+L[i][1])))\n",
    "                ) for i in range(n_pieces) for j in range(i+1,n_pieces) ]\n",
    "\n",
    "    n_o_2_4 = [ And(\n",
    "            Or(Not(u_i_j[j*(n_pieces-1)+i]), Py[j], Not(q[i][1]<=(f+L[j][1])))\n",
    "                ) for i in range(n_pieces) for j in range(i+1,n_pieces) ]\n",
    "    \n",
    "    return q, domain + domain_red + large_rec_1 + large_rec_2 + l_val + u_val + e_dom + f_dom + px_t + py_t + o_e_px + o_e_py + n_o_1 + n_o_2_1 + n_o_2_2 + n_o_2_3 + n_o_2_4"
   ]
  },
  {
   "cell_type": "code",
   "execution_count": 100,
   "metadata": {},
   "outputs": [],
   "source": [
    "def create_model2(pr_w, pr_h, n_pieces, L):\n",
    "    q = [ [ Int(\"c_%s_%s\" % (i, j)) for j in range(2) ] for i in range(n_pieces) ]\n",
    "    domain = [And(0<=q[i][0],q[i][0]<pr_w,0<=q[i][1],q[i][1]< pr_h) for i in range(n_pieces)]\n",
    "    in_strip = [And(pr_w>=q[i][0]+L[i][0],pr_h>=q[i][1]+L[i][1]) for i in range(n_pieces)]\n",
    "    l_i_j = [Bool(\"l_%s_%s\" % (i, j)) for i in range(n_pieces) for j in [x for x in range(n_pieces) if x != i]]\n",
    "    u_i_j = [Bool(\"u_%s_%s\" % (i, j)) for i in range(n_pieces) for j in [x for x in range(n_pieces) if x != i]]\n",
    "\n",
    "    l_prova = [And(l_i_j[i*(n_pieces-1)+(j-1 if j>i else j)]==(q[i][0]+L[i][0]<=q[j][0])\n",
    "                  ) for i in range(n_pieces) for j in [x for x in range(n_pieces) if x != i]]\n",
    "\n",
    "    u_prova = [And(u_i_j[i*(n_pieces-1)+(j-1 if j>i else j)]==(q[i][1]+L[i][1]<=q[j][1])\n",
    "                  ) for i in range(n_pieces) for j in [x for x in range(n_pieces) if x != i]]\n",
    "\n",
    "    e = Int('e')\n",
    "    f = Int('f')\n",
    "    \n",
    "    max_e = max([pr_w-L[i][0] for i in range(n_pieces)])\n",
    "    max_f = max([pr_h-L[i][1] for i in range(n_pieces)])\n",
    "\n",
    "    e_dom = [And(e>=0, e<=pr_w-L[i][0]) for i in range(n_pieces)]\n",
    "    f_dom = [And(f>=0, f<=pr_h-L[i][1]) for i in range(n_pieces)]\n",
    "\n",
    "    px = [ Bool(\"px_%s_%s\" % (i, j)) for j in range(max_e) for i in range(n_pieces) ]\n",
    "    py = [ Bool(\"py_%s_%s\" % (i, j)) for j in range(max_f) for i in range(n_pieces) ]\n",
    "\n",
    "    px_t = [And(px[(j*(n_pieces)+i)]==(q[i][0]<=j),\n",
    "               ) for i in range(n_pieces) for j in range(max_e)]\n",
    "    py_t = [And(py[(j*(n_pieces)+i)]==(q[i][1]<=j),\n",
    "               ) for j in range(max_f) for i in range(n_pieces)]\n",
    "\n",
    "    #;Order Encoding\n",
    "    o_e_px = [ And(\n",
    "        Or(\n",
    "            Not(px[(j*(n_pieces)+i)]), px[((j+1)*(n_pieces)+i)]\n",
    "         )) for i in range(n_pieces) for j in range(max_e-1) ]\n",
    "    o_e_py = [ And(\n",
    "        Or(\n",
    "            Not(py[(j*(n_pieces)+i)]), py[((j+1)*(n_pieces)+i)]\n",
    "         )) for i in range(n_pieces) for j in range(max_f-1) ]\n",
    "\n",
    "    index = [\"%s-%s\"%(i, j) for i in range(n_pieces) for j in range(i+1,n_pieces)] \n",
    "\n",
    "    #;Non-Overlapping 1\n",
    "    n_o_1 = [ And(\n",
    "        Or(\n",
    "            l_i_j[i*(n_pieces-1)+(j-1)], l_i_j[i+j*(n_pieces-1)], u_i_j[i*(n_pieces-1)+(j-1)], u_i_j[i+j*(n_pieces-1)]\n",
    "         )) for i in range(n_pieces) for j in range(i+1,n_pieces) ]\n",
    "\n",
    "    #;Non-Overlapping 2\n",
    "    n_o_2_1 = [ And(\n",
    "            Or(Not(l_i_j[i*(n_pieces-1)+(j-1)]), px[(e*(n_pieces)+i)], Not(px[((e+L[i][0])*(n_pieces)+j)]))\n",
    "                ) for i in range(n_pieces) for j in range(i+1,n_pieces) for e in range(max_e-L[i][0]) ]\n",
    "\n",
    "    n_o_2_2 = [ And(\n",
    "            Or(Not(l_i_j[j*(n_pieces-1)+i]), px[(e*(n_pieces)+j)], Not(px[((e+L[j][0])*(n_pieces)+i)]))\n",
    "                ) for i in range(n_pieces) for j in range(i+1,n_pieces) for e in range(max_e-L[j][0]) ]\n",
    "\n",
    "    n_o_2_3 = [ And(\n",
    "            Or(Not(u_i_j[i*(n_pieces-1)+(j-1)]), py[(f*(n_pieces)+i)], Not(py[((f+L[i][1])*(n_pieces)+j)]))\n",
    "                ) for i in range(n_pieces) for j in range(i+1,n_pieces) for f in range(max_f-L[i][1]) ]\n",
    "\n",
    "    n_o_2_4 = [ And(\n",
    "            Or(Not(u_i_j[j*(n_pieces-1)+i]), py[(f*(n_pieces)+j)], Not(py[((f+L[j][1])*(n_pieces)+i)]))\n",
    "                ) for i in range(n_pieces) for j in range(i+1,n_pieces) for f in range(max_f-L[j][1]) ]\n",
    "    \n",
    "    return q, domain + in_strip + l_prova + u_prova + e_dom + f_dom + px_t + py_t + o_e_px + o_e_py + n_o_1 #+ n_o_2_1 + n_o_2_2 + n_o_2_3 + n_o_2_4"
   ]
  },
  {
   "cell_type": "code",
   "execution_count": 20,
   "metadata": {},
   "outputs": [
    {
     "name": "stdout",
     "output_type": "stream",
     "text": [
      "|| === Instance 22x22 === ||\n",
      "{0.980} secs\n",
      "coords:   [[3, 4], [10, 18], [6, 19], [3, 17], [0, 4], [10, 0], [19, 14], [0, 0], [13, 13], [3, 7], [10, 7], [0, 10], [13, 0], [19, 0], [16, 0], [6, 0]]\n"
     ]
    },
    {
     "data": {
      "image/png": "[encoded data removed]",
      "text/plain": [
       "<Figure size 432x288 with 1 Axes>"
      ]
     },
     "metadata": {
      "needs_background": "light"
     },
     "output_type": "display_data"
    },
    {
     "name": "stdout",
     "output_type": "stream",
     "text": [
      "Solution: [[3, 4], [10, 18], [6, 19], [3, 17], [0, 4], [10, 0], [19, 14], [0, 0], [13, 13], [3, 7], [10, 7], [0, 10], [13, 0], [19, 0], [16, 0], [6, 0]]\n",
      "[w, h]:   [[3, 3], [3, 4], [4, 3], [3, 5], [3, 6], [3, 7], [3, 8], [6, 4], [3, 9], [3, 10], [3, 11], [3, 12], [3, 13], [3, 14], [3, 22], [4, 19]]\n",
      "\n",
      "Tot: 1\n",
      "\n",
      "Pieces: [[3, 3], [3, 4], [4, 3], [3, 5], [3, 6], [3, 7], [3, 8], [6, 4], [3, 9], [3, 10], [3, 11], [3, 12], [3, 13], [3, 14], [3, 22], [4, 19]]\n",
      "\n",
      "\n",
      "\n",
      "Wall time: 1.57 s\n"
     ]
    }
   ],
   "source": [
    "%%time\n",
    "import time\n",
    "\n",
    "starting_instance = 22\n",
    "ending_instance = 22\n",
    "\n",
    "for i in range(starting_instance, ending_instance+1):\n",
    "    \n",
    "    path = f\"CP/Instances/{i}x{i}.txt\"\n",
    "    pr_w, pr_h, n_pieces, L = read_instance(path)\n",
    "    \n",
    "    print(f\"|| === Instance {i}x{i} === ||\")\n",
    "    unordered_pieces = list(L)\n",
    "    \n",
    "    decr_order = False\n",
    "    L = order_pieces(unordered_pieces, reverse=decr_order)\n",
    "    model = create_model(pr_w, pr_h, n_pieces, L) #0: variables, 1:constraints\n",
    "    q = model[0]\n",
    "    s = Solver()\n",
    "    \n",
    "    s.add(model[1])\n",
    "    #s.set(\"timeout\", 600)\n",
    "    \n",
    "    start = time.time()\n",
    "    res = s.check()\n",
    "    end = time.time()\n",
    "    print(\"{%.3f} secs\" % (end - start))\n",
    "\n",
    "    if res == z3.unsat:\n",
    "        print(\"Unsat\")\n",
    "        continue\n",
    "    \n",
    "    sol = s.model()\n",
    "    #print(s.statistics())\n",
    "    solution=[[sol[q[p][0]].as_long(), sol[q[p][1]].as_long()] for p in range(n_pieces)]\n",
    "    \n",
    "    prova = {'q': solution}\n",
    "    print_solutions(prova, {'w': pr_w, 'h': pr_h, 'n': n_pieces, 'p': L})\n",
    "        \n",
    "    print(f\"Pieces: {L}\")\n",
    "    print(\"\\n\\n\")\n",
    "\n",
    "\n"
   ]
  },
  {
   "cell_type": "code",
   "execution_count": 312,
   "metadata": {},
   "outputs": [],
   "source": [
    "q = [ [ Int(\"c_%s_%s\" % (i, j)) for j in range(2) ] for i in range(n_pieces) ]\n",
    "domain = [And(0<=q[i][0],q[i][0]<pr_w,0<=q[i][1],q[i][1]< pr_h) for i in range(n_pieces)]\n",
    "in_strip = [And(pr_w>=q[i][0]+L[i][0],pr_h>=q[i][1]+L[i][1]) for i in range(n_pieces)]\n",
    "l_i_j = [Bool(\"l_%s_%s\" % (i, j)) for i in range(n_pieces) for j in [x for x in range(n_pieces) if x != i]]\n",
    "u_i_j = [Bool(\"u_%s_%s\" % (i, j)) for i in range(n_pieces) for j in [x for x in range(n_pieces) if x != i]]\n",
    "\n",
    "\"\"\"\n",
    "l = [And(l_i_j[0]==(q[0][0]+L[0][0]<=q[1][0]), l_i_j[1]==(q[0][0]+L[0][0]<=q[2][0]), l_i_j[2]==(q[0][0]+L[0][0]<=q[3][0]),\n",
    "         l_i_j[3]==(q[1][0]+L[1][0]<=q[0][0]), l_i_j[4]==(q[1][0]+L[1][0]<=q[2][0]), l_i_j[5]==(q[1][0]+L[1][0]<=q[3][0]),\n",
    "         l_i_j[6]==(q[2][0]+L[2][0]<=q[0][0]), l_i_j[7]==(q[2][0]+L[2][0]<=q[1][0]), l_i_j[8]==(q[2][0]+L[2][0]<=q[3][0]),\n",
    "         l_i_j[9]==(q[3][0]+L[3][0]<=q[0][0]), l_i_j[10]==(q[3][0]+L[3][0]<=q[1][0]), l_i_j[11]==(q[3][0]+L[3][0]<=q[2][0])\n",
    "        )]\n",
    "\"\"\"\n",
    "l_prova = [And(l_i_j[i*(n_pieces-1)+(j-1 if j>i else j)]==(q[i][0]+L[i][0]<=q[j][0])\n",
    "            \n",
    "            ) for i in range(n_pieces) for j in [x for x in range(n_pieces) if x != i]]\n",
    "\n",
    "\"\"\"\n",
    "u = [And(u_i_j[0]==(q[0][1]+L[0][1]<=q[1][1]), u_i_j[1]==(q[0][1]+L[0][1]<=q[2][1]), u_i_j[2]==(q[0][1]+L[0][1]<=q[3][1]),\n",
    "         u_i_j[3]==(q[1][1]+L[1][1]<=q[0][1]), u_i_j[4]==(q[1][1]+L[1][1]<=q[2][1]), u_i_j[5]==(q[1][1]+L[1][1]<=q[3][1]),\n",
    "         u_i_j[6]==(q[2][1]+L[2][1]<=q[0][1]), u_i_j[7]==(q[2][1]+L[2][1]<=q[1][1]), u_i_j[8]==(q[2][1]+L[2][1]<=q[3][1]),\n",
    "         u_i_j[9]==(q[3][1]+L[3][1]<=q[0][1]), u_i_j[10]==(q[3][1]+L[3][1]<=q[1][1]), u_i_j[11]==(q[3][1]+L[3][1]<=q[2][1])\n",
    "        )]\n",
    "\"\"\"\n",
    "u_prova = [And(u_i_j[i*(n_pieces-1)+(j-1 if j>i else j)]==(q[i][1]+L[i][1]<=q[j][1])\n",
    "            \n",
    "            ) for i in range(n_pieces) for j in [x for x in range(n_pieces) if x != i]]\n",
    "\n",
    "e = Int('e')\n",
    "f = Int('f')\n",
    "\n",
    "max_e = max([pr_w-L[i][0] for i in range(n_pieces)])\n",
    "max_f = max([pr_h-L[i][1] for i in range(n_pieces)])\n",
    "\n",
    "e_dom = [And(e>=0, e<=pr_w-L[i][0]) for i in range(n_pieces)]\n",
    "f_dom = [And(f>=0, f<=pr_h-L[i][1]) for i in range(n_pieces)]\n",
    "\n",
    "\n",
    "px = [ Bool(\"px_%s_%s\" % (i, j)) for j in range(max_e) for i in range(n_pieces) ]\n",
    "py = [ Bool(\"py_%s_%s\" % (i, j)) for j in range(max_f) for i in range(n_pieces) ]\n",
    "\n",
    "px_t = [And(px[(j*(n_pieces)+i)]==(q[i][0]<=j),\n",
    "        ) for i in range(n_pieces) for j in range(max_e)]\n",
    "py_t = [And(py[(j*(n_pieces)+i)]==(q[i][1]<=j),\n",
    "        ) for j in range(max_f) for i in range(n_pieces)]\n",
    "\n",
    "#;Order Encoding\n",
    "\n",
    "o_e_px = [ And(\n",
    "    Or(\n",
    "        Not(px[(j*(n_pieces)+i)]), px[((j+1)*(n_pieces)+i)]\n",
    "     )) for i in range(n_pieces) for j in range(max_e-1) ]\n",
    "o_e_py = [ And(\n",
    "    Or(\n",
    "        Not(py[(j*(n_pieces)+i)]), py[((j+1)*(n_pieces)+i)]\n",
    "     )) for i in range(n_pieces) for j in range(max_f-1) ]\n",
    "#A = Array('A', IntSort(), IntSort())\n",
    "#type(A[e])\n",
    "index = [\"%s-%s\"%(i, j) for i in range(n_pieces) for j in range(i+1,n_pieces)] \n",
    "#['0-1', '0-2', '0-3', '1-2', '1-3', '2-3']\n",
    "#['0',   '1',   '2',   '4',   '5',   '8']  i*3+(j-1)\n",
    "#['3',   '6',   '9',   '7',   '10',   '11'] i+j*3\n",
    "\n",
    "#;Non-Overlapping 1\n",
    "n_o_1 = [ And(\n",
    "    Or(\n",
    "        l_i_j[i*(n_pieces-1)+(j-1)], l_i_j[i+j*(n_pieces-1)], u_i_j[i*(n_pieces-1)+(j-1)], u_i_j[i+j*(n_pieces-1)]\n",
    "     )) for i in range(n_pieces) for j in range(i+1,n_pieces) ]\n",
    "\n",
    "#;Non-Overlapping 2\n",
    "n_o_2_1 = [ And(\n",
    "        Or(Not(l_i_j[i*(n_pieces-1)+(j-1)]), px[(e*(n_pieces)+i)], Not(px[((e+L[i][0])*(n_pieces)+j)]))\n",
    "            ) for i in range(n_pieces) for j in range(i+1,n_pieces) for e in range(max_e-L[i][0]) ]\n",
    "\n",
    "n_o_2_2 = [ And(\n",
    "        Or(Not(l_i_j[j*(n_pieces-1)+i]), px[(e*(n_pieces)+j)], Not(px[((e+L[j][0])*(n_pieces)+i)]))\n",
    "            ) for i in range(n_pieces) for j in range(i+1,n_pieces) for e in range(max_e-L[j][0]) ]\n",
    "\n",
    "n_o_2_3 = [ And(\n",
    "        Or(Not(u_i_j[i*(n_pieces-1)+(j-1)]), py[(f*(n_pieces)+i)], Not(py[((f+L[i][1])*(n_pieces)+j)]))\n",
    "            ) for i in range(n_pieces) for j in range(i+1,n_pieces) for f in range(max_f-L[i][1]) ]\n",
    "\n",
    "n_o_2_4 = [ And(\n",
    "        Or(Not(u_i_j[j*(n_pieces-1)+i]), py[(f*(n_pieces)+j)], Not(py[((f+L[j][1])*(n_pieces)+i)]))\n",
    "            ) for i in range(n_pieces) for j in range(i+1,n_pieces) for f in range(max_f-L[j][1]) ]\n",
    "        "
   ]
  },
  {
   "cell_type": "code",
   "execution_count": 313,
   "metadata": {},
   "outputs": [
    {
     "name": "stdout",
     "output_type": "stream",
     "text": [
      "coords:   [[3, 8], [3, 0], [0, 0], [0, 5], [6, 8], [6, 0], [3, 4]]\n"
     ]
    },
    {
     "data": {
      "image/png": "[encoded data removed]",
      "text/plain": [
       "<Figure size 432x288 with 1 Axes>"
      ]
     },
     "metadata": {
      "needs_background": "light"
     },
     "output_type": "display_data"
    },
    {
     "name": "stdout",
     "output_type": "stream",
     "text": [
      "Solution: [[3, 8], [3, 0], [0, 0], [0, 5], [6, 8], [6, 0], [3, 4]]\n",
      "[w, h]:   [[3, 3], [3, 4], [3, 5], [3, 6], [5, 3], [5, 4], [8, 4]]\n",
      "\n",
      "Tot: 1\n",
      "\n",
      "Wall time: 145 ms\n"
     ]
    }
   ],
   "source": [
    "%%time\n",
    "s = Solver()\n",
    "s.add(domain + in_strip + l_prova + u_prova + e_dom + f_dom + px_t + py_t + o_e_px + o_e_py + n_o_1 + n_o_2_1 + n_o_2_2 + n_o_2_3 + n_o_2_4) #overflow + intersection)\n",
    "s.check()\n",
    "sol = s.model()\n",
    "solution=[[sol[q[i][0]].as_long(), sol[q[i][1]].as_long()] for i in range(n_pieces)]\n",
    "\n",
    "\n",
    "prova = {'q': solution}\n",
    "print_solutions(prova, {'w': pr_w, 'h': pr_h, 'n': n_pieces, 'p': L})"
   ]
  },
  {
   "cell_type": "code",
   "execution_count": 60,
   "metadata": {},
   "outputs": [
    {
     "data": {
      "text/plain": [
       "(8, 8, 4, [[3, 3], [3, 5], [5, 3], [5, 5]])"
      ]
     },
     "execution_count": 60,
     "metadata": {},
     "output_type": "execute_result"
    }
   ],
   "source": [
    "instance = \"8x8\"\n",
    "path = f\"CP/Instances/{instance}.txt\"\n",
    "pr_w, pr_h, n_pieces, L = read_instance(path)\n",
    "\n",
    "unordered_pieces = list(L)\n",
    "decr_order = True\n",
    "\n",
    "#L = order_pieces(unordered_pieces, reverse=decr_order)\n",
    "pr_w, pr_h, n_pieces, L"
   ]
  },
  {
   "cell_type": "code",
   "execution_count": null,
   "metadata": {},
   "outputs": [],
   "source": []
  }
 ],
 "metadata": {
  "kernelspec": {
   "display_name": "Python 3",
   "language": "python",
   "name": "python3"
  },
  "language_info": {
   "codemirror_mode": {
    "name": "ipython",
    "version": 3
   },
   "file_extension": ".py",
   "mimetype": "text/x-python",
   "name": "python",
   "nbconvert_exporter": "python",
   "pygments_lexer": "ipython3",
   "version": "3.6.10"
  }
 },
 "nbformat": 4,
 "nbformat_minor": 4
}
